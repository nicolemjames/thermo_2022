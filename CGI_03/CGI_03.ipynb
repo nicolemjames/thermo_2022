{
 "cells": [
  {
   "cell_type": "markdown",
   "id": "9d6b736d",
   "metadata": {},
   "source": [
    "Make sure you fill in any place that says `YOUR CODE HERE` or \"YOUR ANSWER HERE\", and delete any instances of `raise NotImplementedError()` (those are just to make sure you don't forget to complete a block. "
   ]
  },
  {
   "cell_type": "markdown",
   "id": "28e0e3d5",
   "metadata": {},
   "source": [
    "---"
   ]
  },
  {
   "cell_type": "markdown",
   "id": "9c1f82de",
   "metadata": {
    "deletable": false,
    "editable": false,
    "nbgrader": {
     "cell_type": "markdown",
     "checksum": "a7a25f803f9f70c629c4bf5fcad1e772",
     "grade": false,
     "grade_id": "cell-365acec404eb1fca",
     "locked": true,
     "schema_version": 3,
     "solution": false,
     "task": false
    }
   },
   "source": [
    "# Enthalpy \n",
    "\n",
    "**Module 1 learning goals repeated in this CGI:**<br>\n",
    "Goal 1.2: Plot state functions <br>\n",
    "Goal 1.3: Interpret surface plots of state functions to make predictions about gases<br>\n",
    "\n",
    "**Module 2 learning goals in this CGI:**<br>\n",
    "Goal 2.5: Derive $H(T,P)$ for gaseous systems <br>\n",
    "Goal 2.6: Calculate $\\Delta H$ for processes, and interpret the results <br>\n",
    "Goal 2.7: Describe enthalpy and changes in enthalpy from a mechanistic, molecular perspective <br>\n",
    "Goal 2.8: Identify and interpret the Joule-Thomson coefficient <br>\n",
    "\n",
    "In this CGI, we will refer back to the U(T,V) surfaces you used in CGI_02, to determine the enthalpy surfaces of three gaseous systems. We will then use these surfaces to describe how enthalpy, changes in enthalpy, and the Joule-Thomson coefficient depend on molecular properties."
   ]
  },
  {
   "cell_type": "code",
   "execution_count": null,
   "id": "4f7c37ae",
   "metadata": {
    "deletable": false,
    "editable": false,
    "nbgrader": {
     "cell_type": "code",
     "checksum": "fb806db68f72f5953d7dc4af18114ac4",
     "grade": false,
     "grade_id": "cell-39598eba2067064f",
     "locked": true,
     "schema_version": 3,
     "solution": false,
     "task": false
    }
   },
   "outputs": [],
   "source": [
    "from numpy import * #note this methods loads the package and we can call functions from it by name e.g. \"function\"\n",
    "from matplotlib.pyplot import *\n",
    "import matplotlib.pyplot as plt #here, instead of calling \"function\" we must call \"plt.function\"\n",
    "from mpl_toolkits.mplot3d import axes3d\n",
    "import sympy as sp #thus all sympy function calls will need to be prefaced by sp. - to tell python where to look \n",
    "import PchemLibrary as PL # this is a file we created with special functions we will use "
   ]
  },
  {
   "cell_type": "code",
   "execution_count": null,
   "id": "5f4d4406",
   "metadata": {
    "deletable": false,
    "editable": false,
    "nbgrader": {
     "cell_type": "code",
     "checksum": "e3e1d9628e55ceea5253b05ae833826f",
     "grade": false,
     "grade_id": "cell-a704b9940d08cb95",
     "locked": true,
     "schema_version": 3,
     "solution": false,
     "task": false
    }
   },
   "outputs": [],
   "source": [
    "%matplotlib inline"
   ]
  },
  {
   "cell_type": "code",
   "execution_count": null,
   "id": "9f595b30",
   "metadata": {
    "deletable": false,
    "editable": false,
    "nbgrader": {
     "cell_type": "code",
     "checksum": "bd9526dde71edf4a89d509bfdfedb6a5",
     "grade": false,
     "grade_id": "cell-fb985431272852d8",
     "locked": true,
     "schema_version": 3,
     "solution": false,
     "task": false
    }
   },
   "outputs": [],
   "source": [
    "%matplotlib widget"
   ]
  },
  {
   "cell_type": "markdown",
   "id": "ed1bda81",
   "metadata": {
    "deletable": false,
    "editable": false,
    "nbgrader": {
     "cell_type": "markdown",
     "checksum": "cf29d3047dca53dd04367c21e9b34419",
     "grade": false,
     "grade_id": "cell-5b267c8e010c96c1",
     "locked": true,
     "schema_version": 3,
     "solution": false,
     "task": false
    }
   },
   "source": [
    "## Section 3.1: Visualizing H(T,P) \n",
    "As discussed in class and in Engel & Reid, Enthalpy is defined as:\n",
    "$$\n",
    "H=U+PV \\ \\ \\ \\ (1) \n",
    "$$\n",
    "\n",
    "In the cell below:\n",
    "1. Use `PL.statespace(xspecs, yspecs)` to generate `Tgrid` and `Vgrid`. Let `Tgrid` contain 30 points ranging from 100 to 1,000 K, and let `Vgrid` contain 30 points ranging from 1 to 50 m$^3$. \n",
    "2. Use `Tgrid` to compute the molar internal energy of an ideal gas over this range, and plot the resulting surface. (Hint: $U_\\text{ideal}=\\frac{3}{2}nRT$)"
   ]
  },
  {
   "cell_type": "code",
   "execution_count": null,
   "id": "c85d8475",
   "metadata": {
    "deletable": false,
    "nbgrader": {
     "cell_type": "code",
     "checksum": "fef334617f3d116e70a8f7a65210f7ed",
     "grade": true,
     "grade_id": "cell-c5340925a6f1a0d8",
     "locked": false,
     "points": 1,
     "schema_version": 3,
     "solution": true,
     "task": false
    }
   },
   "outputs": [],
   "source": [
    "#generate Tgrid, Vgrid\n",
    "\n",
    "#calculate Ugrid_ideal \n",
    "\n",
    "#plot Ugrid_ideal over Tgrid, Vgrid. \n",
    "#Label axes! With units! \n",
    "\n",
    "# YOUR CODE HERE\n",
    "raise NotImplementedError()\n"
   ]
  },
  {
   "cell_type": "markdown",
   "id": "0735b23c",
   "metadata": {
    "deletable": false,
    "editable": false,
    "nbgrader": {
     "cell_type": "markdown",
     "checksum": "3d7bb7ff8fe9544b9f749c35de54edb2",
     "grade": false,
     "grade_id": "cell-a142034daccd9d15",
     "locked": true,
     "schema_version": 3,
     "solution": false,
     "task": false
    }
   },
   "source": [
    "Use eqn (1) above to calculate $H$ from your `Ugrid_ideal`, and plot it as a function of $T$ and $P$ (i.e., $H(T,P)$). \n",
    "\n",
    "Hint: You will have to create `Tgrid` and `Pgrid`; let `Tgrid` remain the same; let `Pgrid` contain 30 points that range from $1.0\\cdot 10^7$ Pa to $1.0\\cdot10^9$ Pa."
   ]
  },
  {
   "cell_type": "code",
   "execution_count": null,
   "id": "e0fc34fb",
   "metadata": {
    "deletable": false,
    "nbgrader": {
     "cell_type": "code",
     "checksum": "773bbbde30b628ef2b9fe034d75c52da",
     "grade": true,
     "grade_id": "cell-746e09d79c590b6f",
     "locked": false,
     "points": 1,
     "schema_version": 3,
     "solution": true,
     "task": false
    }
   },
   "outputs": [],
   "source": [
    "#Use Tgrid and Vgrid to calculate Pgrid \n",
    "\n",
    "\n",
    "#determine Hgrid_ideal\n",
    "\n",
    "\n",
    "#plot - don't forget labels and units! \n",
    "\n",
    "# YOUR CODE HERE\n",
    "raise NotImplementedError()"
   ]
  },
  {
   "cell_type": "markdown",
   "id": "fdca3da1",
   "metadata": {
    "deletable": false,
    "editable": false,
    "nbgrader": {
     "cell_type": "markdown",
     "checksum": "420d81c4224240a68964fd79f28dcdfd",
     "grade": false,
     "grade_id": "cell-8317c93c3832a595",
     "locked": true,
     "schema_version": 3,
     "solution": false,
     "task": false
    }
   },
   "source": [
    "**Interpret your answer**. In the markdown cell below, describe:\n",
    "1. The relationship between your enthalpy surface and your internal energy surface. Does this make sense? Why or why not? \n",
    "2. The dependence on P. Is this what you expect? Why or why not? \n",
    "3. The dependence on T. Is this what you expect? Why or why not?"
   ]
  },
  {
   "cell_type": "markdown",
   "id": "228030fd",
   "metadata": {
    "deletable": false,
    "nbgrader": {
     "cell_type": "markdown",
     "checksum": "69ef8b7c88cd893ad681f49eb05c942a",
     "grade": true,
     "grade_id": "cell-61e37b0c3612e2a1",
     "locked": false,
     "points": 1,
     "schema_version": 3,
     "solution": true,
     "task": false
    }
   },
   "source": [
    "YOUR ANSWER HERE"
   ]
  },
  {
   "cell_type": "markdown",
   "id": "03efedc3",
   "metadata": {
    "deletable": false,
    "editable": false,
    "nbgrader": {
     "cell_type": "markdown",
     "checksum": "12c11bb991093daef0c18bcdb5187904",
     "grade": false,
     "grade_id": "cell-a148c5eba43f7a1c",
     "locked": true,
     "schema_version": 3,
     "solution": false,
     "task": false
    }
   },
   "source": [
    "Now, we would like to generate and plot `Hgrid` for two real systems: N$_2$ and H$_2$O. These are real gases, so we will model thiem using the van der Waal's equation. \n",
    "\n",
    "Fundamentally this works the same as the ideal gas case above, but the van der Waal's equation is difficult to solve for $V$. The code below will do this for you, generating the $V$ in terms of `Tgrid` and `Pgrid` for N$_2$ and H$_2$O, (called `V_n2` and `V_h2o`, respectively).\n",
    "\n",
    "This may take a few minutes! The cell will print a message to confirm when it's complete."
   ]
  },
  {
   "cell_type": "code",
   "execution_count": null,
   "id": "b1d21538",
   "metadata": {
    "deletable": false,
    "editable": false,
    "nbgrader": {
     "cell_type": "code",
     "checksum": "ff8e28ec5b31e6bcd42986a37d447cd0",
     "grade": false,
     "grade_id": "cell-0a381caa5a13d086",
     "locked": true,
     "schema_version": 3,
     "solution": false,
     "task": false
    }
   },
   "outputs": [],
   "source": [
    "R= 8.314 #J/mol K\n",
    "n=1.0 #mol \n",
    "\n",
    "V= sp.symbols('V')\n",
    "\n",
    "\n",
    "# computing the volume for the n2 system\n",
    "V_n2=[] #volume for n2 system \n",
    "a_n2=0.137 #Pa (m^3)^2 / mol^2\n",
    "b_n2=3.87e-5 # m^3 / mol\n",
    "solved_for_0_n2 = ((n*R*Tgrid)/(V-n*b_n2))-(n*n*a_n2/V*V)-Pgrid #vdw eqn solved for 0\n",
    "\n",
    "#Tgrid and Pgrid are a 2D array; sp.solve can only work on individual entries. \n",
    "#so we will use it entry by entry: \n",
    "for i in solved_for_0_n2: \n",
    "    row=[float(sp.solve(j,V)[0]) for j in i] #goes through everything in a row\n",
    "    V_n2.append(row) #adds that row to the list V_n2 \n",
    "\n",
    "V_n2=np.array(V_n2) #convert our list of lists back to an array \n",
    "\n",
    "\n",
    "#computing the volume for the H2O system \n",
    "V_h2o=[]\n",
    "a_h2o=0.5536 #Pa (m^3)^2 / mol^2\n",
    "b_h2o=3.049e-5 #m^3 / mol \n",
    "solved_for_0_h2o = ((n*R*Tgrid)/(V-n*b_h2o))-(n*n*a_h2o/V*V)-Pgrid #vdw eqn solved for 0\n",
    "\n",
    "#Tgrid and Pgrid are a 2D array; sp.solve can only work on individual entries. \n",
    "#so we will use it entry by entry: \n",
    "for i in solved_for_0_h2o: \n",
    "    row=[float(sp.solve(j,V)[0]) for j in i] #goes through everything in a row\n",
    "    V_h2o.append(row) #adds that row to the list V_n2 \n",
    "\n",
    "V_h2o=np.array(V_h2o) #convert our list of lists back to an array \n",
    "print(\"It\\'s done!\")"
   ]
  },
  {
   "cell_type": "markdown",
   "id": "1a4e530f",
   "metadata": {
    "deletable": false,
    "editable": false,
    "nbgrader": {
     "cell_type": "markdown",
     "checksum": "db85bf4615a09aeaf5633923cca52ec2",
     "grade": false,
     "grade_id": "cell-094dea005be090b8",
     "locked": true,
     "schema_version": 3,
     "solution": false,
     "task": false
    }
   },
   "source": [
    "In the cell below, calculate and plot $H(T,P)$ for the N$_2$ and H$_2$O gaseous systems. To simplify comparisons, use `ax.set_zlim(min, max)` to set the z-axis to range from 0 to 45000 J. "
   ]
  },
  {
   "cell_type": "code",
   "execution_count": null,
   "id": "639dee7d",
   "metadata": {
    "deletable": false,
    "nbgrader": {
     "cell_type": "code",
     "checksum": "470f1f8729c2d083102579087aa68f22",
     "grade": true,
     "grade_id": "cell-aab25ebf6cf2caff",
     "locked": false,
     "points": 1,
     "schema_version": 3,
     "solution": true,
     "task": false
    }
   },
   "outputs": [],
   "source": [
    "# YOUR CODE HERE\n",
    "raise NotImplementedError()\n"
   ]
  },
  {
   "cell_type": "markdown",
   "id": "028f732e",
   "metadata": {
    "deletable": false,
    "editable": false,
    "nbgrader": {
     "cell_type": "markdown",
     "checksum": "e52b3e9cb34e8d93239e1995560bda46",
     "grade": false,
     "grade_id": "cell-2b5258cb97afbcb0",
     "locked": true,
     "schema_version": 3,
     "solution": false,
     "task": false
    }
   },
   "source": [
    "**Interpret your answer.** In the markdown cell below, address:\n",
    "1. What are the similarities in $H(T,P)$ across these three systems (ideal gas, N$_2$ gas, and H$_2$O gas)?\n",
    "2. What are the differences? Where do these differences come from? Explain from a molecular perspective. (There's an extra code cell below if you would like to plot the differences in these surfaces to help visualize) \n",
    "3. Are there any assumptions that went into your determination of H for these systems? If so, how valid do you think those assumptions are? "
   ]
  },
  {
   "cell_type": "markdown",
   "id": "aa93dd96",
   "metadata": {
    "deletable": false,
    "nbgrader": {
     "cell_type": "markdown",
     "checksum": "d858b279f5f627cc1eb48e7fac602ca8",
     "grade": true,
     "grade_id": "cell-3b76cc14808d52cf",
     "locked": false,
     "points": 1,
     "schema_version": 3,
     "solution": true,
     "task": false
    }
   },
   "source": [
    "YOUR ANSWER HERE"
   ]
  },
  {
   "cell_type": "code",
   "execution_count": null,
   "id": "201aa231",
   "metadata": {
    "deletable": false,
    "nbgrader": {
     "cell_type": "code",
     "checksum": "2eda3e310fad9d451e602e74c76fa24a",
     "grade": true,
     "grade_id": "cell-808b784a0c1edfa0",
     "locked": false,
     "points": 1,
     "schema_version": 3,
     "solution": true,
     "task": false
    }
   },
   "outputs": [],
   "source": [
    "# optional: you can plot differences in the surfaces if desired\n",
    "\n",
    "# YOUR CODE HERE\n",
    "raise NotImplementedError()"
   ]
  },
  {
   "cell_type": "markdown",
   "id": "8e419096",
   "metadata": {
    "deletable": false,
    "editable": false,
    "nbgrader": {
     "cell_type": "markdown",
     "checksum": "51de0feb30335992724a5f7e20c02621",
     "grade": false,
     "grade_id": "cell-47963f6adb073685",
     "locked": true,
     "schema_version": 3,
     "solution": false,
     "task": false
    }
   },
   "source": [
    "### Section 3.1 Reflection \n",
    "\n",
    "In the Chemical Thermodynamics and Kinetics Reference portion of your notebook: \n",
    "- Record any important equations you needed to use for this work (i.e., the definition of $H$ and the various forms of $U$), with a brief description. \n",
    "- Sketch $H(T,P)$ for an ideal gas and for a real gas. Briefly summarize the differences, and where they come from. \n",
    "\n",
    "Give this section a descriptive name in your table of contents."
   ]
  },
  {
   "cell_type": "markdown",
   "id": "c048a901",
   "metadata": {
    "deletable": false,
    "editable": false,
    "nbgrader": {
     "cell_type": "markdown",
     "checksum": "4faab4b3dca4d1da76d630e1947380b9",
     "grade": false,
     "grade_id": "cell-da8943dd6dcc1933",
     "locked": true,
     "schema_version": 3,
     "solution": false,
     "task": false
    }
   },
   "source": [
    "## Section 3.2: Changes in enthalpy: $\\Delta H$\n",
    "\n",
    "In the markdown cell below, answer the following questions:\n",
    "1. Is $H$ a path function or a state function? How do you know?\n",
    "2. Is $\\Delta H$ a path function or a state function? How do you know? "
   ]
  },
  {
   "cell_type": "markdown",
   "id": "cff4ea86",
   "metadata": {
    "deletable": false,
    "nbgrader": {
     "cell_type": "markdown",
     "checksum": "541b383591946c19f2e1b0846d211012",
     "grade": true,
     "grade_id": "cell-5c5180600684f30f",
     "locked": false,
     "points": 1,
     "schema_version": 3,
     "solution": true,
     "task": false
    }
   },
   "source": [
    "YOUR ANSWER HERE"
   ]
  },
  {
   "cell_type": "markdown",
   "id": "0be1ee5a",
   "metadata": {
    "deletable": false,
    "editable": false,
    "nbgrader": {
     "cell_type": "markdown",
     "checksum": "47267c14d944474c03106d87b39e1411",
     "grade": false,
     "grade_id": "cell-06c30a010eec451f",
     "locked": true,
     "schema_version": 3,
     "solution": false,
     "task": false
    }
   },
   "source": [
    "Let's compare the change in enthalpy over a process. To do this, we will need to be able to access specific entries in `Hgrid`. There's a useful python tool for this: array indexing. `list[n]` will return the nth item in the list (or an array).  \n",
    "\n",
    "Consider the code below. What do you think will happen? Run the cell and see. "
   ]
  },
  {
   "cell_type": "code",
   "execution_count": null,
   "id": "54abd944",
   "metadata": {
    "deletable": false,
    "editable": false,
    "nbgrader": {
     "cell_type": "code",
     "checksum": "44d1c91d946306ade38f1c319bd00ed6",
     "grade": false,
     "grade_id": "cell-5fb61e7863f92fa6",
     "locked": true,
     "schema_version": 3,
     "solution": false,
     "task": false
    }
   },
   "outputs": [],
   "source": [
    "x=np.array([2,4,6])\n",
    "print(x[1])"
   ]
  },
  {
   "cell_type": "markdown",
   "id": "30de979b",
   "metadata": {
    "deletable": false,
    "editable": false,
    "nbgrader": {
     "cell_type": "markdown",
     "checksum": "f215c0ca7f87657b106a58a4accb13c4",
     "grade": false,
     "grade_id": "cell-df7b9e982518d225",
     "locked": true,
     "schema_version": 3,
     "solution": false,
     "task": false
    }
   },
   "source": [
    "Surprised? Python starts indexing entries with 0 (not 1). Consider the two-dimensional array below. What do you think it will return? Run the code and see."
   ]
  },
  {
   "cell_type": "code",
   "execution_count": null,
   "id": "249f8cf9",
   "metadata": {
    "deletable": false,
    "editable": false,
    "nbgrader": {
     "cell_type": "code",
     "checksum": "85906f21e1eb88bb5b137b0018a9c4b9",
     "grade": false,
     "grade_id": "cell-462f725793a79b57",
     "locked": true,
     "schema_version": 3,
     "solution": false,
     "task": false
    }
   },
   "outputs": [],
   "source": [
    "y=np.array([[1,2,3],[4,5,6],[7,8,9]])\n",
    "print(y[0][1])"
   ]
  },
  {
   "cell_type": "markdown",
   "id": "6048b5d3",
   "metadata": {
    "deletable": false,
    "editable": false,
    "nbgrader": {
     "cell_type": "markdown",
     "checksum": "adaf5aa262f3dcda67a50e1f78f8997f",
     "grade": false,
     "grade_id": "cell-c88330cbe718a071",
     "locked": true,
     "schema_version": 3,
     "solution": false,
     "task": false
    }
   },
   "source": [
    "Now, let's calculate the change in enthalpy over our entire temperature range (100-1000 K), at constant $P=1.0\\cdot10^7 \\text{ Pa}$ (the minimum pressure in `Pgrid`). To begin, complete the tasks in the cell below. \n",
    "\n",
    "Hint: A cool thing about array indexing: it wraps around! An index of `-1` will brings you to the last entry in the array."
   ]
  },
  {
   "cell_type": "code",
   "execution_count": null,
   "id": "44cdf3a5",
   "metadata": {
    "deletable": false,
    "nbgrader": {
     "cell_type": "code",
     "checksum": "e0d175dd209ef4d759d1fa97ab8b1ccb",
     "grade": true,
     "grade_id": "cell-cb5c0848d080be7d",
     "locked": false,
     "points": 1,
     "schema_version": 3,
     "solution": true,
     "task": false
    }
   },
   "outputs": [],
   "source": [
    "#calculate initial and final H for the ideal gas\n",
    "Hideal_i, Hideal_f=Hgrid_ideal[0][0], Hgrid_ideal[-1][0] #J\n",
    "\n",
    "#calculate initial and final H for N2 gas \n",
    "\n",
    "#calculate intiial and final H for H2O gas \n",
    "\n",
    "#print all values \n",
    "print(\"H ideal, J, (i, f): \",Hideal_i,\", \", Hideal_f)\n",
    "\n",
    "#Calculate dH_ideal, dH_n2, and dH_h2o \n",
    "\n",
    "#print these values (include labels and units!) \n",
    "\n",
    "# YOUR CODE HERE\n",
    "raise NotImplementedError()"
   ]
  },
  {
   "cell_type": "markdown",
   "id": "9e45be3d",
   "metadata": {
    "deletable": false,
    "editable": false,
    "nbgrader": {
     "cell_type": "markdown",
     "checksum": "f712643ea7979a8939f661669ac749de",
     "grade": false,
     "grade_id": "cell-d60f9c35f2686807",
     "locked": true,
     "schema_version": 3,
     "solution": false,
     "task": false
    }
   },
   "source": [
    "**Interpret your answer.** In the markdown cell below: \n",
    "1. Are these processes exothermic or endothermic? How do you know? \n",
    "2. Why is $\\Delta H$ different for these different systems? Make an argument for why your $\\Delta H$ results make sense. Incorporate $q_P$ and $C_P$ into your answer. \n",
    "2. Describe how this connects to our discussion of thermodynamic processes: What type of process is occuring here? How does the relationship between $q_P$, $C_P$, and $\\Delta H$ facilitate calculations associated with thermodynamic processes? \n"
   ]
  },
  {
   "cell_type": "markdown",
   "id": "54713d68",
   "metadata": {
    "deletable": false,
    "nbgrader": {
     "cell_type": "markdown",
     "checksum": "edab680ac9d0568a01479740004703eb",
     "grade": true,
     "grade_id": "cell-df8e4ff160728374",
     "locked": false,
     "points": 1,
     "schema_version": 3,
     "solution": true,
     "task": false
    }
   },
   "source": [
    "YOUR ANSWER HERE"
   ]
  },
  {
   "cell_type": "markdown",
   "id": "a04e9aa9",
   "metadata": {
    "deletable": false,
    "editable": false,
    "nbgrader": {
     "cell_type": "markdown",
     "checksum": "4091fa4852ef4ad2dc13ef6a2ffaf6eb",
     "grade": false,
     "grade_id": "cell-df4c5360ba4d7c8c",
     "locked": true,
     "schema_version": 3,
     "solution": false,
     "task": false
    }
   },
   "source": [
    "### Section 3.2 Reflection \n",
    "\n",
    "In the Python reference portion of your notebook, add an entry describing list and array indexing. "
   ]
  },
  {
   "cell_type": "markdown",
   "id": "a51c0f59",
   "metadata": {
    "deletable": false,
    "editable": false,
    "nbgrader": {
     "cell_type": "markdown",
     "checksum": "8d4370d96bbaedfdd7754ed58ac9f8f0",
     "grade": false,
     "grade_id": "cell-4fe58a3702341094",
     "locked": true,
     "schema_version": 3,
     "solution": false,
     "task": false
    }
   },
   "source": [
    "## Section 3.3: The Joule-Thompson Coefficient\n",
    "\n",
    "As discussed in class, the Joule-Thomson experiment allows empirical measurement of $(\\delta U/\\delta V)_T$. In the markdown cell below, briefly describe how this experiment works. "
   ]
  },
  {
   "cell_type": "markdown",
   "id": "d917d89e",
   "metadata": {
    "deletable": false,
    "nbgrader": {
     "cell_type": "markdown",
     "checksum": "8eec524588a9bfa08255b22f3cff4792",
     "grade": true,
     "grade_id": "cell-d9f10c94b708f858",
     "locked": false,
     "points": 1,
     "schema_version": 3,
     "solution": true,
     "task": false
    }
   },
   "source": [
    "YOUR ANSWER HERE"
   ]
  },
  {
   "cell_type": "markdown",
   "id": "16a08476",
   "metadata": {
    "deletable": false,
    "editable": false,
    "nbgrader": {
     "cell_type": "markdown",
     "checksum": "fc325fa8a0275beb8d8904d61b7dca57",
     "grade": false,
     "grade_id": "cell-4f0ef9fe3a9cea28",
     "locked": true,
     "schema_version": 3,
     "solution": false,
     "task": false
    }
   },
   "source": [
    "In class and in Engel & Reid section 3.7, we introduced the Joule-Thomson coefficient:\n",
    "\n",
    "$$\n",
    "\\mu_\\text{JT}=\\left(\\frac{\\delta T}{\\delta P}\\right)_H \\ \\ \\ (2) \n",
    "$$\n",
    "\n",
    "The Joule-Thomson cofficient describes _isenthalpic_ processes. Before, when we described a process that held a variable constant, this variable was usually one of the state space varibles. That is, we \"cut\" a straight line through the surface, either along the x-axis, or along the y-axis. This is different, we want to find a path on the surface for which the height of the surface does not change, but both the x-axis and y-axis variables $(T, P)$ can change. \n",
    "\n",
    "For this, we need a contour plot. Fortunately, the matplotlib Python package has a function for this: the `contour` function ([documentation here](https://matplotlib.org/3.1.1/api/_as_gen/matplotlib.pyplot.contour.html)). Consider the code below, nd then run the code. Take note! You're about to do something similar. "
   ]
  },
  {
   "cell_type": "code",
   "execution_count": null,
   "id": "25923fc6",
   "metadata": {
    "deletable": false,
    "editable": false,
    "nbgrader": {
     "cell_type": "code",
     "checksum": "8307bfdfda65c76ea3830c514dbc69fa",
     "grade": false,
     "grade_id": "cell-260ec05846d8dd15",
     "locked": true,
     "schema_version": 3,
     "solution": false,
     "task": false
    }
   },
   "outputs": [],
   "source": [
    "#H(T,P)_ideal from above, to remind ourselves of the H ideal gas surface\n",
    "\"\"\"note that normally you could just give the figure a unique name\n",
    "like fig_H_ideal, and then you could easily call the figure up \n",
    "without having to replot the whole thing. But, for me that raises a plt \n",
    "backend error that has something to do with the structure of the jupyter notebook.\n",
    "Maybe it will work for you? Who knows? For now, this works--even if it is inelegant\"\"\"\n",
    "\n",
    "fig = plt.figure() #create the figure window\n",
    "ax = plt.axes(projection='3d') #create a 3D axis in the figure\n",
    "ax.plot_surface(Tgrid, Pgrid, Hgrid_ideal, color='plum') # Make the mesh plot\n",
    "ax.set_ylabel(\"P (Pa)\") # Label axes\n",
    "ax.set_xlabel(\"T (K)\")\n",
    "ax.set_zlabel(\"H (J)\")\n",
    "ax.set_title(\"H Ideal gas\") #label plot \n",
    "\n",
    "#plot the isenthalps using the contour function\n",
    "\n",
    "fig, ax = plt.subplots() #another way to call up a plotting window, ax defines the set of axes  \n",
    "CS = ax.contour(Pgrid, Tgrid, Hgrid_ideal) #plot the contour onto the axes\n",
    "ax.clabel(CS, inline=True, fontsize=10) #label the counters with their enthalpy value \n",
    "ax.set_xlabel(\"P (Pa)\") # Label axes\n",
    "ax.set_ylabel(\"T (K)\")\n",
    "ax.set_title(\"Isoenthalpic contours: ideal gas\")\n"
   ]
  },
  {
   "cell_type": "markdown",
   "id": "457ccb21",
   "metadata": {
    "deletable": false,
    "editable": false,
    "nbgrader": {
     "cell_type": "markdown",
     "checksum": "0fd75c1759db50f81f2c9d2f3e309988",
     "grade": false,
     "grade_id": "cell-d77e94e2f6923e6b",
     "locked": true,
     "schema_version": 3,
     "solution": false,
     "task": false
    }
   },
   "source": [
    "**Interpret this answer.** In the markdown cell below: What is the nature of the pressure-dependence of these isoenthalpy contours? Is this what you would expect? Why or why not? "
   ]
  },
  {
   "cell_type": "markdown",
   "id": "ebb2290b",
   "metadata": {
    "deletable": false,
    "nbgrader": {
     "cell_type": "markdown",
     "checksum": "50940b6350b317e74aac3a9acf0aa896",
     "grade": true,
     "grade_id": "cell-8fbd051c1cb85215",
     "locked": false,
     "points": 1,
     "schema_version": 3,
     "solution": true,
     "task": false
    }
   },
   "source": [
    "YOUR ANSWER HERE"
   ]
  },
  {
   "cell_type": "markdown",
   "id": "12a00377",
   "metadata": {
    "deletable": false,
    "editable": false,
    "nbgrader": {
     "cell_type": "markdown",
     "checksum": "85b23398d8504fbb2df373bbd49c0981",
     "grade": false,
     "grade_id": "cell-07cbf8fdec7bd938",
     "locked": true,
     "schema_version": 3,
     "solution": false,
     "task": false
    }
   },
   "source": [
    "In the two code cells below, plot the $T(P)_H$ isenthalpic contours for N$_2$ and H$_2$O gas."
   ]
  },
  {
   "cell_type": "code",
   "execution_count": null,
   "id": "c864e43f",
   "metadata": {
    "deletable": false,
    "nbgrader": {
     "cell_type": "code",
     "checksum": "373fef02b5e82ac3aa2d8b15cd511104",
     "grade": true,
     "grade_id": "cell-fee292edcfb5f4c2",
     "locked": false,
     "points": 1,
     "schema_version": 3,
     "solution": true,
     "task": false
    }
   },
   "outputs": [],
   "source": [
    "# N2 gas \n",
    "\n",
    "#H2O gas\n",
    "\n",
    "# YOUR CODE HERE\n",
    "raise NotImplementedError()\n"
   ]
  },
  {
   "cell_type": "markdown",
   "id": "18351d10",
   "metadata": {
    "deletable": false,
    "editable": false,
    "nbgrader": {
     "cell_type": "markdown",
     "checksum": "ab66b4b2ca5f6ae2e303bcb5fcf3ac8f",
     "grade": false,
     "grade_id": "cell-aabcaae306642742",
     "locked": true,
     "schema_version": 3,
     "solution": false,
     "task": false
    }
   },
   "source": [
    "**Interpret your answer**. In the markdown cell below, address the following questions:\n",
    "1. How does the behavior $P(T)_H$ vary when describing ideal gases, and increasing non-ideal real gases? \n",
    "2. How do the contour plots above relate to $\\mu_\\text{JT}$? Be as specific as possible. \n",
    "3. At the molecular level, what does $\\mu_\\text{JT}$ tell you about these three systems? Be as specific as possible.\n",
    "4. The industrial method for liquifying N$_2$ gas relies on the Joule-Thomson effect. Based on this model, is it possible to liquify N$_2$ over the pressure and temperature ranges investigated here? Why or why not? \n",
    "5. If your answer to (4) above was yes: over what approximate pressure ranges? If no: do you predict higher or lower pressures would be required? How do you know?"
   ]
  },
  {
   "cell_type": "markdown",
   "id": "2cbdca16",
   "metadata": {
    "deletable": false,
    "nbgrader": {
     "cell_type": "markdown",
     "checksum": "cc2fc42ae3820357e2c6ff82656280f0",
     "grade": true,
     "grade_id": "cell-15bae321ac7b2d47",
     "locked": false,
     "points": 1,
     "schema_version": 3,
     "solution": true,
     "task": false
    }
   },
   "source": [
    "YOUR ANSWER HERE"
   ]
  },
  {
   "cell_type": "markdown",
   "id": "fdb87fce",
   "metadata": {
    "deletable": false,
    "editable": false,
    "nbgrader": {
     "cell_type": "markdown",
     "checksum": "e9d86a307e3f30359b8dfb483efb4e5d",
     "grade": false,
     "grade_id": "cell-65997dcc5391cde1",
     "locked": true,
     "schema_version": 3,
     "solution": false,
     "task": false
    }
   },
   "source": [
    "### Section 3.3 Reflection \n",
    "\n",
    "In the Chemical Thermodynamics and Kinetics Reference portion of your notebook, add an entry for the Joule-Thompson coefficient. Briefly describe it mathematically and conceptually. "
   ]
  },
  {
   "cell_type": "markdown",
   "id": "1f7b8860",
   "metadata": {
    "deletable": false,
    "editable": false,
    "nbgrader": {
     "cell_type": "markdown",
     "checksum": "459495f30ea689b2aa7126509a02ea85",
     "grade": false,
     "grade_id": "cell-09a55db7c0807fe7",
     "locked": true,
     "schema_version": 3,
     "solution": false,
     "task": false
    }
   },
   "source": [
    "Leave the cell below blank.  "
   ]
  },
  {
   "cell_type": "markdown",
   "id": "bf655a68",
   "metadata": {
    "deletable": false,
    "nbgrader": {
     "cell_type": "markdown",
     "checksum": "9e457f11071f0330983a1c7458b74f2a",
     "grade": true,
     "grade_id": "cell-e9a27ca55120ce8d",
     "locked": false,
     "points": 1,
     "schema_version": 3,
     "solution": true,
     "task": false
    }
   },
   "source": [
    "YOUR ANSWER HERE"
   ]
  }
 ],
 "metadata": {
  "kernelspec": {
   "display_name": "Python 3",
   "language": "python",
   "name": "python3"
  },
  "language_info": {
   "codemirror_mode": {
    "name": "ipython",
    "version": 3
   },
   "file_extension": ".py",
   "mimetype": "text/x-python",
   "name": "python",
   "nbconvert_exporter": "python",
   "pygments_lexer": "ipython3",
   "version": "3.8.8"
  }
 },
 "nbformat": 4,
 "nbformat_minor": 5
}
