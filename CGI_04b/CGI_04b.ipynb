{
 "cells": [
  {
   "cell_type": "markdown",
   "id": "9a23892e",
   "metadata": {},
   "source": [
    "Make sure you fill in any place that says `YOUR CODE HERE` or \"YOUR ANSWER HERE\", and delete any instances of `raise NotImplementedError()` (those are just to make sure you don't forget to complete a block. "
   ]
  },
  {
   "cell_type": "markdown",
   "id": "049fd570",
   "metadata": {},
   "source": [
    "---"
   ]
  },
  {
   "cell_type": "markdown",
   "id": "433ddc39",
   "metadata": {
    "deletable": false,
    "editable": false,
    "nbgrader": {
     "cell_type": "markdown",
     "checksum": "d213588f46be06481440c26cb080701f",
     "grade": false,
     "grade_id": "cell-2c5a0c60aa128ce4",
     "locked": true,
     "schema_version": 3,
     "solution": false,
     "task": false
    }
   },
   "source": [
    "# CGI_04 Part B\n",
    "\n",
    "**Learning Goals in this CGI:**<br>\n",
    "Goal 3.3: Use the partition function to calculate the probability of specific energy states <br>\n",
    "Goal 3.4: Interpret and make predictions about the probability of specific energy states <br>\n",
    "\n",
    "In CGI_04a, we explored how to calculate, compare, and interpret the relative weights of configurations for reasonably small systems. \n",
    "\n",
    "Here, we build off us this to examine the probability of specific energy states being occupied _within_ the dominant configuration of the system. "
   ]
  },
  {
   "cell_type": "code",
   "execution_count": null,
   "id": "f278ef76",
   "metadata": {
    "deletable": false,
    "editable": false,
    "nbgrader": {
     "cell_type": "code",
     "checksum": "deba132d7a9c28e16553650f71b651ac",
     "grade": false,
     "grade_id": "cell-d6ba797ffb349330",
     "locked": true,
     "schema_version": 3,
     "solution": false,
     "task": false
    }
   },
   "outputs": [],
   "source": [
    "import numpy as np\n",
    "import matplotlib.pyplot as plt\n",
    "from mpl_toolkits.mplot3d import axes3d"
   ]
  },
  {
   "cell_type": "code",
   "execution_count": null,
   "id": "c1f3f721",
   "metadata": {
    "deletable": false,
    "editable": false,
    "nbgrader": {
     "cell_type": "code",
     "checksum": "f922038fd251d9f759c9332428f1bca7",
     "grade": false,
     "grade_id": "cell-e8ac4e031131f515",
     "locked": true,
     "schema_version": 3,
     "solution": false,
     "task": false
    }
   },
   "outputs": [],
   "source": [
    "%matplotlib inline"
   ]
  },
  {
   "cell_type": "code",
   "execution_count": null,
   "id": "eef9e11b",
   "metadata": {
    "deletable": false,
    "editable": false,
    "nbgrader": {
     "cell_type": "code",
     "checksum": "e1fab23e41287ebb52469bebd518ab99",
     "grade": false,
     "grade_id": "cell-e0208faf990e0ee8",
     "locked": true,
     "schema_version": 3,
     "solution": false,
     "task": false
    }
   },
   "outputs": [],
   "source": [
    "%matplotlib widget"
   ]
  },
  {
   "cell_type": "markdown",
   "id": "8b8436df",
   "metadata": {
    "deletable": false,
    "editable": false,
    "nbgrader": {
     "cell_type": "markdown",
     "checksum": "8cba2524064ae3b0e38a92f352b17022",
     "grade": false,
     "grade_id": "cell-58bd6aa4433e463d",
     "locked": true,
     "schema_version": 3,
     "solution": false,
     "task": false
    }
   },
   "source": [
    "## Section 4.2: The Partition Function \n",
    "\n",
    "In class, we derived the partition function $q$:\n",
    "$$\n",
    "q=\\sum_{n} e^{-\\beta \\varepsilon_n} \\ \\ \\ (1) \n",
    "$$\n",
    "\n",
    "and showed that the probably $p_n$ of occupying any given energy state can be given by: \n",
    "\n",
    "$$\n",
    "p_n =\\frac{e^{-\\beta \\varepsilon_n}}{q} \\ \\ \\ (2) \n",
    "$$\n",
    "\n",
    "where:\n",
    "$$\n",
    "\\beta=\\frac{1}{k_B T} \\ \\ \\ (3) \n",
    "$$\n",
    "\n",
    "For a diatomic molecule, we can model the energies of vibrational states as a harmonic oscillator, where:\n",
    "\n",
    "$$\n",
    "E(n)=(n+1/2)h\\nu \\ \\ \\ (4) \n",
    "$$\n",
    "\n",
    "where $n$ is the vibrational quantum number, $h$ is Planck's constant, and $\\nu$ is the vibrational frequency.\n",
    "\n",
    "### Problem 4.2.1 \n",
    "\n",
    "a.) Below, plot the probabilities of finding a nitrogen molecule in each of the first four vibrational energy states, at $T_1 = 300 \\text{ K}$, $T_2 = 600 \\text{ K}$, and $T_3 = 900 \\text{ K}$. The vibrational frequency for nitrogen is $7.7\\cdot10^{13} \\text{ Hz}$\n",
    "\n",
    "Python Notes: \n",
    "- $e^x$ can be access through `np.exp(x)`\n",
    "- functions can make doing the same thing repeatedly a lot faster - or you can copy paste.\n",
    "- In your plot you may want to set the x-axis ticks to be 1, 2, 3, 4 - since there are no decimal values of $\\varepsilon_n$. Matplotlib has [a function](https://matplotlib.org/stable/api/_as_gen/matplotlib.pyplot.xticks.html) for this: `plt.xticks([xtick1, xtick2, ...])`."
   ]
  },
  {
   "cell_type": "code",
   "execution_count": null,
   "id": "80d56c1e",
   "metadata": {
    "deletable": false,
    "nbgrader": {
     "cell_type": "code",
     "checksum": "9aa35c5fc90221ce43534e094eb04c73",
     "grade": true,
     "grade_id": "cell-2088826cf0a618f4",
     "locked": false,
     "points": 1,
     "schema_version": 3,
     "solution": true,
     "task": false
    }
   },
   "outputs": [],
   "source": [
    "#determine pn for T1, T2, and T3, for each of these four energy states\n",
    "\n",
    "#plot it!\n",
    "#protip: use plt.plot(x,y,'o',linestyle='-') \n",
    "#this way you will see the data points, and the line makes it\n",
    "#easier to read \n",
    "#dont forget a legend!\n",
    "\n",
    "# YOUR CODE HERE\n",
    "raise NotImplementedError()"
   ]
  },
  {
   "cell_type": "markdown",
   "id": "f15516e1",
   "metadata": {
    "deletable": false,
    "editable": false,
    "nbgrader": {
     "cell_type": "markdown",
     "checksum": "e969b5f207c3e966bcd5412d9ac71325",
     "grade": false,
     "grade_id": "cell-37628baa827d097c",
     "locked": true,
     "schema_version": 3,
     "solution": false,
     "task": false
    }
   },
   "source": [
    "b.) **Interpret your answer**. In the markdown cell below, address the following points:\n",
    "1. What is the graph above telling you about this system? \n",
    "2. Is this consistent with what you would expect of the vibrational energy states of a diatomic gas? Why or why not? \n",
    "3. What assumptions go into your calculation and plot above? \n",
    "4. How would the plot above be different if this were for rotational energy states, instead of vibrational?\n",
    "5. How come we take vibrational spectra by irradiating the sample with light, rather than heating the sample? "
   ]
  },
  {
   "cell_type": "code",
   "execution_count": null,
   "id": "53b22b31",
   "metadata": {
    "deletable": false,
    "nbgrader": {
     "cell_type": "code",
     "checksum": "d949fd06e506ca913fb36e8f601fa355",
     "grade": true,
     "grade_id": "cell-22781be97dfe2135",
     "locked": false,
     "points": 1,
     "schema_version": 3,
     "solution": true,
     "task": false
    }
   },
   "outputs": [],
   "source": [
    "# YOUR CODE HERE\n",
    "raise NotImplementedError()"
   ]
  },
  {
   "cell_type": "markdown",
   "id": "2eab6872",
   "metadata": {
    "deletable": false,
    "editable": false,
    "nbgrader": {
     "cell_type": "markdown",
     "checksum": "e52400fa63145caa5f6acfe794e56f50",
     "grade": false,
     "grade_id": "cell-adb4542431dc4298",
     "locked": true,
     "schema_version": 3,
     "solution": false,
     "task": false
    }
   },
   "source": [
    "## Section 4.3: Probability Distributions for Translational States\n",
    "\n",
    "The translational energy states in a cubic container are given by: \n",
    "\n",
    "$$\n",
    "\\epsilon_{n{_x}n{_y}n_{z}}=\\frac{h}{8ma^2}(n^2_x+n^2_y+n^2_z) \\ \\ \\ (5) \n",
    "$$\n",
    "\n",
    "where $a$ is the length of the container and $n_x$, $n_y$, and $n_z$ are integers $1, 2, 3...$. We can substitute this into the partition function (eqn. 1), which would yield:\n",
    "\n",
    "$$\n",
    "q_\\text{trans}=\\sum_{n_x,n_y,n_z=1}^\\infty e^{-\\beta\\varepsilon_{n_x,n_y,n_z}}= \\sum_{n_x=1}^\\infty \\sum_{n_y=1}^\\infty \\sum_{n_z=1}^\\infty \\exp \\left[ -\\beta\\cdot \\frac{h^2}{8ma}(n^2_x+n^2_y+n^2_z)\\right] \\ \\ \\ (6)\n",
    "$$\n",
    "\n",
    "where $\\exp(x)$ represents $e^x$. Because $e^{a+b+c}=e^ae^be^c$, we can formulate this as:\n",
    "\n",
    "$$\n",
    "q_\\text{trans}=\\sum_{n_x=1}^\\infty \\exp \\left[\\beta \\frac{h^2 n_x^2}{8ma^2} \\right] \\cdot\\sum_{n_y=1}^\\infty \\exp \\left[ \\beta \\frac{h^2 n_y^2}{8ma^2} \\right] \\cdot\\sum_{n_z=1}^\\infty \\exp \\left[ \\beta \\frac{h^2 n_z^2}{8ma^2} \\right] \\ \\ \\ (7)\n",
    "$$\n",
    "\n",
    "Note that $n_x=n_y=n_z=1,2,3...$. So, eqn 7 becomes:\n",
    "\n",
    "$$\n",
    "q_\\text{trans}=\\sum_{n=1}^\\infty \\exp \\left[\\beta \\frac{h^2 n^2}{8ma^2} \\right]^3 \\ \\ \\ (8)\n",
    "$$\n",
    "\n",
    "In the case of translational energy states, there are so _many_ possible states, that is a close approximation to treat $n$ as a continuous variable. Doing so allows us to take the integral rather than the sum: \n",
    "\n",
    "$$\n",
    "q_\\text{trans}= \\left( \\int_0^\\infty \\exp \\left[\\beta \\frac{h^2 n^2}{8ma^2} \\right] dn \\right) ^3\\ \\ \\ (9)\n",
    "$$\n",
    "\n",
    "This is an integral of the form: \n",
    "\n",
    "$$\n",
    "\\int_0^\\infty e^{-\\alpha n^2}dn = \\left( \\frac{\\pi}{4\\alpha}\\right)^{1/2}\n",
    "$$\n",
    "\n",
    "Thus:\n",
    "\n",
    "$$\n",
    "q_\\text{trans}= \\left( \\left( \\frac{8m a^2 \\pi}{4\\beta h^2} \\right)^{1/2} \\right)^3 (10)\n",
    "$$\n",
    "\n",
    "Simplifying and substituting in $\\beta=1/ \\left(k_\\text{B}T\\right)$ yields:\n",
    "\n",
    "$$\n",
    "q_\\text{trans}= \\left( \\left( \\frac{2\\pi m k_\\text{B} T}{h^2} \\right)^{1/2}\\cdot a \\right)^3 (11)\n",
    "$$\n",
    "\n",
    "Recall that $a$ is the length of the cubic box. Thus, $a^3=V$ where $V$ is the volume of the box:\n",
    "\n",
    "$$\n",
    "q_\\text{trans}= \\left( \\frac{2\\pi m k_\\text{B} T}{h^2} \\right)^{3/2}\\cdot V \\ \\ \\ (12)\n",
    "$$\n",
    "\n",
    "### Problem 4.3.1 \n",
    "\n",
    "You don't need to understand every step of the derivation above, but: fundamentally, where does eqn (12) come from? "
   ]
  },
  {
   "cell_type": "markdown",
   "id": "07b77098",
   "metadata": {
    "deletable": false,
    "nbgrader": {
     "cell_type": "markdown",
     "checksum": "ff019ea71f7f1c7dfff55c50b08b9ef8",
     "grade": true,
     "grade_id": "cell-a477d2a9a62623e0",
     "locked": false,
     "points": 1,
     "schema_version": 3,
     "solution": true,
     "task": false
    }
   },
   "source": [
    "YOUR ANSWER HERE"
   ]
  },
  {
   "cell_type": "markdown",
   "id": "90cc633c",
   "metadata": {
    "deletable": false,
    "editable": false,
    "nbgrader": {
     "cell_type": "markdown",
     "checksum": "5f91775fb0cecc3108accef448452aaa",
     "grade": false,
     "grade_id": "cell-36d345c18586cb65",
     "locked": true,
     "schema_version": 3,
     "solution": false,
     "task": false
    }
   },
   "source": [
    "**(I promise we are headed somewhere very cool.)**\n",
    "\n",
    "We can describe translational probability distributions in much the same way we described vibrational probability distributions in Problem 4.2.1. To do so, we will use Eqn (12) to calculate the probability of being in a given translational state:\n",
    "\n",
    "$$\n",
    "p_n=\\frac{e^{-\\beta \\varepsilon_n}}{q_\\text{trans}} \\ \\ \\ (13)\n",
    "$$\n",
    "\n",
    "Because translational energy states are so numerous and the gaps between them are very small, we will treat translational energies $\\varepsilon_n$ as continuous and equal to $\\text{KE}=1/2 \\cdot m(v_x^2+v_y^2+v_z^2)$. Thus:\n",
    "\n",
    "$$\n",
    "p_n=\\frac{\\exp\\left(-\\frac{m(v_x^2+v_y^2+v_z^2)}{2k_\\text{B}T}\\right)}{\\left( \\frac{2\\pi m k_\\text{B} T}{h^2} \\right)^{3/2}\\cdot V} \\ \\ \\ (14)\n",
    "$$\n",
    "\n",
    "Which simplifies to:\n",
    "\n",
    "$$\n",
    "p_n= \\frac{1}{V} \\left( \\frac{h^2}{2\\pi m k_\\text{B} T} \\right)^{3/2}\\exp\\left(-\\frac{m(v_x^2+v_y^2+v_z^2)}{2k_\\text{B}T}\\right)\\ \\ \\ (15)\n",
    "$$\n",
    "\n",
    "Notice that when working in cartesian coordinates, we have to decompose velocity into the $x$, $y$, $z$ directions. Instead, we can convert to speed in spherical coordinates, which will simplify our math: \n",
    "\n",
    "$$\n",
    "p_n= \\frac{4\\pi}{V} \\left( \\frac{h^2}{2\\pi m k_\\text{B} T} \\right)^{3/2}v^2 \\exp\\left(-\\frac{mv^2}{2k_\\text{B}T}\\right)\\ \\ \\ (16)\n",
    "$$\n",
    "\n",
    "Where $v$ is now speed. Next, we want to normalize this function. To find the normalization constant $A$, we take the integral over all space. \n",
    "\n",
    "$$\n",
    "\\int_{0}^\\infty \\frac{4\\pi}{V} \\left( \\frac{h^2}{2\\pi m k_\\text{B} T} \\right)^{3/2}v^2\\exp\\left(-\\frac{mv^2}{2k_\\text{B}T}\\right) dv = A \\ \\ \\ (17)\n",
    "$$\n",
    "\n",
    "Bringing the constants out of the integral: \n",
    "\n",
    "$$\n",
    "\\frac{4\\pi}{V} \\left( \\frac{h^2}{2\\pi m k_\\text{B} T} \\right)^{3/2} \\int_{0}^\\infty  v^2 \\exp\\left(-\\frac{mv^2}{2k_\\text{B}T}\\right) dv = A \\ \\ \\ (18)\n",
    "$$\n",
    "\n",
    "Which evaluates to:\n",
    "\n",
    "$$\n",
    "\\frac{4\\pi}{V} \\left( \\frac{h^2}{2\\pi m k_\\text{B} T} \\right)^{3/2} \\frac{k_\\text{B}T}{2m} \\left( \\frac{2\\pi k_\\text{B}T}{m} \\right)^{1/2} = A \\ \\ \\ (19)\n",
    "$$\n",
    "\n",
    "Which magnificently simplifies to: \n",
    "\n",
    "$$\n",
    "A = \\frac{Vm^3}{h^3} \\ \\ \\ (20)\n",
    "$$\n",
    "\n",
    "We can normalize our original function (eqn 16) by dividing by A: \n",
    "\n",
    "$$\n",
    "p_n= \\frac{Vm^3}{h^3} \\cdot  \\frac{4\\pi}{V} \\left( \\frac{h^2}{2\\pi m k_\\text{B} T} \\right)^{3/2}v^2 \\exp\\left(-\\frac{mv^2}{2k_\\text{B}T}\\right)\\ \\ \\ (21)\n",
    "$$\n",
    "\n",
    "Which simplifies to:\n",
    "$$\n",
    "p_n= \\left( \\frac{m}{2\\pi k_\\text{B} T} \\right)^{3/2} 4\\pi v^2 \\exp\\left(-\\frac{mv^2}{2k_\\text{B}T}\\right)\\ \\ \\ (22)\n",
    "$$\n",
    "\n",
    "### Problem 4.3.2\n",
    "\n",
    "a.) Below, plot the speed probability distribution for N$_2$ gas at 300 K, as a function of velocity. Let velocity range from 0 - 1500 m/s. Don't forget to label your axes! Label the curve either with a figure title, or with a legend. \n",
    "\n",
    "Python Notes: \n",
    "- $\\pi$ can be obtained by `np.pi`\n",
    "- It will simplify things to declare $p_n$ as a function that takes inputs $m$, $T$, and $v$. Ask Nicole how to do this if you aren't sure! "
   ]
  },
  {
   "cell_type": "code",
   "execution_count": null,
   "id": "54eb7912",
   "metadata": {
    "deletable": false,
    "nbgrader": {
     "cell_type": "code",
     "checksum": "6569988e461fe2edc01b18e5d16365d2",
     "grade": true,
     "grade_id": "cell-1a66cfc4a51c21ea",
     "locked": false,
     "points": 1,
     "schema_version": 3,
     "solution": true,
     "task": false
    }
   },
   "outputs": [],
   "source": [
    "# YOUR CODE HERE\n",
    "raise NotImplementedError()"
   ]
  },
  {
   "cell_type": "markdown",
   "id": "3967f71e",
   "metadata": {
    "deletable": false,
    "editable": false,
    "nbgrader": {
     "cell_type": "markdown",
     "checksum": "981b3eee42761c394767148ae8898695",
     "grade": false,
     "grade_id": "cell-b25acadfade56cfe",
     "locked": true,
     "schema_version": 3,
     "solution": false,
     "task": false
    }
   },
   "source": [
    "b.) **Interpret your answer**. Explain this plot. What does it look like? Have you ever seen it before? What does it tell you about this system? "
   ]
  },
  {
   "cell_type": "markdown",
   "id": "8f1e8876",
   "metadata": {
    "deletable": false,
    "nbgrader": {
     "cell_type": "markdown",
     "checksum": "200b56f55436a96442e3efacce69d629",
     "grade": true,
     "grade_id": "cell-7a774cf29b6d13bf",
     "locked": false,
     "points": 1,
     "schema_version": 3,
     "solution": true,
     "task": false
    }
   },
   "source": [
    "YOUR ANSWER HERE"
   ]
  },
  {
   "cell_type": "markdown",
   "id": "964a18f4",
   "metadata": {
    "deletable": false,
    "editable": false,
    "nbgrader": {
     "cell_type": "markdown",
     "checksum": "658591566eb721ea0ab450f9406afb34",
     "grade": false,
     "grade_id": "cell-8ff2ee0c43976815",
     "locked": true,
     "schema_version": 3,
     "solution": false,
     "task": false
    }
   },
   "source": [
    "c.) Below:\n",
    "\n",
    "1. Create a figure by calling `plt.figure()`. In that figure, plot the probability distribution of speed for nitrogen at 300 K and 900 K. \n",
    "2. Create a second figure by calling `plt.figure()` again. Plot the probability distribution of speed for radon at 300 K and 900 K."
   ]
  },
  {
   "cell_type": "code",
   "execution_count": null,
   "id": "0a91794f",
   "metadata": {
    "deletable": false,
    "nbgrader": {
     "cell_type": "code",
     "checksum": "8f17b0c53fd1b7c0e3132952ff143447",
     "grade": true,
     "grade_id": "cell-bb301bd5c8446e23",
     "locked": false,
     "points": 1,
     "schema_version": 3,
     "solution": true,
     "task": false
    }
   },
   "outputs": [],
   "source": [
    "# YOUR CODE HERE\n",
    "raise NotImplementedError()"
   ]
  },
  {
   "cell_type": "markdown",
   "id": "240ce644",
   "metadata": {
    "deletable": false,
    "editable": false,
    "nbgrader": {
     "cell_type": "markdown",
     "checksum": "e9ae0897e08452251ea4336393ddb057",
     "grade": false,
     "grade_id": "cell-290620b00add057c",
     "locked": true,
     "schema_version": 3,
     "solution": false,
     "task": false
    }
   },
   "source": [
    "d.) **Interpret your answer**. In the cell below, address the following:\n",
    "1. What happens when temperature increases? Why? Incorporate a discussion of probability and energy states into your answer. \n",
    "2. What is different between the N$_2$ and Radon probabilities? Why are these probabilities different? Incorporate a discussion of energy into your answer.  \n",
    "3. The Maxwell-Boltzmann distribution is often formulated as: \n",
    "$$\n",
    "p_n= \\left( \\frac{M}{2\\pi R T} \\right)^{3/2} 4\\pi v^2 \\exp\\left(-\\frac{Mv^2}{2RT}\\right)\\ \\ \\\n",
    "$$\n",
    "\n",
    "   Where $M$ is molar mass and $R$ is the ideal gas constant. Is this equivalent to what we derived in Eqn (22)? Why or why not? "
   ]
  },
  {
   "cell_type": "markdown",
   "id": "73ff58af",
   "metadata": {
    "deletable": false,
    "nbgrader": {
     "cell_type": "markdown",
     "checksum": "322e5ed10758ca769a3291683a846039",
     "grade": true,
     "grade_id": "cell-9877d6a12392b074",
     "locked": false,
     "points": 1,
     "schema_version": 3,
     "solution": true,
     "task": false
    }
   },
   "source": [
    "YOUR ANSWER HERE"
   ]
  },
  {
   "cell_type": "markdown",
   "id": "827e2688",
   "metadata": {
    "deletable": false,
    "editable": false,
    "nbgrader": {
     "cell_type": "markdown",
     "checksum": "96719d1afa0daad9aa60749556c2f115",
     "grade": false,
     "grade_id": "cell-08e6707d64130432",
     "locked": true,
     "schema_version": 3,
     "solution": false,
     "task": false
    }
   },
   "source": [
    "Leave the box below blank - I use it to provide feedback on the CGI learning goals.  "
   ]
  },
  {
   "cell_type": "code",
   "execution_count": null,
   "id": "18a5cbaa",
   "metadata": {
    "deletable": false,
    "nbgrader": {
     "cell_type": "code",
     "checksum": "53c183fcd96e4f47f28fe81dafe094ff",
     "grade": true,
     "grade_id": "cell-1d57784e7ceea65d",
     "locked": false,
     "points": 1,
     "schema_version": 3,
     "solution": true,
     "task": false
    }
   },
   "outputs": [],
   "source": [
    "# YOUR CODE HERE\n",
    "raise NotImplementedError()"
   ]
  }
 ],
 "metadata": {
  "kernelspec": {
   "display_name": "Python 3",
   "language": "python",
   "name": "python3"
  },
  "language_info": {
   "codemirror_mode": {
    "name": "ipython",
    "version": 3
   },
   "file_extension": ".py",
   "mimetype": "text/x-python",
   "name": "python",
   "nbconvert_exporter": "python",
   "pygments_lexer": "ipython3",
   "version": "3.8.8"
  }
 },
 "nbformat": 4,
 "nbformat_minor": 5
}
