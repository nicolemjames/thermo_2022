{
 "cells": [
  {
   "cell_type": "markdown",
   "id": "c7fe7481",
   "metadata": {},
   "source": [
    "Make sure you fill in any place that says `YOUR CODE HERE` or \"YOUR ANSWER HERE\", and delete any instances of `raise NotImplementedError()` (those are just to make sure you don't forget to complete a block. "
   ]
  },
  {
   "cell_type": "markdown",
   "id": "9f50c196",
   "metadata": {},
   "source": [
    "---"
   ]
  },
  {
   "cell_type": "markdown",
   "id": "9c1f82de",
   "metadata": {
    "deletable": false,
    "editable": false,
    "nbgrader": {
     "cell_type": "markdown",
     "checksum": "82f90220246aeb20d9c9554a97f1ffce",
     "grade": false,
     "grade_id": "cell-365acec404eb1fca",
     "locked": true,
     "schema_version": 3,
     "solution": false,
     "task": false
    }
   },
   "source": [
    "# The relationships between internal energy, heat, work, and heat capacity\n",
    "\n",
    "Goal 2.1: Use SymPy to solve functions and evaluate integrals and derivatives<br>\n",
    "Goal 2.2: Calculate heat, work, and change internal energy for thermodynamic processes, and interpret these results<br>\n",
    "Goal 2.3: Describe heat capacity and its relation to system energy distribution  \n",
    "Goal 2.4: Visualize and interpret heat capacity surfaces<br>\n"
   ]
  },
  {
   "cell_type": "markdown",
   "id": "b71bb8f9",
   "metadata": {
    "deletable": false,
    "editable": false,
    "nbgrader": {
     "cell_type": "markdown",
     "checksum": "5dc02cc3afa147293b6e805c472b27a2",
     "grade": false,
     "grade_id": "cell-3cb504e8b26ff29d",
     "locked": true,
     "schema_version": 3,
     "solution": false,
     "task": false
    }
   },
   "source": [
    "## Section 2.1: Introduction to SymPy\n",
    "Increasingly, we will use SymPy to symbolically solve equations, evaluate derivatives and integrals, and more. You can find the SymPy documentation here: https://docs.sympy.org/latest/index.html, which includes a helpful tutorial. To get started, run the code cell below to load some necessary packages including the SymPy package. "
   ]
  },
  {
   "cell_type": "code",
   "execution_count": null,
   "id": "4f7c37ae",
   "metadata": {
    "deletable": false,
    "editable": false,
    "nbgrader": {
     "cell_type": "code",
     "checksum": "fb806db68f72f5953d7dc4af18114ac4",
     "grade": false,
     "grade_id": "cell-39598eba2067064f",
     "locked": true,
     "schema_version": 3,
     "solution": false,
     "task": false
    }
   },
   "outputs": [],
   "source": [
    "from numpy import * #note this methods loads the package and we can call functions from it by name e.g. \"function\"\n",
    "from matplotlib.pyplot import *\n",
    "import matplotlib.pyplot as plt #here, instead of calling \"function\" we must call \"plt.function\"\n",
    "from mpl_toolkits.mplot3d import axes3d\n",
    "import sympy as sp #thus all sympy function calls will need to be prefaced by sp. - to tell python where to look \n",
    "import PchemLibrary as PL # this is a file we created with special functions we will use "
   ]
  },
  {
   "cell_type": "code",
   "execution_count": null,
   "id": "5f4d4406",
   "metadata": {
    "deletable": false,
    "editable": false,
    "nbgrader": {
     "cell_type": "code",
     "checksum": "e3e1d9628e55ceea5253b05ae833826f",
     "grade": false,
     "grade_id": "cell-a704b9940d08cb95",
     "locked": true,
     "schema_version": 3,
     "solution": false,
     "task": false
    }
   },
   "outputs": [],
   "source": [
    "%matplotlib inline"
   ]
  },
  {
   "cell_type": "code",
   "execution_count": null,
   "id": "9f595b30",
   "metadata": {
    "deletable": false,
    "editable": false,
    "nbgrader": {
     "cell_type": "code",
     "checksum": "bd9526dde71edf4a89d509bfdfedb6a5",
     "grade": false,
     "grade_id": "cell-fb985431272852d8",
     "locked": true,
     "schema_version": 3,
     "solution": false,
     "task": false
    }
   },
   "outputs": [],
   "source": [
    "%matplotlib widget"
   ]
  },
  {
   "cell_type": "markdown",
   "id": "fdca3da1",
   "metadata": {
    "deletable": false,
    "editable": false,
    "nbgrader": {
     "cell_type": "markdown",
     "checksum": "268dd83bc7a8b6fb514aaa8b141026e8",
     "grade": false,
     "grade_id": "cell-8317c93c3832a595",
     "locked": true,
     "schema_version": 3,
     "solution": false,
     "task": false
    }
   },
   "source": [
    "### Section 2.1.1: Solving expressions using SymPy\n",
    "\n",
    "In CGI_01 we encountered two expressions for gases:\n",
    "\n",
    "$$\n",
    "PV=nRT \\ \\ \\ \\ (1)\n",
    "$$\n",
    "\n",
    "$$\n",
    "P=\\frac{nRT}{V} \\ \\ \\ \\ (2)\n",
    "$$\n",
    "\n",
    "Let's test how SymPy symbolically solves equations. The code block below solves Eqn (1) for P, which should yield Eqn (2). Consider the code syntax, and then run the block. "
   ]
  },
  {
   "cell_type": "code",
   "execution_count": null,
   "id": "8c515608",
   "metadata": {
    "deletable": false,
    "editable": false,
    "nbgrader": {
     "cell_type": "code",
     "checksum": "aa28f1ed25a86d954c023ea6000e2871",
     "grade": false,
     "grade_id": "cell-61e37b0c3612e2a1",
     "locked": true,
     "schema_version": 3,
     "solution": false,
     "task": false
    }
   },
   "outputs": [],
   "source": [
    "P,V,n,R,T=sp.symbols('P V n R T') #tells SymPy which values are symbolic variables\n",
    "#sp.solve() takes two arguments: \n",
    "#First: the equation to solve, set equal to 0 \n",
    "#Second: the variable to solve for \n",
    "solve_for_p = sp.solve(n*R*T-P*V, P)\n",
    "\n",
    "print(\"P = \", solve_for_p)"
   ]
  },
  {
   "cell_type": "markdown",
   "id": "a7d015b2",
   "metadata": {
    "deletable": false,
    "editable": false,
    "nbgrader": {
     "cell_type": "markdown",
     "checksum": "f2b16f3a5270e9436329f10762266ac0",
     "grade": false,
     "grade_id": "cell-6ed2a26cc59ebdf2",
     "locked": true,
     "schema_version": 3,
     "solution": false,
     "task": false
    }
   },
   "source": [
    "**Your turn.** Below, use SymPy to solve the van der Waal's equation (below) for T\n",
    "\n",
    "$$\n",
    "P(T,V)={{n R T} \\over {V - nb}} - {{n^2 a} \\over V^2}  \\ \\ \\ (3)\n",
    "$$\n",
    "\n",
    "HINT: break the task into smaller steps by creating variables for things. This will make the code more readible and easier to debug. For example, you could create a variable called `solved_for_0` with the formula for Eqn (3) solved for 0. You can then pass that variable to `sp.solve()` as an argument. "
   ]
  },
  {
   "cell_type": "code",
   "execution_count": null,
   "id": "798285b2",
   "metadata": {
    "deletable": false,
    "nbgrader": {
     "cell_type": "code",
     "checksum": "9f981aa019df34adf0528b4cd8a40ef5",
     "grade": true,
     "grade_id": "cell-775f2d404ff3e5d0",
     "locked": false,
     "points": 1,
     "schema_version": 3,
     "solution": true,
     "task": false
    }
   },
   "outputs": [],
   "source": [
    "\n",
    "# YOUR CODE HERE\n",
    "raise NotImplementedError()"
   ]
  },
  {
   "cell_type": "markdown",
   "id": "2e5b4196",
   "metadata": {
    "deletable": false,
    "editable": false,
    "nbgrader": {
     "cell_type": "markdown",
     "checksum": "352250c3e42783b47922aeb46f417712",
     "grade": false,
     "grade_id": "cell-db6bb063c96d4c23",
     "locked": true,
     "schema_version": 3,
     "solution": false,
     "task": false
    }
   },
   "source": [
    "### Section 2.1.1 Reflection\n",
    "\n",
    "In the Python Reference section of your notebook, add a section titled **\"SymPy: Solving Expressions\"**. Provide a step-by-step explanation of how to use SymPy to solve expressions like we did above. Incorporating an example may be useful. "
   ]
  },
  {
   "cell_type": "markdown",
   "id": "26ba4c02",
   "metadata": {
    "deletable": false,
    "editable": false,
    "nbgrader": {
     "cell_type": "markdown",
     "checksum": "591550161155b8616fc3f1e815d3eef4",
     "grade": false,
     "grade_id": "cell-464fc103c8dd23e0",
     "locked": true,
     "schema_version": 3,
     "solution": false,
     "task": false
    }
   },
   "source": [
    "### Section 2.1.2: SymPy integration - Calculating work \n",
    "\n",
    "As discussed in Engel & Reid Section 2.3, **work** occurs when a force imposed on or by the system causes a deplacement and, corespondingly, a change in energy. Generally speaking, work is defined as:\n",
    "\n",
    "$$\n",
    "w = \\int_{x_i}^{x_f} F\\cdot dx  \\ \\ \\ (4)\n",
    "$$\n",
    "\n",
    "There are many types of work, depending on what the force $F$ comes from. For gases, work done by pressure resultes in displacement in the form of a change in volume. \"Pressure-volume\" work can be calculated by:\n",
    "\n",
    "$$\n",
    "w = - \\int_{V_i}^{V_f}P_\\text{ext}dV \\ \\ \\ (5)\n",
    "$$\n",
    "\n",
    "The code cell below uses SymPy to symbolically solve the integral above, over the limits $V_i$ and $V_f$. Consider the syntax given, make a prediction of what you expect the output to be, and then run the cell. "
   ]
  },
  {
   "cell_type": "code",
   "execution_count": null,
   "id": "7b30bac9",
   "metadata": {
    "deletable": false,
    "editable": false,
    "nbgrader": {
     "cell_type": "code",
     "checksum": "4046a6c3811a4d3534e7bcf1d65ea288",
     "grade": false,
     "grade_id": "cell-2c62e9ac9887c314",
     "locked": true,
     "schema_version": 3,
     "solution": false,
     "task": false
    }
   },
   "outputs": [],
   "source": [
    "P_ext, V, V_i, V_f = sp.symbols('P_ext V V_i V_f')\n",
    "w = sp.integrate(-P_ext, (V, V_i, V_f)) #note that we brought the negative sign inside the integral \n",
    "print(\"w = \", w)"
   ]
  },
  {
   "cell_type": "markdown",
   "id": "eb4d104f",
   "metadata": {
    "deletable": false,
    "editable": false,
    "nbgrader": {
     "cell_type": "markdown",
     "checksum": "12543bc9792104cb8283b341b2ae1d31",
     "grade": false,
     "grade_id": "cell-69e73112933bc271",
     "locked": true,
     "schema_version": 3,
     "solution": false,
     "task": false
    }
   },
   "source": [
    "In addition to solving this symbolically, SymPy can compute a result if given values. The code cell below calculates the work done when $P_\\text{ext}=1.75\\cdot 10^6 \\text{ Pa}$ causes the system's volume to change from $2.0 \\text{ m}^3$ to $1.25 \\text{ m}^3$"
   ]
  },
  {
   "cell_type": "code",
   "execution_count": null,
   "id": "a735d9e7",
   "metadata": {
    "deletable": false,
    "editable": false,
    "nbgrader": {
     "cell_type": "code",
     "checksum": "22c03c4b7d35886aef4ff844527fb78a",
     "grade": false,
     "grade_id": "cell-54d88e22aff87dec",
     "locked": true,
     "schema_version": 3,
     "solution": false,
     "task": false
    }
   },
   "outputs": [],
   "source": [
    "#Instead of declaring these as symbols, we assign their values. \n",
    "P_ext=1.75*10**6 #Pa \n",
    "V_i = 2.0 #m^3\n",
    "V_f = 1.25 #m^3 \n",
    "\n",
    "V=sp.symbols('V') #This is still a symbol though \n",
    "\n",
    "w = sp.integrate(-P_ext, (V, V_i, V_f))\n",
    "print(\"w = \", w, \" J\") #keep track of units! This yields units of Pa m^3, which is equivalent to Joules"
   ]
  },
  {
   "cell_type": "markdown",
   "id": "963c4ec5",
   "metadata": {
    "deletable": false,
    "editable": false,
    "nbgrader": {
     "cell_type": "markdown",
     "checksum": "f01d28d57552ae707e91077e583e5066",
     "grade": false,
     "grade_id": "cell-f2c45e1b80de6cfa",
     "locked": true,
     "schema_version": 3,
     "solution": false,
     "task": false
    }
   },
   "source": [
    "In the markdown cell below, reflect on this result. Does the output value reflect working being done <u>on</u> or <u>by</u> the system? How do you know? Is this consistent with what you would expect given the values of $V_i$ and $V_f$?"
   ]
  },
  {
   "cell_type": "markdown",
   "id": "6f4c2f98",
   "metadata": {
    "deletable": false,
    "nbgrader": {
     "cell_type": "markdown",
     "checksum": "10b191074fa7f414d521fd694423fb22",
     "grade": true,
     "grade_id": "cell-d9983105c54b176e",
     "locked": false,
     "points": 1,
     "schema_version": 3,
     "solution": true,
     "task": false
    }
   },
   "source": [
    "YOUR ANSWER HERE"
   ]
  },
  {
   "cell_type": "markdown",
   "id": "2353f67e",
   "metadata": {
    "deletable": false,
    "editable": false,
    "nbgrader": {
     "cell_type": "markdown",
     "checksum": "abad924b9369ed9f97f2efb0710ab316",
     "grade": false,
     "grade_id": "cell-c1b60efdfcf3848b",
     "locked": true,
     "schema_version": 3,
     "solution": false,
     "task": false
    }
   },
   "source": [
    "**Your Turn.** In the code cell below, calculate the total change in energy $\\Delta U$ for a closed, isolated system that undergoes the **isobaric process** described below. No chemical or phase changes occur in this system. \n",
    "\n",
    "The system absorbs $255\\cdot10^3 \\text{ J}$ of heat. The external pressure is $101\\cdot 10^6 \\text{ Pa}$. The volume of the system changes from $0.0500 \\text{ m}^3$ to $0.0525 \\text{ m}^3$. \n",
    "\n",
    "<u>Hint:</u> recall that for a closed, isolated system with no chemical or phase changes, the first law of thermodynamics reduces to $\\Delta U = q+w $. "
   ]
  },
  {
   "cell_type": "code",
   "execution_count": null,
   "id": "3537badb",
   "metadata": {
    "deletable": false,
    "nbgrader": {
     "cell_type": "code",
     "checksum": "87b6ff927c09f6a284d3d90ddf9f095b",
     "grade": true,
     "grade_id": "cell-58545ece20f35d09",
     "locked": false,
     "points": 1,
     "schema_version": 3,
     "solution": true,
     "task": false
    }
   },
   "outputs": [],
   "source": [
    "#define q (pay attention to the sign!)\n",
    "\n",
    "#calculate w\n",
    "\n",
    "#compute change in U (dU)\n",
    "\n",
    "#print result (with a descriptive label, and units!)\n",
    "\n",
    "# YOUR CODE HERE\n",
    "raise NotImplementedError()"
   ]
  },
  {
   "cell_type": "markdown",
   "id": "414e18de",
   "metadata": {
    "deletable": false,
    "editable": false,
    "nbgrader": {
     "cell_type": "markdown",
     "checksum": "fde50841e4624465a271c94841c3aa1c",
     "grade": false,
     "grade_id": "cell-60356b3998dc38af",
     "locked": true,
     "schema_version": 3,
     "solution": false,
     "task": false
    }
   },
   "source": [
    "**Interpret your answer.** In the markdown cell below, answer the following questions:\n",
    "1. Is the system absorbing or releasing energy? How do you know? \n",
    "2. Is system absorbing or releasing energy as heat? How do you know? \n",
    "3. Is the system absorbing or releasing energy as work? How do you know? \n",
    "4. Given what you know above, what qualitative predictions can you make about the _temperature_ of this system? "
   ]
  },
  {
   "cell_type": "markdown",
   "id": "7e7e9e97",
   "metadata": {
    "deletable": false,
    "nbgrader": {
     "cell_type": "markdown",
     "checksum": "11e7cd6fc0ba48c7e9905310ad642798",
     "grade": true,
     "grade_id": "cell-8a4e77b4160d8b54",
     "locked": false,
     "points": 1,
     "schema_version": 3,
     "solution": true,
     "task": false
    }
   },
   "source": [
    "YOUR ANSWER HERE"
   ]
  },
  {
   "cell_type": "markdown",
   "id": "41b3aa21",
   "metadata": {
    "deletable": false,
    "editable": false,
    "nbgrader": {
     "cell_type": "markdown",
     "checksum": "d12477931dc8daf93347d04cbe136c79",
     "grade": false,
     "grade_id": "cell-8b0399044321d6f4",
     "locked": true,
     "schema_version": 3,
     "solution": false,
     "task": false
    }
   },
   "source": [
    "Note that the SymPy syntax for taking differentials is similar but slightly different than that of integrals. \n",
    "\n",
    "The cell below uses `sp.diff()` to symbolically take the differential of:\n",
    "\n",
    "$$\n",
    "y(x) = x^3 \\ \\ \\ (6) \n",
    "$$\n",
    "\n",
    "with respect to x. As a refresher, we can represent that differential as:\n",
    "\n",
    "$$\n",
    "y'(x) = \\frac{dy}{dx}=\\frac{d}{dx} x^3 \\ \\ \\ (7) \n",
    "$$\n",
    "\n",
    "Using the [power rule](https://math.libretexts.org/Bookshelves/Calculus/Book%3A_Calculus_(Guichard)/03%3A_Rules_for_Finding_Derivatives/3.01%3A_The_Power_Rule), we find that:\n",
    "\n",
    "$$\n",
    "\\frac{d}{dx} x^3 = 3\\cdot x^2 \\ \\ \\ (8)\n",
    "$$\n",
    "\n",
    "Let's check that SymPy comes to the same conclusion. Consider the syntax in the code block below, and then run the block. "
   ]
  },
  {
   "cell_type": "code",
   "execution_count": null,
   "id": "0216ce41",
   "metadata": {
    "deletable": false,
    "editable": false,
    "nbgrader": {
     "cell_type": "code",
     "checksum": "addf2b7bacb1f21e231818a6c433007c",
     "grade": false,
     "grade_id": "cell-be910e73216042ca",
     "locked": true,
     "schema_version": 3,
     "solution": false,
     "task": false
    }
   },
   "outputs": [],
   "source": [
    "x = sp.symbols('x')\n",
    "eqn = x**3\n",
    "y = sp.diff(eqn, x)\n",
    "print(\"y\\'(x) =\",y) #note the slash in \\' allows us to use ' inside of a string"
   ]
  },
  {
   "cell_type": "markdown",
   "id": "28204c97",
   "metadata": {
    "deletable": false,
    "editable": false,
    "nbgrader": {
     "cell_type": "markdown",
     "checksum": "b14228e0a90caaee57fb6f8460e04d27",
     "grade": false,
     "grade_id": "cell-8f09220f901757cc",
     "locked": true,
     "schema_version": 3,
     "solution": false,
     "task": false
    }
   },
   "source": [
    "Recall also that we can take multiple derivatives. For example, the _second_ derivative of $y(x)$ can be written as:\n",
    "\n",
    "$$ \n",
    "y''(x) = \\frac{d^2 y}{dx^2}=\\frac{d^2}{dx^2} x^3 \\ \\ \\ (9)\n",
    "$$\n",
    "\n",
    "To compute this, we would take the derivative with respect to x twice. The first time would yield equation (8) above. Then we would apply to power rule again to yield:\n",
    "\n",
    "$$\n",
    "\\frac{d^2}{dx^2}x^3=6\\cdot x \\ \\ \\ (10) \n",
    "$$\n",
    "\n",
    "`sp.diff()` can take multiple derivatives by specifying an additional argument: `sp.diff(eqn, var, n)` takes the `n`th derivative of `eqn` with respect to `var`. \n",
    "\n",
    "Check that SymPy comes to the same conclusion. In the cell below, take the second derivative of Eqn (6), and print the result in the form of an equation "
   ]
  },
  {
   "cell_type": "code",
   "execution_count": null,
   "id": "185719c2",
   "metadata": {
    "deletable": false,
    "nbgrader": {
     "cell_type": "code",
     "checksum": "abddf72629e29ea3736d2ff1a7746203",
     "grade": true,
     "grade_id": "cell-bd904c4a090b0439",
     "locked": false,
     "points": 1,
     "schema_version": 3,
     "solution": true,
     "task": false
    }
   },
   "outputs": [],
   "source": [
    "\n",
    "# YOUR CODE HERE\n",
    "raise NotImplementedError()"
   ]
  },
  {
   "cell_type": "markdown",
   "id": "b2fc6217",
   "metadata": {
    "deletable": false,
    "editable": false,
    "nbgrader": {
     "cell_type": "markdown",
     "checksum": "b2140707887065dd06f6d0205b813727",
     "grade": false,
     "grade_id": "cell-49dd460f991d0aef",
     "locked": true,
     "schema_version": 3,
     "solution": false,
     "task": false
    }
   },
   "source": [
    "### Section 2.1. Reflection\n",
    "\n",
    "In the Python Reference section of your notebook, add two sections: \n",
    "\n",
    "- SymPy: Integration\n",
    "- SymPy: Derivation \n",
    "\n",
    "Provide a examples of the syntax for integration and derivation. This is a reference for you, so you can easily use these functions in future CGIs. Be sure to check that your table of contents is up to date! "
   ]
  },
  {
   "cell_type": "markdown",
   "id": "d4472ea7",
   "metadata": {
    "deletable": false,
    "editable": false,
    "nbgrader": {
     "cell_type": "markdown",
     "checksum": "da77085f15af8e4ca0c3870c992a8bc6",
     "grade": false,
     "grade_id": "cell-a856fae258a03cd5",
     "locked": true,
     "schema_version": 3,
     "solution": false,
     "task": false
    }
   },
   "source": [
    "## Section 2.2: Classical thermodynamic processes for gases\n",
    "\n",
    "Recall Eqn (2), the state function for an ideal gas:\n",
    "\n",
    "$$\n",
    "P=\\frac{nRT}{V} \\ \\ \\ \\ (2)\n",
    "$$\n",
    "\n",
    "In CGI_01, we plotted this state function over the (T,V) state space, yielding the surface: \n",
    "\n",
    " <img src=\"PVT_idealgas.jpg\" alt=\"P(T,V) surface\" style=\"width: 250px;\"/>\n",
    "\n",
    "This surface shows the possible combinations of P, T, and V for a system _at equilibrium_. In other words, an assumption of this model and mathematical description is that the system is in equilibrium at all times. In a thermodynamic _process_, the system is moving along some path on this surface. Examples of this include the process of gaseous expansion or compression. \n",
    "\n",
    "In the markdown cell below, explain in your own words how such a  thermodynamic process for a gas  can meet the requirement of being at **equilibrium** at all times. Incoporate a discussion of **quasi-static** processes in your answer, and explain how this relates to a **reversible** and **irreversible** process. \n",
    "\n",
    "(Stuck? Engel & Reid sections 2.4 and 2.9 may come in handy!) "
   ]
  },
  {
   "cell_type": "markdown",
   "id": "c9f6314d",
   "metadata": {
    "deletable": false,
    "nbgrader": {
     "cell_type": "markdown",
     "checksum": "3657db6546bf27756e7bec31c230f5c2",
     "grade": true,
     "grade_id": "cell-0229787ad8966ce9",
     "locked": false,
     "points": 1,
     "schema_version": 3,
     "solution": true,
     "task": false
    }
   },
   "source": [
    "YOUR ANSWER HERE"
   ]
  },
  {
   "cell_type": "markdown",
   "id": "8e45af65",
   "metadata": {
    "deletable": false,
    "editable": false,
    "nbgrader": {
     "cell_type": "markdown",
     "checksum": "ee1a74a438cdaf51ec65c5b79e0d3022",
     "grade": false,
     "grade_id": "cell-292183482069f33d",
     "locked": true,
     "schema_version": 3,
     "solution": false,
     "task": false
    }
   },
   "source": [
    "Ideal gases are one of the more mathematically accessible examples of classical thermodynamic processes. \n",
    "\n",
    "Recall the expression for pressure-volume work:\n",
    "\n",
    "$$\n",
    "w = - \\int_{V_i}^{V_f}P_\\text{ext}dV \\ \\ \\ (5)\n",
    "$$\n",
    "\n",
    "We are considering an isolated system where an ideal gas undergoes this process in quasi-static equilibrium with its surroundings. Thus, the external pressure $P_\\text{ext}$ exerted by the surrondings should equilibrate with the system pressure $P$ at every step of the process. Therefore, we can let $P_\\text{ext} = P$.\n",
    "\n",
    "In the cell below, calculate the work associated with the **isothermal** expansion of an ideal gas from 1.5 L to 2.5 L. Assume the system is closed, and no chemical reactions or phase changes occur. \n",
    "\n",
    "<u>Note</u>: You may leave the volumes in Liters. With pressure in atmopsheres, this yields energy units of  $\\text{L} \\cdot \\text{atm}$, where  $1 \\text{ L}\\cdot\\text{atm}=101.325 \\text{ J}$\n",
    "\n",
    "<u>Hint</u>: You will need to define $P$ as a function of $V$. You may express your answer symbolically (e.g. in terms of n, R, and T). \n"
   ]
  },
  {
   "cell_type": "code",
   "execution_count": null,
   "id": "25820f96",
   "metadata": {
    "deletable": false,
    "nbgrader": {
     "cell_type": "code",
     "checksum": "2631825d5aa9e4194d58a512d6d63654",
     "grade": true,
     "grade_id": "cell-ea78849b9246fb7c",
     "locked": false,
     "points": 1,
     "schema_version": 3,
     "solution": true,
     "task": false
    }
   },
   "outputs": [],
   "source": [
    "\n",
    "# YOUR CODE HERE\n",
    "raise NotImplementedError()"
   ]
  },
  {
   "cell_type": "markdown",
   "id": "cc1598b2",
   "metadata": {
    "deletable": false,
    "editable": false,
    "nbgrader": {
     "cell_type": "markdown",
     "checksum": "c1ba794efecaf42a67033626bf9300a5",
     "grade": false,
     "grade_id": "cell-4c5f5384f4bf9efc",
     "locked": true,
     "schema_version": 3,
     "solution": false,
     "task": false
    }
   },
   "source": [
    "**Interpret your answer.** In the markdown cell below, answer the following questions: \n",
    "\n",
    "1. Why was it important to specify that this is an isothermal process?\n",
    "2. Did the system gain or lose energy as a result of the work done? How do you know? \n",
    "3. How would the amount of work involved in this process change if the temperature were higher? if $n$ were higher? \n"
   ]
  },
  {
   "cell_type": "markdown",
   "id": "2f0eb030",
   "metadata": {
    "deletable": false,
    "nbgrader": {
     "cell_type": "markdown",
     "checksum": "9aeeaccf280d6a17e3acba7bcfba1ed8",
     "grade": true,
     "grade_id": "cell-d8cc1d75f2d0f7b4",
     "locked": false,
     "points": 1,
     "schema_version": 3,
     "solution": true,
     "task": false
    }
   },
   "source": [
    "YOUR ANSWER HERE"
   ]
  },
  {
   "cell_type": "markdown",
   "id": "49e7e6fa",
   "metadata": {
    "deletable": false,
    "editable": false,
    "nbgrader": {
     "cell_type": "markdown",
     "checksum": "5a6e9f1295e05fca199728b8f498ef50",
     "grade": false,
     "grade_id": "cell-8d99e31e468dabf9",
     "locked": true,
     "schema_version": 3,
     "solution": false,
     "task": false
    }
   },
   "source": [
    "**Bringing everything together.** Let's ensure we are confident in calculating $q$, $w$, and $\\Delta U$ using Python. \n",
    "\n",
    "To begin, complete the problem below using the following two code cells.\n",
    "\n",
    "1.500 moles of N$_2$ gas at $T=350.0 \\text{ K}$ and $V_i=0.7500 \\text{ L}$ undergo a reversible isothermal expansion until $V_f=50.00 \\text{ L}$. Calculate $w$ first using the ideal gas model, and then again using the van der Waals model. Then calculate the percent error in using the ideal gas model, as compared to the van der Waals model.\n",
    "\n",
    "For N$_2$ gas, $a=1.37 \\frac{\\text{bar}\\cdot\\text{L}^2}{\\text{mol}^2}$, $b=0.0387\\frac{\\text{L}}{\\text{mol}}$. \n",
    "\n",
    "Use $R = 0.08314 \\frac{\\text{bar}\\cdot\\text{L}}{\\text{K}\\cdot\\text{mol}}$, which will yield energy units of $\\text{L}\\cdot\\text{bar}$."
   ]
  },
  {
   "cell_type": "code",
   "execution_count": null,
   "id": "a112799c",
   "metadata": {
    "deletable": false,
    "nbgrader": {
     "cell_type": "code",
     "checksum": "c4eba0d941839a6c37ba83fbd8741822",
     "grade": true,
     "grade_id": "cell-ec65dbbe170446a6",
     "locked": false,
     "points": 1,
     "schema_version": 3,
     "solution": true,
     "task": false
    }
   },
   "outputs": [],
   "source": [
    "#Calculate w using the ideal gas equation of state\n",
    "\n",
    "# YOUR CODE HERE\n",
    "raise NotImplementedError()"
   ]
  },
  {
   "cell_type": "code",
   "execution_count": null,
   "id": "ea3ea73b",
   "metadata": {
    "deletable": false,
    "nbgrader": {
     "cell_type": "code",
     "checksum": "5943890b018147d51eaf1259dbc4b7ab",
     "grade": true,
     "grade_id": "cell-1c1de93657954094",
     "locked": false,
     "points": 1,
     "schema_version": 3,
     "solution": true,
     "task": false
    }
   },
   "outputs": [],
   "source": [
    "#Calculate w using the van der Waals equation of state\n",
    "\n",
    "# YOUR CODE HERE\n",
    "raise NotImplementedError()"
   ]
  },
  {
   "cell_type": "markdown",
   "id": "213f2288",
   "metadata": {
    "deletable": false,
    "editable": false,
    "nbgrader": {
     "cell_type": "markdown",
     "checksum": "68123eb40d52335f19aab5ff5ed1a47d",
     "grade": false,
     "grade_id": "cell-97e74b77ef34b48d",
     "locked": true,
     "schema_version": 3,
     "solution": false,
     "task": false
    }
   },
   "source": [
    "**Interpret your answer.** In the markdown cell below, answer the following question: \n",
    "\n",
    "1. Under these conditions, do you anticipate that the ideal gas model would be sufficient for most experimental or engineering purposes? Why or why not? \n",
    "2. Qualitatively, under what regimes would you expect the ideal gas model to work best? Under what regimes would it be most likely to fail? Explain your reasoning from a statistical thermodynamics/KMT perspective. "
   ]
  },
  {
   "cell_type": "markdown",
   "id": "ba107016",
   "metadata": {
    "deletable": false,
    "nbgrader": {
     "cell_type": "markdown",
     "checksum": "a1154fceceec06799912a7ea51bbd06d",
     "grade": true,
     "grade_id": "cell-075898c5731c9499",
     "locked": false,
     "points": 1,
     "schema_version": 3,
     "solution": true,
     "task": false
    }
   },
   "source": [
    "YOUR ANSWER HERE"
   ]
  },
  {
   "cell_type": "markdown",
   "id": "86b470f2",
   "metadata": {
    "deletable": false,
    "editable": false,
    "nbgrader": {
     "cell_type": "markdown",
     "checksum": "f7f473f2c2cd7921bd17236193677552",
     "grade": false,
     "grade_id": "cell-b07cd9835855349e",
     "locked": true,
     "schema_version": 3,
     "solution": false,
     "task": false
    }
   },
   "source": [
    "Recall the assumptions of the ideal gas model: gas particles take up no space and do not interact. Thus, for an ideal gas, the internal energy is independent of V, and depends only on T: $U_\\text{ideal gas}(T)$.\n",
    "\n",
    "**With this in mind**, use your ideal gas model for the system described above, and calculate $\\Delta U$ and $q$ for this system. Print $dU$, $q$, and $w$ with labels and units.  "
   ]
  },
  {
   "cell_type": "code",
   "execution_count": null,
   "id": "100e2540",
   "metadata": {
    "deletable": false,
    "nbgrader": {
     "cell_type": "code",
     "checksum": "e87b81663017d0ce646ddcd55606fa8f",
     "grade": true,
     "grade_id": "cell-f6fd57622db530bc",
     "locked": false,
     "points": 1,
     "schema_version": 3,
     "solution": true,
     "task": false
    }
   },
   "outputs": [],
   "source": [
    "#Change in energy dU \n",
    "\n",
    "#heat, q\n",
    "\n",
    "# YOUR CODE HERE\n",
    "raise NotImplementedError()"
   ]
  },
  {
   "cell_type": "markdown",
   "id": "767b50ac",
   "metadata": {
    "deletable": false,
    "editable": false,
    "nbgrader": {
     "cell_type": "markdown",
     "checksum": "dcf08e82b703ddf2a0c19d345d2f8d04",
     "grade": false,
     "grade_id": "cell-8fe243029337320f",
     "locked": true,
     "schema_version": 3,
     "solution": false,
     "task": false
    }
   },
   "source": [
    "**Interpet your answer**. In the mark-down cell below, explain your process for the question above. Then, discuss your answer. What is changing in the system? What isn't? Does your answer make sense? Why or why not? "
   ]
  },
  {
   "cell_type": "markdown",
   "id": "e908e03a",
   "metadata": {
    "deletable": false,
    "nbgrader": {
     "cell_type": "markdown",
     "checksum": "1c7cd605f943a43ad9693f83aa1f36b3",
     "grade": true,
     "grade_id": "cell-aac60627f8415910",
     "locked": false,
     "points": 1,
     "schema_version": 3,
     "solution": true,
     "task": false
    }
   },
   "source": [
    "YOUR ANSWER HERE"
   ]
  },
  {
   "cell_type": "markdown",
   "id": "e8b5a96b",
   "metadata": {
    "deletable": false,
    "editable": false,
    "nbgrader": {
     "cell_type": "markdown",
     "checksum": "de27552ffa85cf7c3554cfdf824a44c1",
     "grade": false,
     "grade_id": "cell-5491d6da316d37cb",
     "locked": true,
     "schema_version": 3,
     "solution": false,
     "task": false
    }
   },
   "source": [
    "### Section 2.2. Reflection\n",
    "\n",
    "In the Chemical Thermodynamics and Kinetics Reference section of your notebook, add one section titled \"The First Law of Thermodynamics\". In this section, summarize the \"First Law of Thermodynamics\" and how it relates to the equation $\\Delta U = q+w$.\n",
    "\n",
    "Recall that you don't need to rewrite everything we said or did here: the purpose of this is to be a reference resource for you--record everything you would need to refresh your memory on these topics weeks or months later."
   ]
  },
  {
   "cell_type": "markdown",
   "id": "e0873a61",
   "metadata": {
    "deletable": false,
    "editable": false,
    "nbgrader": {
     "cell_type": "markdown",
     "checksum": "90bad3b0918bce27ae00d19fcfaf1f19",
     "grade": false,
     "grade_id": "cell-6125ddcc4ef4b9b1",
     "locked": true,
     "schema_version": 3,
     "solution": false,
     "task": false
    }
   },
   "source": [
    "## Section 2.3: Heat capacity\n",
    "\n",
    "Internal energy, $U$, is often written as a function of the measurable values $T$ and $V$, i.e. $U(T,V)$. Conceptually, from a statistical thermodynamics perspective, this energy is the sum of the kinetic and potential energies of all molecules in a given system. Figure 1 below shows $U(T,V)$ of a real gas. \n",
    "\n",
    "<img src=\"UVT_realgas.jpeg\" alt=\"U(T,V) surface\" style=\"width: 400px;\"/>\n",
    "\n",
    "Consider if this graph. Note that you can see some behaviors of all gases (e.g., increasing $U$ with increasing temperature), and some of the behaviors expected specifically of real gases (e.g., the low-volume part of state space)\n",
    "\n",
    "In sections 2.1 and 2.2, we saw how it is possible to calculate $w$ based on the measurable quantities $P$ and $V$. For an isothermal ideal gas, this was all the information we needed to calculate $dU$. However, for non-isothermal processes and/or non-ideal gases: how will we calculate $q$? Here, let's explore a conceptually interesting and experimentally useful quantity: **heat capacity**. \n",
    "\n",
    "Heat capacity can be determined experimentally, and depends on experimental conditions. The most common conditions are constant $V$ or constant $P$, which yield $C_V$ and $C_P$ respectively. \n",
    "\n",
    "### Section 2.3.1: Constant Volume Heat Capacity, $C_V$ \n",
    "\n",
    "The cell below loads and plots internal energy data on a temperature, volume state space grid ($U(T,V)$), for three different systems. System 1 is an ideal polyatomic gas. System 2 is a real polyatomic gas. System 3 is an ideal monoatomic gas. \n",
    "\n",
    "Note the state space is in SI units (K for temperature, L for volume). However, the energy loaded is in kJ/mol. For SI units, it should be J/mol. So we're making the conversion to SI \"on the fly\".\n",
    "\n",
    "Run the cell below and consider the surfaces. "
   ]
  },
  {
   "cell_type": "code",
   "execution_count": null,
   "id": "d2225070",
   "metadata": {
    "deletable": false,
    "editable": false,
    "nbgrader": {
     "cell_type": "code",
     "checksum": "c1e76900630f99d23bc0f9997eb65fc0",
     "grade": false,
     "grade_id": "cell-3b63988627fce424",
     "locked": true,
     "schema_version": 3,
     "solution": false,
     "task": false
    }
   },
   "outputs": [],
   "source": [
    "# Load the thermodynamic state space from a .txt file, instead of generating it this time\n",
    "Tgrid = np.loadtxt('Tgrid.txt') # In K\n",
    "Vgrid = np.loadtxt('Vgrid.txt') # In m^3\n",
    "\n",
    "# Load three internal energy state functions \n",
    "Ugrid1 = np.loadtxt('Ugrid1.txt')*1e3  # *1e3 converts from kJ/mol to J/mol\n",
    "Ugrid2 = np.loadtxt('Ugrid2.txt')*1e3 \n",
    "Ugrid3 = np.loadtxt('Ugrid3.txt')*1e3\n",
    "\n",
    "# Plot all three surfaces\n",
    "\n",
    "# Prep the axis labels\n",
    "xlabel = 'T (K)'\n",
    "ylabel = 'V (m$^3$)' \n",
    "zlabel = 'U (J/mol)'\n",
    "\n",
    "# Plot surface 1\n",
    "fig = plt.figure() #create the figure window\n",
    "ax = plt.axes(projection='3d') #create a 3D axis in the figure\n",
    "ax.plot_surface(Tgrid, Vgrid, Ugrid1, color='red') # Make the mesh plot\n",
    "ax.set_ylabel(ylabel) # Label axes\n",
    "ax.set_xlabel(xlabel)\n",
    "ax.set_zlabel(zlabel)\n",
    "ax.set_title(\"Surface 1\") #label plot \n",
    "\n",
    "# Plot surface 2\n",
    "fig = plt.figure() #create the figure window\n",
    "ax = plt.axes(projection='3d') #create a 3D axis in the figure\n",
    "ax.plot_surface(Tgrid, Vgrid, Ugrid2, color='green') # Make the mesh plot\n",
    "ax.set_ylabel(ylabel) # Label axes\n",
    "ax.set_xlabel(xlabel)\n",
    "ax.set_zlabel(zlabel)\n",
    "ax.set_title(\"Surface 2\") #label plot \n",
    "\n",
    "# Plot surface 3\n",
    "fig = plt.figure() #create the figure window\n",
    "ax = plt.axes(projection='3d') #create a 3D axis in the figure\n",
    "ax.plot_surface(Tgrid, Vgrid, Ugrid3, color='blue') # Make the mesh plot\n",
    "ax.set_ylabel(ylabel) # Label axes\n",
    "ax.set_xlabel(xlabel)\n",
    "ax.set_zlabel(zlabel)\n",
    "ax.set_title(\"Surface 3\") #label plot "
   ]
  },
  {
   "cell_type": "markdown",
   "id": "7582b49b",
   "metadata": {
    "deletable": false,
    "editable": false,
    "nbgrader": {
     "cell_type": "markdown",
     "checksum": "27350c152c94c7bfd117b804e4eea26b",
     "grade": false,
     "grade_id": "cell-a92d50f4d2ba57c0",
     "locked": true,
     "schema_version": 3,
     "solution": false,
     "task": false
    }
   },
   "source": [
    "To get a conceptual understanding of $C_V$, we will use these $U(V,T)$ surfaces to compute the corresponding $C_V$. To do so, we use the formulation of $C_V$: \n",
    "\n",
    "$$ \n",
    "C_V = (\\frac{\\partial U}{dT})_V \\ \\ \\ (11)\n",
    "$$\n",
    "\n",
    "This definition is always true for a closed, isolated system where no chemical reactions or phase changes occur. \n",
    "\n",
    "SymPy has some built-in partial differential functions, but to simplify formulating this as a surface, we have loaded `PChemLibrary`, which contains several useful functions (feel free to open that file and check them out if you're interested). Of use for us right now is the function `dF_dx`.  \n",
    "\n",
    "`dF_dx` takes two arguments: `dF_dx(statespace,Fgrid)`. State space is the $(x,y)$ statespace of the surface, and `Fgrid` is the surface. `dF_dx` then returns three things: the new x and y statespace grids, and the partial derivative of the `Fgrid` surface with respect to $x$. Since `Fgrid` is a surface, the partial derivative returned is also a surface. When this function runs, it also prints the shape of the partial derivative space, and the units associated with the partial derivative space. We have not yet set units in Python, so this should print \"No units\". \n",
    "\n",
    "Consider the cell below, then run it and consider the output. "
   ]
  },
  {
   "cell_type": "code",
   "execution_count": null,
   "id": "873ddb46",
   "metadata": {
    "deletable": false,
    "editable": false,
    "nbgrader": {
     "cell_type": "code",
     "checksum": "4087dec27af2f9305999b35a9df57d0e",
     "grade": false,
     "grade_id": "cell-2f88996c46bb5d9f",
     "locked": true,
     "schema_version": 3,
     "solution": false,
     "task": false
    }
   },
   "outputs": [],
   "source": [
    "# Calculate the partial of U with respect to T (axis=0)\n",
    "Tgridnew, Vgridnew, C_V1 = PL.dF_dx([Tgrid,Vgrid],Ugrid1) #prefix dF_dx with PL to tell python where to find it\n",
    "\n",
    "#finding the maximum value in C_V1, to set z-scale in plots \n",
    "zmax_1 = np.max(C_V1) #numpy function that finds the maximum value in C_V1 \n",
    "print(\"z-max: \",zmax_1)\n"
   ]
  },
  {
   "cell_type": "markdown",
   "id": "cf7a14f8",
   "metadata": {
    "deletable": false,
    "editable": false,
    "nbgrader": {
     "cell_type": "markdown",
     "checksum": "ecc7a53be4de428b467cc4be2a5084cd",
     "grade": false,
     "grade_id": "cell-f67bb6e7ebaa4c67",
     "locked": true,
     "schema_version": 3,
     "solution": false,
     "task": false
    }
   },
   "source": [
    "**Your turn.** Now in the cell below, compute the surfaces for the other two surfaces. Call them `C_V2` and `C_V3`. Find and print the z-max of each of these surfaces, as well. "
   ]
  },
  {
   "cell_type": "code",
   "execution_count": null,
   "id": "d3136090",
   "metadata": {
    "deletable": false,
    "nbgrader": {
     "cell_type": "code",
     "checksum": "7bf2c8c403cc8621d32801d4edbd7c86",
     "grade": true,
     "grade_id": "cell-96d77d4e478fcaef",
     "locked": false,
     "points": 1,
     "schema_version": 3,
     "solution": true,
     "task": false
    }
   },
   "outputs": [],
   "source": [
    "#compute C_V2 and C_V3 \n",
    "\n",
    "#find and print zmax_2 and zmax_3\n",
    "\n",
    "# YOUR CODE HERE\n",
    "raise NotImplementedError()"
   ]
  },
  {
   "cell_type": "markdown",
   "id": "8b64bf9a",
   "metadata": {
    "deletable": false,
    "editable": false,
    "nbgrader": {
     "cell_type": "markdown",
     "checksum": "838778faf1283faea8cf7dee44eea1c7",
     "grade": false,
     "grade_id": "cell-7cc9394b21757fb9",
     "locked": true,
     "schema_version": 3,
     "solution": false,
     "task": false
    }
   },
   "source": [
    "**Still your turn.** In the cell below, plot each of the surfaces on their own 3-D axes. Be sure to label your axes! Also, add a line to your code to set the z-axis scale to be the same for each plot: `ax.set_zlim([0,zmax_n]` where `zmax_n` is whichever max value you found to be highest. This makes it easier to compare the surfaces"
   ]
  },
  {
   "cell_type": "code",
   "execution_count": null,
   "id": "a63ed81a",
   "metadata": {
    "deletable": false,
    "nbgrader": {
     "cell_type": "code",
     "checksum": "b8f9388989f0a4f73b08a69358f8bd25",
     "grade": true,
     "grade_id": "cell-60918473d334bc42",
     "locked": false,
     "points": 1,
     "schema_version": 3,
     "solution": true,
     "task": false
    }
   },
   "outputs": [],
   "source": [
    "#Plot all three surfaces, with axes and plot labels. \n",
    "\n",
    "\n",
    "# YOUR CODE HERE\n",
    "raise NotImplementedError()\n",
    "\n",
    "# Plot surface 2\n",
    "fig = plt.figure() #create the figure window\n",
    "ax = plt.axes(projection='3d') #create a 3D axis in the figure\n",
    "ax.plot_surface(Tgridnew, Vgridnew, C_V2, color='green') # Make the mesh plot\n",
    "ax.set_ylabel(ylabel) # Label axes\n",
    "ax.set_xlabel(xlabel)\n",
    "ax.set_zlabel(zlabel)\n",
    "ax.set_title('Surface 2')\n",
    "ax.set_zlim([0,zmax_1])\n",
    "\n",
    "# Plot surface 3\n",
    "fig = plt.figure() #create the figure window\n",
    "ax = plt.axes(projection='3d') #create a 3D axis in the figure\n",
    "ax.plot_surface(Tgridnew, Vgridnew, C_V3, color='blue') # Make the mesh plot\n",
    "ax.set_ylabel(ylabel) # Label axes\n",
    "ax.set_xlabel(xlabel)\n",
    "ax.set_zlabel(zlabel)\n",
    "ax.set_title('Surface 3')\n",
    "ax.set_zlim([0,zmax_1])\n",
    "\n"
   ]
  },
  {
   "cell_type": "markdown",
   "id": "5cafd776",
   "metadata": {
    "deletable": false,
    "editable": false,
    "nbgrader": {
     "cell_type": "markdown",
     "checksum": "5e77e52b116ff3b175eb6e2aa3d3ccfe",
     "grade": false,
     "grade_id": "cell-f1f4c3413a4c6241",
     "locked": true,
     "schema_version": 3,
     "solution": false,
     "task": false
    }
   },
   "source": [
    "**Interpret your answer.** In the markdown cell below, answer the following questions:\n",
    "\n",
    "1. $C_v = (\\frac{\\partial U}{dT})_V$ tells us that the slope of the $U(T,V)$ surface in the T direction yields $C_V$. What does this mean, conceptually, about what $C_V$ represents? (I.e.: what story does this math tell?) \n",
    "\n",
    "2. In your $C_V$ surface plots, what does the slope of $C_V$ with respect to T tell you? What do you notice about the slope of $C_V$ with respect to $V$? \n",
    "\n",
    "3. Surface 3 describes a monoatomic ideal gas. Is the heat capacity consistent with what you would expect for this system? Why or why not? \n",
    "\n",
    "4. Surfaces 1 and 2 describe two polyatomic gases. Is the heat capacity consistent with what you would expect for these system? Why or why not? How are they similar? How do they differ?"
   ]
  },
  {
   "cell_type": "markdown",
   "id": "68db96dc",
   "metadata": {
    "deletable": false,
    "nbgrader": {
     "cell_type": "markdown",
     "checksum": "c5b1164b62e5739e98b5c3d8f1a7158c",
     "grade": true,
     "grade_id": "cell-ff420ebf819532fa",
     "locked": false,
     "points": 1,
     "schema_version": 3,
     "solution": true,
     "task": false
    }
   },
   "source": [
    "YOUR ANSWER HERE"
   ]
  },
  {
   "cell_type": "markdown",
   "id": "5a229ff5",
   "metadata": {
    "deletable": false,
    "editable": false,
    "nbgrader": {
     "cell_type": "markdown",
     "checksum": "a6b051bbf6cab92102c34a66ad70a29f",
     "grade": false,
     "grade_id": "cell-9d47abef397123d2",
     "locked": true,
     "schema_version": 3,
     "solution": false,
     "task": false
    }
   },
   "source": [
    "### Section 2.3.1: Constant Pressure Heat Capacity, $C_P$\n",
    "\n",
    "The broadest definition of heat capacity, for any system (no assumptions), is given by: \n",
    "\n",
    "$$\n",
    "C(T) = \\frac{\\partial q}{dT} \\ \\ \\ (12)\n",
    "$$\n",
    "\n",
    "C(T) is most typically experimentally determined at either constant pressure $C_P$, or at constant volume $C_V$. Thus, this is often more specifically represented as:\n",
    "\n",
    "$$\n",
    "C_V(T)=(\\frac{\\partial q}{dT})_V \\ \\ \\ (14)\n",
    "$$\n",
    "\n",
    "and: \n",
    "\n",
    "$$\n",
    "C_P(T)=(\\frac{\\partial q}{dT})_P \\ \\ \\ (15)\n",
    "$$\n",
    "\n",
    "Since we have already spent quite a bit of time with $C_V$, let us now consider $C_P$. $C_P$ is experimentally easier for many systems, particularly liquids and solids where the temperature-induced volume changes can exert immense pressure on a constant volume container. \n",
    "\n",
    "We can solve Eqn (15) for q:\n",
    "\n",
    "$$\n",
    "q_P=\\int_{T_i}^{T_{f}}C_P(T) dT \\ \\ \\ (15)\n",
    "$$\n",
    "\n",
    "$C_P$ has essentially the same conceptual underpinnings as $C_V$, so rather than plotting surfaces we will turn to using this quantity to calculate the heat associated with processes, and the correspondings changes of internal energy. \n",
    "\n",
    "Let's consider a 1.00 mol sample of nitrogen gas undergoing an **isobaric** expansion. The temperature of the system changes from 400 K to 298 K. \n",
    "\n",
    "Note above that heat capacity is a function of temperature. If it depends very weakly on temperature, we might be able to ignore the temperature dependance and treat it as a constant -- which you have probably done before in CHEM 102. However, if the dependence on temperature is not weak, this can introduce a lot of error. Let's find out. \n",
    "\n",
    "The cell below calculates $q_P$ of this process. The expression of $C_P(T)$ comes from Engel & Reid Appendix A Table 2.5 (pg 629). \n"
   ]
  },
  {
   "cell_type": "code",
   "execution_count": null,
   "id": "ba460c32",
   "metadata": {
    "deletable": false,
    "editable": false,
    "nbgrader": {
     "cell_type": "code",
     "checksum": "5d4724af05d5bb630bbf6fdf2c4dfe70",
     "grade": false,
     "grade_id": "cell-f04050409f051111",
     "locked": true,
     "schema_version": 3,
     "solution": false,
     "task": false
    }
   },
   "outputs": [],
   "source": [
    "T=sp.symbols('T')\n",
    "\n",
    "Cp_T=30.81-0.01187*T #C as a function of T, where T has units of K \n",
    "T_i = 400 #K\n",
    "T_f = 298 #K\n",
    "qp_T = sp.integrate(Cp_T, (T, T_i, T_f)) #calculating qp, assuming C(T)\n",
    "print(\"qp_(T) = \", qp_T, \" J per mol N2 gas\")"
   ]
  },
  {
   "cell_type": "markdown",
   "id": "97848835",
   "metadata": {
    "deletable": false,
    "editable": false,
    "nbgrader": {
     "cell_type": "markdown",
     "checksum": "e17b387375c22438fa7096252fb5ff63",
     "grade": false,
     "grade_id": "cell-84fabcd327cf12b1",
     "locked": true,
     "schema_version": 3,
     "solution": false,
     "task": false
    }
   },
   "source": [
    "**Your turn.** In the code cell below, calculate $q_p$ of this process assuming $C_P$ is a constant equal to 29.13 J/mol K over the range of 298-400 K. \n",
    "\n",
    "Then, calculate the percent difference between this result that models $C_P$ as a constant, and the result that models $C_P$ as a function of temperature. "
   ]
  },
  {
   "cell_type": "code",
   "execution_count": null,
   "id": "45c399d4",
   "metadata": {
    "deletable": false,
    "nbgrader": {
     "cell_type": "code",
     "checksum": "c91d37c2f916af04def87a82da88e707",
     "grade": true,
     "grade_id": "cell-b7d640edcc8136ab",
     "locked": false,
     "points": 1,
     "schema_version": 3,
     "solution": true,
     "task": false
    }
   },
   "outputs": [],
   "source": [
    "#calculate qp, assuming C_P is a constant \n",
    "\n",
    "#Calculate the percent difference between qp and qp_T, relative to qp_T.\n",
    "\n",
    "# YOUR CODE HERE\n",
    "raise NotImplementedError()"
   ]
  },
  {
   "cell_type": "markdown",
   "id": "62b4e327",
   "metadata": {
    "deletable": false,
    "editable": false,
    "nbgrader": {
     "cell_type": "markdown",
     "checksum": "9db86bcb819b379f52dbb3342836ade2",
     "grade": false,
     "grade_id": "cell-be3469ebbd6ffc97",
     "locked": true,
     "schema_version": 3,
     "solution": false,
     "task": false
    }
   },
   "source": [
    "**Interpret your answer.** In the markdown cell below address the following questions:\n",
    "1. Is it reasonable to model $C_P(T)$ as a constant over the range of 298-400 K for ammonia? Why or why not? \n",
    "2. Does modelling $C_P(T)$ as a constant over- or underestimate the heat associated with this process? Why? Does this make sense from a molecular perspective? "
   ]
  },
  {
   "cell_type": "markdown",
   "id": "9eacbc7f",
   "metadata": {
    "deletable": false,
    "nbgrader": {
     "cell_type": "markdown",
     "checksum": "7c3dea8528a91bcfc02aeb2a5b638b41",
     "grade": true,
     "grade_id": "cell-d332f88847fb3fd7",
     "locked": false,
     "points": 1,
     "schema_version": 3,
     "solution": true,
     "task": false
    }
   },
   "source": [
    "YOUR ANSWER HERE"
   ]
  },
  {
   "cell_type": "markdown",
   "id": "6d49eeb3",
   "metadata": {
    "deletable": false,
    "editable": false,
    "nbgrader": {
     "cell_type": "markdown",
     "checksum": "4dee2b6e48b24a1b35d757662c38fdb0",
     "grade": false,
     "grade_id": "cell-17dcdd785ade8abc",
     "locked": true,
     "schema_version": 3,
     "solution": false,
     "task": false
    }
   },
   "source": [
    "### Section 2.3 Reflection\n",
    "\n",
    "In the Chemical Thermodynamics and Kinetics Reference section of your notebook, add a section titled \"Heat Capacity: $C_P$ and $C_V$\"\n",
    "\n",
    "Briefly conceptually _and_ mathematically summarize key points of this topic so that you will have this easily available as a reference. Include sketches of surfaces in your description. "
   ]
  },
  {
   "cell_type": "markdown",
   "id": "3c5a8da3",
   "metadata": {
    "deletable": false,
    "editable": false,
    "nbgrader": {
     "cell_type": "markdown",
     "checksum": "a4ff005effc23189ff3bd7cf1414d8d2",
     "grade": false,
     "grade_id": "cell-884bb36fb59b026a",
     "locked": true,
     "schema_version": 3,
     "solution": false,
     "task": false
    }
   },
   "source": [
    "## Section 2.4: Calculating $q$ and $w$ for thermodynamic processes \n",
    "\n",
    "In the sections above, you encountered isothermal and isobaric processes. Let's tie everything we have learned in sections 2.1-2.3 together, and apply this to modelling isochoric and adiabatic processes.  Note you may need to refer to the course text and materials from our lecture discussion. \n",
    "\n",
    "### 2.4.1: Isochoric \n",
    "\n",
    "A sample of He gas at $T_i=275 \\text{ K}$ and $P_i = 1.10\\cdot 10^5\\text{ Pa}$ is heated at constant volume until $P = 1.0\\cdot 10^6 \\text{ Pa}$. Below, calculate $w$, $q$, and $\\Delta U$ for this system. (<u>Hint:</u> model the system as an ideal gas.)"
   ]
  },
  {
   "cell_type": "code",
   "execution_count": null,
   "id": "1b551d89",
   "metadata": {
    "deletable": false,
    "nbgrader": {
     "cell_type": "code",
     "checksum": "b98880d39029da4dde3e766fc90fac68",
     "grade": true,
     "grade_id": "cell-9520f723b922e5ff",
     "locked": false,
     "points": 1,
     "schema_version": 3,
     "solution": true,
     "task": false
    }
   },
   "outputs": [],
   "source": [
    "#calculate w\n",
    "\n",
    "#calculate q\n",
    "\n",
    "#calculate dU\n",
    "\n",
    "#print all values with labels and units\n",
    "\n",
    "# YOUR CODE HERE\n",
    "raise NotImplementedError()"
   ]
  },
  {
   "cell_type": "markdown",
   "id": "e5744004",
   "metadata": {
    "deletable": false,
    "editable": false,
    "nbgrader": {
     "cell_type": "markdown",
     "checksum": "14fb4de574e6475518b517da338d36d2",
     "grade": false,
     "grade_id": "cell-2a8cbaa0798384df",
     "locked": true,
     "schema_version": 3,
     "solution": false,
     "task": false
    }
   },
   "source": [
    "**Interpret your answer**. Does your answer make sense? Does the magnitude and sign seem reasonable for the change being described? Do you think the ideal gas approximation is reliable under these conditions?"
   ]
  },
  {
   "cell_type": "markdown",
   "id": "6dd59b45",
   "metadata": {
    "deletable": false,
    "editable": false,
    "nbgrader": {
     "cell_type": "markdown",
     "checksum": "88bf86873fa64640fb3552b8411ea1b6",
     "grade": false,
     "grade_id": "cell-e86d6bd5cfbffe5d",
     "locked": true,
     "schema_version": 3,
     "solution": false,
     "task": false
    }
   },
   "source": [
    "### 2.4.2: Adiabatic \n",
    "\n",
    "2.50 moles of a monoatomic ideal gas is initially at $T_i=298 \\text{ K}$ and $P_i=1.00\\cdot10^5\\text{ Pa}$ in an enclosed adibatic piston and cylinder assembly. A mass is applied to the piston, compressing the ideal gas under $P_\\text{ext}=3.07\\cdot10^5\\text{ Pa}$. Calculate $w$, $q$, and $dU$ for this process.\n",
    "\n",
    "(Stuck? You may want to examine Engel & Reid Example Problem 2.8 on page 54) "
   ]
  },
  {
   "cell_type": "code",
   "execution_count": null,
   "id": "b3bc723e",
   "metadata": {
    "deletable": false,
    "nbgrader": {
     "cell_type": "code",
     "checksum": "c59ad47a90d14e892465d855f34ea73a",
     "grade": true,
     "grade_id": "cell-c679d5a20bf1d644",
     "locked": false,
     "points": 1,
     "schema_version": 3,
     "solution": true,
     "task": false
    }
   },
   "outputs": [],
   "source": [
    "#calculate w\n",
    "\n",
    "#calculate q\n",
    "\n",
    "#calculate dU\n",
    "\n",
    "#print all values with labels and units\n",
    "\n",
    "# YOUR CODE HERE\n",
    "raise NotImplementedError()"
   ]
  },
  {
   "cell_type": "markdown",
   "id": "4b0e092b",
   "metadata": {
    "deletable": false,
    "editable": false,
    "nbgrader": {
     "cell_type": "markdown",
     "checksum": "47808e98e00f384a4bcfe479c39ed6d9",
     "grade": false,
     "grade_id": "cell-c8ed5c989ef1ee78",
     "locked": true,
     "schema_version": 3,
     "solution": false,
     "task": false
    }
   },
   "source": [
    "**Interpret your answer**. Does your answer make sense? Does the magnitude and sign seem reasonable for the change being described? In what ways would your process need to change if this were not describing a monoatomic ideal gas? "
   ]
  },
  {
   "cell_type": "markdown",
   "id": "da1ebb46",
   "metadata": {
    "deletable": false,
    "editable": false,
    "nbgrader": {
     "cell_type": "markdown",
     "checksum": "bab4f907263a6d489f4e6ead921bb6b6",
     "grade": false,
     "grade_id": "cell-9068c2abe07f9508",
     "locked": true,
     "schema_version": 3,
     "solution": false,
     "task": false
    }
   },
   "source": [
    "### Section 2.4 Reflection \n",
    "\n",
    "In the Chemical Thermodynamics and Kinetics Reference section of your notebook, add a section titled \"Thermodynamic Processes for Gaseous Systems\"\n",
    "\n",
    "In this section, briefly summarize relevant considerations, assumptions, and equations for the following types of processes:\n",
    "- Isothermal \n",
    "- Isobaric\n",
    "- Isochoric\n",
    "- Adiabatic \n",
    "\n",
    "You can use the examples worked here as illustrative examples in your reference description. \n"
   ]
  }
 ],
 "metadata": {
  "kernelspec": {
   "display_name": "Python 3",
   "language": "python",
   "name": "python3"
  },
  "language_info": {
   "codemirror_mode": {
    "name": "ipython",
    "version": 3
   },
   "file_extension": ".py",
   "mimetype": "text/x-python",
   "name": "python",
   "nbconvert_exporter": "python",
   "pygments_lexer": "ipython3",
   "version": "3.8.8"
  }
 },
 "nbformat": 4,
 "nbformat_minor": 5
}
