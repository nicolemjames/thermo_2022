{
 "cells": [
  {
   "cell_type": "markdown",
   "id": "e2dac43c",
   "metadata": {},
   "source": [
    "Make sure you fill in any place that says `YOUR CODE HERE` or \"YOUR ANSWER HERE\", and delete any instances of `raise NotImplementedError()` (those are just to make sure you don't forget to complete a block. "
   ]
  },
  {
   "cell_type": "markdown",
   "id": "d4368c48",
   "metadata": {},
   "source": [
    "---"
   ]
  },
  {
   "cell_type": "markdown",
   "id": "1bac5de4",
   "metadata": {
    "deletable": false,
    "editable": false,
    "nbgrader": {
     "cell_type": "markdown",
     "checksum": "5660431d3d6759ad48319f030f35d5e3",
     "grade": false,
     "grade_id": "cell-44319ecdccb8f961",
     "locked": true,
     "schema_version": 3,
     "solution": false,
     "task": false
    }
   },
   "source": [
    "# Getting Started in Python: Python and P(T,V) surfaces \n",
    "\n",
    "Goal 1.1: Use Python to perform arithmetic calculations and make plots <br>\n",
    "Goal 1.2: Plot state functions <br>\n",
    "Goal 1.3: Interpret surface plots of state functions to make predictions about gases<br>\n",
    "Goal 1.4: Explain how a gas's $P(T,V)$ characteristics relate to molecular properties<br>\n",
    "\n",
    "**Note:** For more details on the topics in Section 1.1 and 1.2, see CH 1 in _Scientific Computing For Chemists_ (uploaded to the moodle). "
   ]
  },
  {
   "cell_type": "markdown",
   "id": "40e12c1e",
   "metadata": {
    "deletable": false,
    "editable": false,
    "nbgrader": {
     "cell_type": "markdown",
     "checksum": "374035769a675979efd755f94cedcd70",
     "grade": false,
     "grade_id": "cell-482d98c752e47108",
     "locked": true,
     "schema_version": 3,
     "solution": false,
     "task": false
    }
   },
   "source": [
    "### Section 1.1: Printing, text, and numbers. \n",
    "\n",
    "There are many libraries built for use in Python. Each library comes with a suite of functions and tools that you can reference and use, as long as you've loaded that library. The next cell loads some libraries we will use in this CGI.  Click in the box, and press shift-enter to execute it."
   ]
  },
  {
   "cell_type": "code",
   "execution_count": null,
   "id": "84083d84",
   "metadata": {
    "deletable": false,
    "editable": false,
    "nbgrader": {
     "cell_type": "code",
     "checksum": "e7fa7b4ea4c5ca37edef266f8bc2734a",
     "grade": false,
     "grade_id": "cell-fb7132e549394146",
     "locked": true,
     "schema_version": 3,
     "solution": false,
     "task": false
    }
   },
   "outputs": [],
   "source": [
    "# Bring in numpy(for numerical operations) and some matplotlib tools (for graphics)\n",
    "from numpy import *\n",
    "from matplotlib.pyplot import *\n",
    "import matplotlib.pyplot as plt\n",
    "from mpl_toolkits.mplot3d import axes3d"
   ]
  },
  {
   "cell_type": "code",
   "execution_count": null,
   "id": "ece16a70",
   "metadata": {
    "deletable": false,
    "editable": false,
    "nbgrader": {
     "cell_type": "code",
     "checksum": "7fdf170ccce6b4145ded1b4e3e8df01f",
     "grade": false,
     "grade_id": "cell-cc5e30b07c5776ae",
     "locked": true,
     "schema_version": 3,
     "solution": false,
     "task": false
    }
   },
   "outputs": [],
   "source": [
    "%matplotlib inline "
   ]
  },
  {
   "cell_type": "code",
   "execution_count": null,
   "id": "9d7e254b",
   "metadata": {
    "deletable": false,
    "editable": false,
    "nbgrader": {
     "cell_type": "code",
     "checksum": "0e255ddebabc032be9cfacafd6c4f966",
     "grade": false,
     "grade_id": "cell-b7fda95c828c423d",
     "locked": true,
     "schema_version": 3,
     "solution": false,
     "task": false
    }
   },
   "outputs": [],
   "source": [
    "%matplotlib widget"
   ]
  },
  {
   "cell_type": "markdown",
   "id": "e9049d73",
   "metadata": {
    "deletable": false,
    "editable": false,
    "nbgrader": {
     "cell_type": "markdown",
     "checksum": "d74ccb497cdcb58f829743701447c995",
     "grade": false,
     "grade_id": "cell-c69519fdaf1c3f49",
     "locked": true,
     "schema_version": 3,
     "solution": false,
     "task": false
    }
   },
   "source": [
    "The first program that many people learn to write is a \"Hello, world!\" program. The purpose of this program is to get your program to output the phrase _Hello, world!_ The code cell below contains the code to successfully run such a program in Python. Run this cell (click in, then shift-enter)"
   ]
  },
  {
   "cell_type": "code",
   "execution_count": null,
   "id": "055d3d6f",
   "metadata": {
    "deletable": false,
    "editable": false,
    "nbgrader": {
     "cell_type": "code",
     "checksum": "8d07211048071e371d95ecd7f841caa9",
     "grade": false,
     "grade_id": "cell-7fea745723a064f2",
     "locked": true,
     "schema_version": 3,
     "solution": false,
     "task": false
    }
   },
   "outputs": [],
   "source": [
    "print(\"Hello, world!\")"
   ]
  },
  {
   "cell_type": "markdown",
   "id": "e51251c2",
   "metadata": {
    "deletable": false,
    "editable": false,
    "nbgrader": {
     "cell_type": "markdown",
     "checksum": "adee43ebfd7d779419783d6a9bb64fa2",
     "grade": false,
     "grade_id": "cell-52b46c25ffe2ad34",
     "locked": true,
     "schema_version": 3,
     "solution": false,
     "task": false
    }
   },
   "source": [
    "The print() function prints what you place into the parentheses. In this case we printed a statement (Hello, world!). The statement is surrounded by quotation marks, which is how you make a _string_ in Python. A string is text data as opposed to numerical data.\n",
    "\n",
    "Practice making strings and using the print function. Use the code cell below to print two statements (with your own answers filled into the brackets): \n",
    "\n",
    "--My name is [name].   <br>\n",
    "--One thing I am looking forward to this semester is [thing]."
   ]
  },
  {
   "cell_type": "code",
   "execution_count": null,
   "id": "f9c85000",
   "metadata": {
    "deletable": false,
    "nbgrader": {
     "cell_type": "code",
     "checksum": "bb12a4c81fea61e90844133241597d3d",
     "grade": true,
     "grade_id": "cell-9fc96cdee6df968a",
     "locked": false,
     "points": 1,
     "schema_version": 3,
     "solution": true,
     "task": false
    }
   },
   "outputs": [],
   "source": [
    "\n",
    "# YOUR CODE HERE\n",
    "raise NotImplementedError()"
   ]
  },
  {
   "cell_type": "markdown",
   "id": "06d8db67",
   "metadata": {
    "deletable": false,
    "editable": false,
    "nbgrader": {
     "cell_type": "markdown",
     "checksum": "47892a1955659212980fee9ca37bacb3",
     "grade": false,
     "grade_id": "cell-3c14a619c47f6577",
     "locked": true,
     "schema_version": 3,
     "solution": false,
     "task": false
    }
   },
   "source": [
    "Text is useful for inputting labels or descriptors, or printing statements to signify process that have occurred in your code. However, numerical data is also very useful.\n",
    "\n",
    "When we want to work with numbers, we will use either _integers_ or _floats_ (short for _floating point numbers_). Integers are whole numbers. Floats are values with a decimal. If a number is written with no decimal point, Python treats it as an integer. If a number is written with a decimal point, Python treats it as a float.\n",
    "\n",
    "Consider these two possible python addition commands:\n",
    "\n",
    "A)  5 + 10 <br>\n",
    "B)  5.0 + 10.0\n",
    "\n",
    "In the markdown cell below, predict what the Python-supplied answer for each addition would be. "
   ]
  },
  {
   "cell_type": "markdown",
   "id": "50e38397",
   "metadata": {
    "deletable": false,
    "nbgrader": {
     "cell_type": "markdown",
     "checksum": "5dc5b23400aa7d3cf45ba013227ef206",
     "grade": true,
     "grade_id": "cell-8481d60329b4000c",
     "locked": false,
     "points": 1,
     "schema_version": 3,
     "solution": true,
     "task": false
    }
   },
   "source": [
    "YOUR ANSWER HERE"
   ]
  },
  {
   "cell_type": "markdown",
   "id": "5148890a",
   "metadata": {
    "deletable": false,
    "editable": false,
    "nbgrader": {
     "cell_type": "markdown",
     "checksum": "17ed2ace809995926427e1afd05aa38b",
     "grade": false,
     "grade_id": "cell-89bb0640a059d68e",
     "locked": true,
     "schema_version": 3,
     "solution": false,
     "task": false
    }
   },
   "source": [
    "Run the coding cell below (click into it, then shift+enter) "
   ]
  },
  {
   "cell_type": "code",
   "execution_count": null,
   "id": "459a1cfa",
   "metadata": {
    "deletable": false,
    "editable": false,
    "nbgrader": {
     "cell_type": "code",
     "checksum": "2fa08ce02a5801f351929a31f9208ff9",
     "grade": false,
     "grade_id": "cell-34589a7c8ce002de",
     "locked": true,
     "schema_version": 3,
     "solution": false,
     "task": false
    }
   },
   "outputs": [],
   "source": [
    "# Addition\n",
    "print(\"A) \", 5 + 10) \n",
    "print(\"B) \", 5.0 + 10.0)"
   ]
  },
  {
   "cell_type": "markdown",
   "id": "4ce274aa",
   "metadata": {
    "deletable": false,
    "editable": false,
    "nbgrader": {
     "cell_type": "markdown",
     "checksum": "7317275a482e99ca5ea2f27a5f38786c",
     "grade": false,
     "grade_id": "cell-c1b221979dae90fe",
     "locked": true,
     "schema_version": 3,
     "solution": false,
     "task": false
    }
   },
   "source": [
    "__Consider:__ Is this aligned with your prediction? If so, how did you know? If not, does it make sense in retrospect? Which value is an integer? Which is a float? \n",
    "\n",
    "\n",
    "A few other things to note about the cell above: \n",
    "<br>\n",
    "<br>\n",
    "__Readability__\n",
    "1) We have used the pound symbol (`#`) to indicate a _comment_. Comments are used to annotate code to make it easier to read and understand. When you use the pound symbol, Python ignores everything on that line to the right of it. If I hadn't used the pound symbol and had instead just tried to write `Addition`, Python would have given me an error (you can delete the pound symbol and test this!).\n",
    "<br>\n",
    "<br>\n",
    "2) I placed a space after the comma, and between values in the addition calculation. This makes the code easier to read. Python ignores spaces _unless_ they are in a string.\n",
    "<br>\n",
    "<br>\n",
    "3) You may notice jupyter color-codes pieces of the code. For example, the string in both these commands is red, and operations (addition) is purple. This is to make the code easier to read and debug. \n",
    "<br>\n",
    "\n",
    "__Function__\n",
    "1) I placed two items into each print function: one _string_ (which acted as a label), and one calculation. Each item is separated by a comma, and python will print one and then the other, on the same line. Note that I ended my string with a space for readability. This way the output reads \"A) 5\" and not \"A)5\". \n",
    "<br>\n",
    "<br>\n",
    "2) We got two different answers because python will output an integer when only integers are added (5+10). It also outputs a float when only floats are added (5.0+10.0). \n",
    "<br>\n",
    "\n",
    "\n",
    "**Question:** What do you think would happen if you added a combination of integers and floats? In the code block below, make a _comment_ with your prediction, and then test it by printing one or more calculations. End with a _comment_ summarizing your finding. \n",
    "\n",
    "(Note: If your _comments_ take multiple lines, each line must start with a `#`)"
   ]
  },
  {
   "cell_type": "code",
   "execution_count": null,
   "id": "b7722326",
   "metadata": {
    "deletable": false,
    "nbgrader": {
     "cell_type": "code",
     "checksum": "f8c92cc5279adae7b61077b140703236",
     "grade": true,
     "grade_id": "cell-db3c7a843ce8c345",
     "locked": false,
     "points": 1,
     "schema_version": 3,
     "solution": true,
     "task": false
    }
   },
   "outputs": [],
   "source": [
    "\n",
    "# YOUR CODE HERE\n",
    "raise NotImplementedError()"
   ]
  },
  {
   "attachments": {
    "6f9ba465-3a76-4eac-a5bc-fb0eee3d8ba0.png": {
     "image/png": "[encoded data removed]"
    }
   },
   "cell_type": "markdown",
   "id": "186eef2b",
   "metadata": {
    "deletable": false,
    "editable": false,
    "nbgrader": {
     "cell_type": "markdown",
     "checksum": "953ec1864ca9c8232f531584e9777169",
     "grade": false,
     "grade_id": "cell-6bd6d7f27fd32844",
     "locked": true,
     "schema_version": 3,
     "solution": false,
     "task": false
    }
   },
   "source": [
    "Consider the table below, from _Scientific Computing for Chemists_\n",
    "\n",
    "![image.png](attachment:6f9ba465-3a76-4eac-a5bc-fb0eee3d8ba0.png)\n",
    "\n",
    "Now, perform the calculations described in the cells below "
   ]
  },
  {
   "cell_type": "code",
   "execution_count": null,
   "id": "c481594d",
   "metadata": {
    "deletable": false,
    "nbgrader": {
     "cell_type": "code",
     "checksum": "ab3d8d054b97cc07de5f174a5281865b",
     "grade": true,
     "grade_id": "cell-24567850a66d8bbb",
     "locked": false,
     "points": 1,
     "schema_version": 3,
     "solution": true,
     "task": false
    }
   },
   "outputs": [],
   "source": [
    "#print 10 minus 5\n",
    "\n",
    "# YOUR CODE HERE\n",
    "raise NotImplementedError()"
   ]
  },
  {
   "cell_type": "code",
   "execution_count": null,
   "id": "e558dd68",
   "metadata": {
    "deletable": false,
    "nbgrader": {
     "cell_type": "code",
     "checksum": "78a37ff5b9cbf68dbd50101c48f688c5",
     "grade": true,
     "grade_id": "cell-4bb0bb122d9a0096",
     "locked": false,
     "points": 1,
     "schema_version": 3,
     "solution": true,
     "task": false
    }
   },
   "outputs": [],
   "source": [
    "#print 10 times 5\n",
    "\n",
    "# YOUR CODE HERE\n",
    "raise NotImplementedError()"
   ]
  },
  {
   "cell_type": "code",
   "execution_count": null,
   "id": "ff4a6ddf",
   "metadata": {
    "deletable": false,
    "nbgrader": {
     "cell_type": "code",
     "checksum": "2e2f04de95586cc03399adc9bb2931f2",
     "grade": true,
     "grade_id": "cell-cfaa448f0560d750",
     "locked": false,
     "points": 1,
     "schema_version": 3,
     "solution": true,
     "task": false
    }
   },
   "outputs": [],
   "source": [
    "#print 5 divided by 2\n",
    "\n",
    "# YOUR CODE HERE\n",
    "raise NotImplementedError()\n"
   ]
  },
  {
   "cell_type": "code",
   "execution_count": null,
   "id": "d319fd18",
   "metadata": {
    "deletable": false,
    "nbgrader": {
     "cell_type": "code",
     "checksum": "24dada1f46280b8dfe7b2dc5b6ad515f",
     "grade": true,
     "grade_id": "cell-0e27b6fba4fe3c87",
     "locked": false,
     "points": 1,
     "schema_version": 3,
     "solution": true,
     "task": false
    }
   },
   "outputs": [],
   "source": [
    "#print 10 raised to the 3rd power\n",
    "\n",
    "# YOUR CODE HERE\n",
    "raise NotImplementedError()"
   ]
  },
  {
   "cell_type": "markdown",
   "id": "b9ccd520",
   "metadata": {
    "deletable": false,
    "editable": false,
    "nbgrader": {
     "cell_type": "markdown",
     "checksum": "3cfaec77f252eaa251b0828f03363e4b",
     "grade": false,
     "grade_id": "cell-142829a284cd836e",
     "locked": true,
     "schema_version": 3,
     "solution": false,
     "task": false
    }
   },
   "source": [
    "__NOTE:__ Python follows standard order of operations. Be cautious of this when writing equations with multiple steps. For instance, consider the code block below. What do you think the output of each line will be? Run the code block and see!"
   ]
  },
  {
   "cell_type": "code",
   "execution_count": null,
   "id": "63b2bc81",
   "metadata": {
    "deletable": false,
    "editable": false,
    "nbgrader": {
     "cell_type": "code",
     "checksum": "946642f2e729179cde0302c0621ddc3b",
     "grade": false,
     "grade_id": "cell-3fd7fb054a88a752",
     "locked": true,
     "schema_version": 3,
     "solution": false,
     "task": false
    }
   },
   "outputs": [],
   "source": [
    "print(2.0 * 2.0 - 1)\n",
    "print(2.0 * (2.0 - 1))"
   ]
  },
  {
   "cell_type": "markdown",
   "id": "e2793c43",
   "metadata": {
    "deletable": false,
    "editable": false,
    "nbgrader": {
     "cell_type": "markdown",
     "checksum": "18799a3a619f1d5ea3bb8e19f2946a5f",
     "grade": false,
     "grade_id": "cell-06335a4182e2c51c",
     "locked": true,
     "schema_version": 3,
     "solution": false,
     "task": false
    }
   },
   "source": [
    "### Section 1.2: Variables \n",
    "\n",
    "_Variables_ can be used to store values or collections of values. This is very useful functionally in your code, and can also greatly simplify using and revising existing code.  \n",
    "\n",
    "_Variables_ are case-sensitive and can be _strings_, _integers_, _floats_, or collections of these values (which we will get to soon). Once a variable is assigned a value, it retains that value throughout a session until it is changed. \n",
    "\n",
    "Consider the code below. Three quotation marks signals a multi-line comment. In the comment, predict what you think the code will output. (This way, if your comment is multi-line, you don't need to worry about each line starting with a #.) Once you have made a prediction, run the code block. "
   ]
  },
  {
   "cell_type": "code",
   "execution_count": null,
   "id": "4cc1015f",
   "metadata": {
    "deletable": false,
    "nbgrader": {
     "cell_type": "code",
     "checksum": "958c80d5e94bd381e61eb1bd0bd5b215",
     "grade": true,
     "grade_id": "cell-b56feb67daf879e2",
     "locked": false,
     "points": 1,
     "schema_version": 3,
     "solution": true,
     "task": false
    }
   },
   "outputs": [],
   "source": [
    "\"\"\"This code will output _____\"\"\"\n",
    "x = 5\n",
    "y = 10\n",
    "print(x,\",\",y)\n",
    "print(X,\",\",Y)\n",
    "\n",
    "# YOUR CODE HERE\n",
    "raise NotImplementedError()"
   ]
  },
  {
   "cell_type": "markdown",
   "id": "2afb3df5",
   "metadata": {
    "deletable": false,
    "editable": false,
    "nbgrader": {
     "cell_type": "markdown",
     "checksum": "9b18e310f3f709ed3c2f98da420777be",
     "grade": false,
     "grade_id": "cell-faae2af4d7ccb427",
     "locked": true,
     "schema_version": 3,
     "solution": false,
     "task": false
    }
   },
   "source": [
    "What happened? Why? Explain in the mark-down cell below. "
   ]
  },
  {
   "cell_type": "markdown",
   "id": "848df536",
   "metadata": {
    "deletable": false,
    "nbgrader": {
     "cell_type": "markdown",
     "checksum": "afbec6d5b5db94484a73e86336f54dfa",
     "grade": true,
     "grade_id": "cell-1f64a50de88a5bc7",
     "locked": false,
     "points": 1,
     "schema_version": 3,
     "solution": true,
     "task": false
    }
   },
   "source": [
    "YOUR ANSWER HERE"
   ]
  },
  {
   "cell_type": "markdown",
   "id": "66a8a083",
   "metadata": {
    "deletable": false,
    "editable": false,
    "nbgrader": {
     "cell_type": "markdown",
     "checksum": "2f8ffbd50003af47a1f6a115e6966abd",
     "grade": false,
     "grade_id": "cell-33cacf7d5f7a21b5",
     "locked": true,
     "schema_version": 3,
     "solution": false,
     "task": false
    }
   },
   "source": [
    "The code block below contains two variables. Create a variable called **total_fruit**, which computes the sum total of all the apples and bananas. (Note: spaces are not allowed in variable names) \n",
    "\n",
    "Then, use the **total_fruit** variable to print a statement that reads \"There are ___ pieces of fruit in the basket\" (where the blank is filled in with the total number of fruit you determined). Run your code to ensure it works."
   ]
  },
  {
   "cell_type": "code",
   "execution_count": null,
   "id": "a683a90c",
   "metadata": {
    "deletable": false,
    "nbgrader": {
     "cell_type": "code",
     "checksum": "e604eefb2a11007b2e305881ce37d469",
     "grade": true,
     "grade_id": "cell-dc39e2942c2ee57d",
     "locked": false,
     "points": 1,
     "schema_version": 3,
     "solution": true,
     "task": false
    }
   },
   "outputs": [],
   "source": [
    "apples = 10\n",
    "bananas = 8\n",
    "\n",
    "# YOUR CODE HERE\n",
    "raise NotImplementedError()\n"
   ]
  },
  {
   "cell_type": "markdown",
   "id": "3e36bc1b",
   "metadata": {
    "deletable": false,
    "editable": false,
    "nbgrader": {
     "cell_type": "markdown",
     "checksum": "776e1b2ad8a0d4839c85aded2c23bbff",
     "grade": false,
     "grade_id": "cell-b1b5509aaa54dbb4",
     "locked": true,
     "schema_version": 3,
     "solution": false,
     "task": false
    }
   },
   "source": [
    "Next, use the cell below to compute the value of the polynomial  $y = ax^3 + bx^2 + cx+d$, where $a = 3$, $b = 1$, $c = -3$, $d = -5$, and $x = 2$. Then print the value of the variable $y$."
   ]
  },
  {
   "cell_type": "code",
   "execution_count": null,
   "id": "8b334b65",
   "metadata": {
    "deletable": false,
    "nbgrader": {
     "cell_type": "code",
     "checksum": "c255b276a7e2134fb3783e067c5f9fa8",
     "grade": true,
     "grade_id": "cell-3861025a68022b42",
     "locked": false,
     "points": 1,
     "schema_version": 3,
     "solution": true,
     "task": false
    }
   },
   "outputs": [],
   "source": [
    "# Create variables for a, b, c, d, and assign their values.\n",
    "\n",
    "# Create and assign a value to x\n",
    "\n",
    "# Calculate y\n",
    "\n",
    "# Print y\n",
    "\n",
    "\n",
    "# YOUR CODE HERE\n",
    "raise NotImplementedError()"
   ]
  },
  {
   "cell_type": "markdown",
   "id": "69cecd73",
   "metadata": {
    "deletable": false,
    "editable": false,
    "nbgrader": {
     "cell_type": "markdown",
     "checksum": "c60c21cb6b1fb8062f7f33115b790f13",
     "grade": false,
     "grade_id": "cell-ce87e92d4da1bf1c",
     "locked": true,
     "schema_version": 3,
     "solution": false,
     "task": false
    }
   },
   "source": [
    "### Section 1.3: Arrays, lists, and plots. \n",
    "\n",
    "(to be completed in class) \n",
    "\n",
    "So far we have used _scalar variables_, i.e. variables with just one assigned value. As you might imagine, there are many situations in which you might want a variable to represent a collection of values. \n",
    "\n",
    "This can happen through _arrays_ and _lists_. For many things, _arrays_ and _lists_ can be somewhat interchangeable. We will begin with _arrays_. \n",
    "\n",
    "\n",
    "Let's plot the polynomial from the previous cell, over the range of $x = -5$ to $x = 5$. We will do this by: \n",
    "1) Generating 20 values of $x$, evenly spaced between -5 to 5. \n",
    "<br>\n",
    "2) Calculating the value of $y$ at each of our 20 $x$ values. \n",
    "<br>\n",
    "3) Plotting $y$ vs $x$ \n",
    "\n",
    "Consider the contents of the cell below, then run it and consider the outputs. "
   ]
  },
  {
   "cell_type": "code",
   "execution_count": null,
   "id": "0e6e0b9b",
   "metadata": {
    "deletable": false,
    "editable": false,
    "nbgrader": {
     "cell_type": "code",
     "checksum": "be99eecc7579427ad096bce54af7b831",
     "grade": false,
     "grade_id": "cell-cf1a78bbdbc7e67d",
     "locked": true,
     "schema_version": 3,
     "solution": false,
     "task": false
    }
   },
   "outputs": [],
   "source": [
    "\"\"\"The linspace function (documentation: https://numpy.org/doc/stable/reference/generated/numpy.linspace.html) \n",
    "below will generate an array (sequence) of 20 evenly-spaced values between -5 and 5\"\"\"\n",
    "\n",
    "x_20 = linspace(-5,5,20) #generate the array\n",
    "print(\"x-values: \",x_20) #so we can look at it"
   ]
  },
  {
   "cell_type": "markdown",
   "id": "37b9b133",
   "metadata": {
    "deletable": false,
    "editable": false,
    "nbgrader": {
     "cell_type": "markdown",
     "checksum": "912fa00b944e9878333146cfe07230a1",
     "grade": false,
     "grade_id": "cell-93f6f1c140b064bd",
     "locked": true,
     "schema_version": 3,
     "solution": false,
     "task": false
    }
   },
   "source": [
    "#### Pause to discuss: Explain the difference between an array and a scalar. Which data type (array or scalar) does the linspace function make? How can you tell? "
   ]
  },
  {
   "cell_type": "markdown",
   "id": "d9cba63e",
   "metadata": {
    "deletable": false,
    "editable": false,
    "nbgrader": {
     "cell_type": "markdown",
     "checksum": "811edf17f86741754e4d01721b970012",
     "grade": false,
     "grade_id": "cell-0aed0210c92ddef3",
     "locked": true,
     "schema_version": 3,
     "solution": false,
     "task": false
    }
   },
   "source": [
    "In the cell below create a new variable called `x_10` which covers a range from -3 to 4 and has 10 points. Print it to verify that it covers the expected range and does in fact have 10 points."
   ]
  },
  {
   "cell_type": "code",
   "execution_count": null,
   "id": "feb9ca38",
   "metadata": {
    "deletable": false,
    "nbgrader": {
     "cell_type": "code",
     "checksum": "d2c0c176e20c68f1aab64dfa9eb99375",
     "grade": true,
     "grade_id": "cell-fe21079c7400f0c6",
     "locked": false,
     "points": 1,
     "schema_version": 3,
     "solution": true,
     "task": false
    }
   },
   "outputs": [],
   "source": [
    "\n",
    "\n",
    "# YOUR CODE HERE\n",
    "raise NotImplementedError()\n"
   ]
  },
  {
   "cell_type": "markdown",
   "id": "aed689f2",
   "metadata": {
    "deletable": false,
    "editable": false,
    "nbgrader": {
     "cell_type": "markdown",
     "checksum": "47bb4545b631d6c5353b84048e2e8b38",
     "grade": false,
     "grade_id": "cell-ba09e7644ad16a95",
     "locked": true,
     "schema_version": 3,
     "solution": false,
     "task": false
    }
   },
   "source": [
    "For a variable like `x_10`, it reasonably easy to just look at the entries. However, you might encounter an array of hundreds or thousands of points. Python has a function called `shape` (documentation: https://numpy.org/devdocs/reference/generated/numpy.shape.html) that reports the dimensions of an array. The `shape` function returns a _tuple_*, (m,n) where m is the number of rows in the array, and n is the number of columns. \n",
    "\n",
    "The cell below uses shape to prove that `x_20` is in fact a single column of 20 numbers. Add a line to it that uses `shape` to prove that the variable `x_10` contains a single column of 10 numbers.\n",
    "\n",
    "*a _tuple_ is a way to store multiple values--in this case, number rows and number columns--in a single variable. "
   ]
  },
  {
   "cell_type": "code",
   "execution_count": null,
   "id": "6cae728d",
   "metadata": {
    "deletable": false,
    "nbgrader": {
     "cell_type": "code",
     "checksum": "f4bd47135c608a8cb29e6ca153843d8c",
     "grade": true,
     "grade_id": "cell-c5f557b28484d96e",
     "locked": false,
     "points": 1,
     "schema_version": 3,
     "solution": true,
     "task": false
    }
   },
   "outputs": [],
   "source": [
    "print(shape(x_20))\n",
    "\n",
    "#print the shape of x_10 here \n",
    "\n",
    "# YOUR CODE HERE\n",
    "raise NotImplementedError()"
   ]
  },
  {
   "cell_type": "markdown",
   "id": "dad50fc6",
   "metadata": {
    "deletable": false,
    "editable": false,
    "nbgrader": {
     "cell_type": "markdown",
     "checksum": "b3e31e0ac77684e183d9935f94bb264c",
     "grade": false,
     "grade_id": "cell-ed7e1218a2d62294",
     "locked": true,
     "schema_version": 3,
     "solution": false,
     "task": false
    }
   },
   "source": [
    "Here's something cool: when you use an array in an algebraic expression, the resulting variable is also an array, of the same length! The cell below calculates $y$ algebraically, using `x_20`. Remember, you have already defined the variables $a$, $b$, $c$, and $d$, so you won't need to redefine them here. Consider and run the code below."
   ]
  },
  {
   "cell_type": "code",
   "execution_count": null,
   "id": "ac21e905",
   "metadata": {
    "deletable": false,
    "editable": false,
    "nbgrader": {
     "cell_type": "code",
     "checksum": "21fad34d215e531b3c228a72b1d383f5",
     "grade": false,
     "grade_id": "cell-a4234ee717ebc730",
     "locked": true,
     "schema_version": 3,
     "solution": false,
     "task": false
    }
   },
   "outputs": [],
   "source": [
    "y_20 = a*x_20**3 + b*x_20**2 + c*x_20 + d\n",
    "print(shape(y_20))"
   ]
  },
  {
   "cell_type": "markdown",
   "id": "dcd74ff2",
   "metadata": {
    "deletable": false,
    "editable": false,
    "nbgrader": {
     "cell_type": "markdown",
     "checksum": "bc747abb7069eade253be34d7d24b2ea",
     "grade": false,
     "grade_id": "cell-0e1a1c5d958569f4",
     "locked": true,
     "schema_version": 3,
     "solution": false,
     "task": false
    }
   },
   "source": [
    "In the cell below, create a variable called `y_10`, which is the y-values of our polynomial (like in the code block above), evaluated at each of the points in our `x_10` array. Use the shape function to confirm the length of your new array is also 10 values."
   ]
  },
  {
   "cell_type": "code",
   "execution_count": null,
   "id": "f4864101",
   "metadata": {
    "deletable": false,
    "nbgrader": {
     "cell_type": "code",
     "checksum": "1ff8aa1db7a12088c685766360fbf98b",
     "grade": true,
     "grade_id": "cell-ee6f5c7fdbc4e600",
     "locked": false,
     "points": 1,
     "schema_version": 3,
     "solution": true,
     "task": false
    }
   },
   "outputs": [],
   "source": [
    "#Create y_10 below\n",
    "\n",
    "#print the shape of y_10 \n",
    "\n",
    "\n",
    "# YOUR CODE HERE\n",
    "raise NotImplementedError()"
   ]
  },
  {
   "attachments": {
    "93e3ac10-13d8-4ce7-8e86-c1ec05044f58.png": {
     "image/png": "[encoded data removed]"
    }
   },
   "cell_type": "markdown",
   "id": "383e9e60",
   "metadata": {
    "deletable": false,
    "editable": false,
    "nbgrader": {
     "cell_type": "markdown",
     "checksum": "8637da98ba8fb8f9831a1cd4e47863c4",
     "grade": false,
     "grade_id": "cell-0f4b92b6434e6b9d",
     "locked": true,
     "schema_version": 3,
     "solution": false,
     "task": false
    }
   },
   "source": [
    "Recall our goal: to plot  $y = ax^3 + bx^2 + cx + d$ from $x = -5$ to $x = 5$. \n",
    "\n",
    "Python has a function (`plot`, documentation: https://matplotlib.org/stable/api/_as_gen/matplotlib.pyplot.plot.html), which makes 2-D plots. The basic syntax of the plot function is `plot(x,y,markerstring)`, where `x` is the $x$ values, `y` is the $y$ values, and `markerstring` specifies the marker point formatting, as shown in the table below. \n",
    "\n",
    "![image.png](attachment:93e3ac10-13d8-4ce7-8e86-c1ec05044f58.png)\n",
    "\n",
    "Consider the commands in the cell below. Then, run the cell to generate the plot. "
   ]
  },
  {
   "cell_type": "code",
   "execution_count": null,
   "id": "827b2c8b",
   "metadata": {
    "deletable": false,
    "editable": false,
    "nbgrader": {
     "cell_type": "code",
     "checksum": "896f735c0251bed5b58708046b75b581",
     "grade": false,
     "grade_id": "cell-3beb482d08227665",
     "locked": true,
     "schema_version": 3,
     "solution": false,
     "task": false
    }
   },
   "outputs": [],
   "source": [
    "# Initializes the plot window\n",
    "figure()\n",
    "\n",
    "# The plot function below plots y_20 as a function of x_20, with circular markers. \n",
    "plot(x_20,y_20,'o')\n",
    "xlabel('x-axis') #this applies an axis label \n",
    "ylabel('y-axis') #same deal, different axis "
   ]
  },
  {
   "cell_type": "markdown",
   "id": "b3b1b539",
   "metadata": {
    "deletable": false,
    "editable": false,
    "nbgrader": {
     "cell_type": "markdown",
     "checksum": "d6c410d7f9ea2c75f623fabd50ee79d0",
     "grade": false,
     "grade_id": "cell-ec3cdd519eb51618",
     "locked": true,
     "schema_version": 3,
     "solution": false,
     "task": false
    }
   },
   "source": [
    "Below, create a new figure window and plot `y_10` as a function of `x_10`. "
   ]
  },
  {
   "cell_type": "code",
   "execution_count": null,
   "id": "eac7638c",
   "metadata": {
    "deletable": false,
    "nbgrader": {
     "cell_type": "code",
     "checksum": "aec9dd32d116f8c6eb33db9bd1c2d47d",
     "grade": true,
     "grade_id": "cell-3f6c9c91a701178b",
     "locked": false,
     "points": 1,
     "schema_version": 3,
     "solution": true,
     "task": false
    }
   },
   "outputs": [],
   "source": [
    "\n",
    "# YOUR CODE HERE\n",
    "raise NotImplementedError()"
   ]
  },
  {
   "cell_type": "markdown",
   "id": "d6cb7cf2",
   "metadata": {
    "deletable": false,
    "editable": false,
    "nbgrader": {
     "cell_type": "markdown",
     "checksum": "f677a91df94a44c8d9a30c80cef9940a",
     "grade": false,
     "grade_id": "cell-afd0bc3b791afbef",
     "locked": true,
     "schema_version": 3,
     "solution": false,
     "task": false
    }
   },
   "source": [
    "Compare and contrast the two plots you have made. Are 10 points smooth enough to visualize the function well? Did we need 20 points? Do we need _more_ than 20 points? Respond in the markdown block below. "
   ]
  },
  {
   "cell_type": "markdown",
   "id": "ffb6e911",
   "metadata": {
    "deletable": false,
    "nbgrader": {
     "cell_type": "markdown",
     "checksum": "5d9eedf4b1dcd83f779b4e174897f8bf",
     "grade": true,
     "grade_id": "cell-c92564eb993f94fc",
     "locked": false,
     "points": 1,
     "schema_version": 3,
     "solution": true,
     "task": false
    }
   },
   "source": [
    "YOUR ANSWER HERE"
   ]
  },
  {
   "cell_type": "markdown",
   "id": "09d394cb",
   "metadata": {
    "deletable": false,
    "editable": false,
    "nbgrader": {
     "cell_type": "markdown",
     "checksum": "f16c9391353e31042f355fee021eb7a3",
     "grade": false,
     "grade_id": "cell-b2dc634adca1aef0",
     "locked": true,
     "schema_version": 3,
     "solution": false,
     "task": false
    }
   },
   "source": [
    "### Section 1.1-1.3 Reflection:\n",
    "\n",
    "In the first section of your notebook, title the first page \"Python Reference: Table of Contents. Leave the rest of the front and back of this page blank--you will update this table of contents as you add entries. \n",
    "\n",
    "Go to the second section of your notebook, and title its first page \"Chemical Thermodynamics and Kinetics Reference: Table of Contents\". Again, be sure to leave the rest of this page blank.\n",
    "\n",
    "Return to the Python Reference portion of your notebook. Write a brief definition of the following functions: \n",
    "\n",
    "- print\n",
    "- linspace\n",
    "- shape\n",
    "- figure\n",
    "- plot\n",
    "- xlabel \n",
    "- ylabel \n",
    "\n",
    "Update your table of contents with a descriptive name for this section, e.g. \"Basics of 2-Dimensional Plotting\""
   ]
  },
  {
   "cell_type": "markdown",
   "id": "62cb10ae",
   "metadata": {
    "deletable": false,
    "editable": false,
    "nbgrader": {
     "cell_type": "markdown",
     "checksum": "33e920774d2a74a0c382ae25bcb2a0cd",
     "grade": false,
     "grade_id": "cell-08c82ac609981e74",
     "locked": true,
     "schema_version": 3,
     "solution": false,
     "task": false
    }
   },
   "source": [
    "### Section 1.4: Plotting Thermodynamic Surfaces \n",
    "\n",
    "A fundamental idea of thermodynamics is the notion of thermodynamic surfaces. James Clerk Maxwell famously made three plaster models of a thermodynamic surface, and gave one (shown below) as a present to Gibbs.\n",
    "\n",
    "<p style='text-align: center;'>\n",
    "<img src=\"https://upload.wikimedia.org/wikipedia/commons/2/27/Maxwell%27s_thermodynamic_surface%2C_commentary_book_figures_1%2C2.jpg\" height=\"500\" width=\"500\"/>\n",
    "\n",
    "__Figure 1__. Thermodynamic surface of the energy of an idealized water-like substance constructed by James Clerk Maxwell as a gift to Josiah Willard Gibbs. \n",
    "</p>\n",
    "\n",
    "These models depict the energy of an idealized, water-like substance as a function of its volume and entropy. We'll return to the ideas of energy and entropy later, for now the important point is that _all_ substances (real or idealized) are characterized by various thermodynamic surfaces.\n",
    "\n",
    "Some nomenclature will help keep these ideas in mind. When we're looking at a thermodynamic surface, the **height** is called the **state function**, and the \"ground\" is called the **state space**. \n",
    "\n",
    "Also, our symbol for energy is $U$, volume $V$, and entropy $S$. So, you could describe this surface as: $U(V,S)$. The energy (U) is a function of volume (V) and entropy (S). Remember our guiding principal: the math tells a story--this surface, and the math describing it, tell a story about how the energy depends on the volume and entropy of the system. \n",
    "\n",
    "#### A \"Toy Model\" Thermodynamic Surface: The pressure of a gas\n",
    "\n",
    "In prior chemistry and/or physics courses, you may have encountered the ideal gas law: \n",
    "\n",
    "$$\n",
    "PV=nRT \\ \\ \\ \\ (1)\n",
    "$$\n",
    "\n",
    "which we can rewrite as: \n",
    "\n",
    "$$\n",
    "P=\\frac{nRT}{V} \\ \\ \\ \\ (2)\n",
    "$$\n",
    "\n",
    "Assume we are considering a system where the number of moles of gas is not changing. What variables does P depend on? In the markdown cell below, write this out in words *and* mathematically (as we did for $U(V,S)$ above)"
   ]
  },
  {
   "cell_type": "markdown",
   "id": "67a8e264",
   "metadata": {
    "deletable": false,
    "nbgrader": {
     "cell_type": "markdown",
     "checksum": "5b24bc79756b70e917e3cbdbaed4ad41",
     "grade": true,
     "grade_id": "cell-7705e5f4dfd4b48b",
     "locked": false,
     "points": 1,
     "schema_version": 3,
     "solution": true,
     "task": false
    }
   },
   "source": [
    "YOUR ANSWER HERE"
   ]
  },
  {
   "cell_type": "markdown",
   "id": "97e6d9a4",
   "metadata": {
    "deletable": false,
    "editable": false,
    "nbgrader": {
     "cell_type": "markdown",
     "checksum": "76cf3c0b00da70f51219b9711fd24e80",
     "grade": false,
     "grade_id": "cell-eb5a59b16516cea1",
     "locked": true,
     "schema_version": 3,
     "solution": false,
     "task": false
    }
   },
   "source": [
    "The van der Waal's equation describes non-ideal gases, which have intermolecular interactions (accounted for through $a$) and take up space (accounted for through $b$): \n",
    "$$\n",
    "P(T,V)={{n R T} \\over {V - nb}} - {{n^2 a} \\over V^2}  \\ \\ \\ (3)\n",
    "$$\n",
    "\n",
    "Thus, _provided $n$ is constant_, equation (2) and equation (3) both show that pressure ($P$) is a state function, and the state space is $(T,V)$. That is: $P(T,V)$. However, equation (2) and equation (3) are two different models for the pressure state function. \n",
    "\n",
    "We are going to explore these models, and the differences between them. Thus, our mission is to generate a 3-dimensional plot of pressure, as a function of both temperature and volume. \n",
    "\n",
    "#### Python Grids \n",
    "To generate a 3D plot, we need a *grid* (or *meshgrid*). A grid is essentially a bunch of arrays stacked up next to each other. Here, we will construct two state space grids (one for each state space variable) and a third state function grid. \n",
    "\n",
    "The cell below defines the function `Statespace`, which we will use to make grids. We have encountered some built-in functions already (for example, `plot`). In general, functions make it easy to concisely repeat certain procedures or algorithms. They can take variables and return other variables, but they can also do other things. If you need a function that isn't already built-in, you can define it (as we do below). For more on defining functions, read Section 1.9 in _Scientific Computing for Chemists_. \n",
    "\n",
    "Consider the commands in the code block below, and then run the code cell so we can use this function in later. "
   ]
  },
  {
   "cell_type": "code",
   "execution_count": null,
   "id": "45e5541e",
   "metadata": {
    "deletable": false,
    "editable": false,
    "nbgrader": {
     "cell_type": "code",
     "checksum": "78c566a7ff3461fa7b33f88bc6cbc4c4",
     "grade": false,
     "grade_id": "cell-4973835fcf2fe56f",
     "locked": true,
     "schema_version": 3,
     "solution": false,
     "task": false
    }
   },
   "outputs": [],
   "source": [
    "def Statespace(xspecs,yspecs): #xspecs and yspecs must be a list containing three values\n",
    "    xarray = np.linspace(xspecs[0],xspecs[1],xspecs[2]) #Statespace makes an array, using the three values in xspecs\n",
    "    yarray = np.linspace(yspecs[0],yspecs[1],yspecs[2]) #Statespace makes an array, using the three values in yspecs\n",
    "    ygrid,xgrid = np.meshgrid(yarray,xarray) #\"meshes\" the two 1-D arrays together to make a 2-D matrix \n",
    "    return xgrid, ygrid #the function returns these variables \n",
    "\n",
    "print(\"Cell was run\") #to make it easy to see this cell block has been run"
   ]
  },
  {
   "cell_type": "markdown",
   "id": "a527ab20",
   "metadata": {
    "deletable": false,
    "editable": false,
    "nbgrader": {
     "cell_type": "markdown",
     "checksum": "64bb176ae8b664c9948d1ae1d8c418eb",
     "grade": false,
     "grade_id": "cell-f513bbf48c0d7fcf",
     "locked": true,
     "schema_version": 3,
     "solution": false,
     "task": false
    }
   },
   "source": [
    "Below, we use the function `Statespace` to create the components of our grid. Consider the cell contents, then run the cell and consider the output. \n"
   ]
  },
  {
   "cell_type": "code",
   "execution_count": null,
   "id": "cc78e239",
   "metadata": {
    "deletable": false,
    "editable": false,
    "nbgrader": {
     "cell_type": "code",
     "checksum": "bfc3a30a3c22bac34f73d5b0e53f7451",
     "grade": false,
     "grade_id": "cell-12e65ccf69d65cf0",
     "locked": true,
     "schema_version": 3,
     "solution": false,
     "task": false
    }
   },
   "outputs": [],
   "source": [
    "# creates the numerical grid\n",
    "xgrid,ygrid = Statespace([2,4,3],[5,8,4])\n",
    "\n",
    "# Let's see what it looks like\n",
    "print(\"x grid: \",np.shape(xgrid))\n",
    "print(xgrid)\n",
    "print(\"y grid: \",np.shape(ygrid))\n",
    "print(ygrid)"
   ]
  },
  {
   "cell_type": "markdown",
   "id": "f6716e84",
   "metadata": {
    "deletable": false,
    "editable": false,
    "nbgrader": {
     "cell_type": "markdown",
     "checksum": "81747755c361eb6d817a8dea4a812d09",
     "grade": false,
     "grade_id": "cell-1bbb9e4d017ac24a",
     "locked": true,
     "schema_version": 3,
     "solution": false,
     "task": false
    }
   },
   "source": [
    "In the markdown cell below, answer the following questions:\n",
    "1. What is the purpose of using `xgrid, ygrid` before we call `Statespace`? What do they collect?  \n",
    "2. What are the values in `xspecs` doing in the function? You might consider explaining this using an example, e.g. by what the value of `xarray` would be if `xspecs` were `[2,10,5]`"
   ]
  },
  {
   "cell_type": "markdown",
   "id": "6d3229c0",
   "metadata": {
    "deletable": false,
    "nbgrader": {
     "cell_type": "markdown",
     "checksum": "ac6a933ec0b23e0aaa1b220ffc57dad1",
     "grade": true,
     "grade_id": "cell-44ad5f1552992cee",
     "locked": false,
     "points": 1,
     "schema_version": 3,
     "solution": true,
     "task": false
    }
   },
   "source": [
    "YOUR ANSWER HERE"
   ]
  },
  {
   "cell_type": "markdown",
   "id": "dd5cd8c0",
   "metadata": {
    "deletable": false,
    "editable": false,
    "nbgrader": {
     "cell_type": "markdown",
     "checksum": "e8fb1a74e9ed2667c70985d026415e16",
     "grade": false,
     "grade_id": "cell-00d364b9ec7dd2ac",
     "locked": true,
     "schema_version": 3,
     "solution": false,
     "task": false
    }
   },
   "source": [
    "**Your turn.** Now, practice your state space-making skills. Use statespace to create:\n",
    "- A variable called \"Tgrid\" that has 51 values ranging from 200 to 400 K\n",
    "- A variable called \"Vgrid\" that has 42 values ranging from 1 to 42 L\n",
    "\n",
    "Then, as done above, print:\n",
    "- The shape of each variable\n",
    "- The values of each variable\n",
    "\n",
    "Do not put the units in the variable itself--rather, use a # at the end of the line to add a comment about what the unit is for each variable. "
   ]
  },
  {
   "cell_type": "code",
   "execution_count": null,
   "id": "1e4f4682",
   "metadata": {
    "deletable": false,
    "nbgrader": {
     "cell_type": "code",
     "checksum": "4e471944b6fb2b328d10642b31b02df6",
     "grade": true,
     "grade_id": "cell-533f377b90d1d5ab",
     "locked": false,
     "points": 1,
     "schema_version": 3,
     "solution": true,
     "task": false
    }
   },
   "outputs": [],
   "source": [
    "# YOUR CODE HERE\n",
    "raise NotImplementedError()"
   ]
  },
  {
   "cell_type": "markdown",
   "id": "1971e198",
   "metadata": {
    "deletable": false,
    "editable": false,
    "nbgrader": {
     "cell_type": "markdown",
     "checksum": "a607f01e68b2c394f0ec6255ff561eca",
     "grade": false,
     "grade_id": "cell-5aabf722ec2cddcd",
     "locked": true,
     "schema_version": 3,
     "solution": false,
     "task": false
    }
   },
   "source": [
    "Note that `Vgrid` and `Tgrid` define all the possible combinations of volume and temperature over these ranges. Now, we want to calculate the pressure of an ideal gas at each of these values. \n",
    "\n",
    "To do so, we will define the constants $n$ and $R$, and use equation (2). Consider and run the code below. Make sure what you're seeing and what output you get makes sense--You'll need to do something very similar on your own very soon."
   ]
  },
  {
   "cell_type": "code",
   "execution_count": null,
   "id": "56839e96",
   "metadata": {
    "deletable": false,
    "editable": false,
    "nbgrader": {
     "cell_type": "code",
     "checksum": "db72c26e1602b196b1881041d8372268",
     "grade": false,
     "grade_id": "cell-1ecaf2a476761305",
     "locked": true,
     "schema_version": 3,
     "solution": false,
     "task": false
    }
   },
   "outputs": [],
   "source": [
    "n=1 #mol\n",
    "R=0.082057 #(L*atm)/(mol*K)\n",
    "\n",
    "Pgrid_ideal = n*R*Tgrid/Vgrid #eqn 2, using P=Pgrid_ideal, T=Tgrid, and V=Vgrid\n",
    "print(shape(Pgrid_ideal)) #to make sure we get a matrix. Its dimensions should be set by Tgrid and Vgrid: (51,42)"
   ]
  },
  {
   "cell_type": "markdown",
   "id": "6bba3d14",
   "metadata": {
    "deletable": false,
    "editable": false,
    "nbgrader": {
     "cell_type": "markdown",
     "checksum": "5867ec9adec96488208e3f427f3c208c",
     "grade": false,
     "grade_id": "cell-346d6cd8f224c667",
     "locked": true,
     "schema_version": 3,
     "solution": false,
     "task": false
    }
   },
   "source": [
    "Now, we want to plot the pressure of the ideal gas, as a function of both temperature and volume, $P(T,V)$. Again, consider and run the code below. Take note, you're about to do this same thing on your own, for a non-ideal gas. "
   ]
  },
  {
   "cell_type": "code",
   "execution_count": null,
   "id": "10e823a1",
   "metadata": {
    "deletable": false,
    "editable": false,
    "nbgrader": {
     "cell_type": "code",
     "checksum": "83290c235e801bf5fccdfa192da6132f",
     "grade": false,
     "grade_id": "cell-5e36e1d816b74d00",
     "locked": true,
     "schema_version": 3,
     "solution": false,
     "task": false
    }
   },
   "outputs": [],
   "source": [
    "# Prep the axis labels\n",
    "xlabel = \"T (K)\"\n",
    "ylabel = \"V (L)\" \n",
    "zlabel = \"P (atm)\"\n",
    "\n",
    "# Graph the pressure\n",
    "fig = plt.figure() #create the figure window, which we can refer to using the variable 'fig'\n",
    "ax = plt.axes(projection='3d') #create a 3D axis in the figure, which we can refer to using the variable 'ax'\n",
    "ax.plot_surface(Tgrid, Vgrid, Pgrid_ideal, color='plum') # plot P(V,T)\n",
    "ax.set_xlabel(xlabel) #assign the x-axis label, defined above\n",
    "ax.set_ylabel(ylabel) #assign the y-axis label, defined above\n",
    "ax.set_zlabel(zlabel) #assign the z-axis label, defined above\n",
    "ax.set_title(\"ideal gas\") #set a title for the plot so we don't forget what it is.\n",
    "\n"
   ]
  },
  {
   "cell_type": "markdown",
   "id": "0de0810b",
   "metadata": {
    "deletable": false,
    "editable": false,
    "nbgrader": {
     "cell_type": "markdown",
     "checksum": "481a59d7863df759d110614972ab40a7",
     "grade": false,
     "grade_id": "cell-0c8f224e5edebaf9",
     "locked": true,
     "schema_version": 3,
     "solution": false,
     "task": false
    }
   },
   "source": [
    "**Your turn.** Here we go! Below, use the same $(T,V)$ state space we already created to plot the pressure of argon gas, $P_\\text{argon}(T,V)$. Do _not_ assume it is an ideal gas (that is: use the van der Waals equation, equation (3). \n",
    "\n",
    "Do not forget to specify the parameters $a$ and $b$ (you can google what these values are for argon). Also, do not forget to label your axes! With units! "
   ]
  },
  {
   "cell_type": "code",
   "execution_count": null,
   "id": "4a2f9ffb",
   "metadata": {
    "deletable": false,
    "nbgrader": {
     "cell_type": "code",
     "checksum": "08f57df382773601b7711ef63935abff",
     "grade": true,
     "grade_id": "cell-7b33ad629cae09b8",
     "locked": false,
     "points": 1,
     "schema_version": 3,
     "solution": true,
     "task": false
    }
   },
   "outputs": [],
   "source": [
    "# Define a, b parameters for argon \n",
    "\n",
    "# Calculate the pressure, Pgrid_vdw, on the (T,V) state space using equation (3)\n",
    "\n",
    "# Graph the pressure as a function of (T,V)\n",
    "\n",
    "\n",
    "# YOUR CODE HERE\n",
    "raise NotImplementedError()"
   ]
  },
  {
   "cell_type": "markdown",
   "id": "1bf63def",
   "metadata": {
    "deletable": false,
    "editable": false,
    "nbgrader": {
     "cell_type": "markdown",
     "checksum": "fc238906dd56bf2497cd9ead22287be9",
     "grade": false,
     "grade_id": "cell-e8e12da3b34e2b46",
     "locked": true,
     "schema_version": 3,
     "solution": false,
     "task": false
    }
   },
   "source": [
    "**Your challenge.** Inspecting how much Argon deviates from the ideal model.\n",
    "\n",
    "In the cell below, calculate a new thermodynamic surface that is the difference between the van der Waals surface and the ideal surfaces. You can use a command like this: `Pgrid_diff = Pgrid_vdw - Pgrid_ideal`\n",
    "    \n",
    "Then display *that* surface in a temperature-volume state space. Add appropriate labeling, etc."
   ]
  },
  {
   "cell_type": "code",
   "execution_count": null,
   "id": "17b04e6c",
   "metadata": {
    "deletable": false,
    "nbgrader": {
     "cell_type": "code",
     "checksum": "742b693c7d2c74643e873c8b5658fe2f",
     "grade": true,
     "grade_id": "cell-3dcd2a4ecb07aa55",
     "locked": false,
     "points": 1,
     "schema_version": 3,
     "solution": true,
     "task": false
    }
   },
   "outputs": [],
   "source": [
    "# YOUR CODE HERE\n",
    "raise NotImplementedError()"
   ]
  },
  {
   "cell_type": "markdown",
   "id": "10a81f88",
   "metadata": {
    "deletable": false,
    "editable": false,
    "nbgrader": {
     "cell_type": "markdown",
     "checksum": "90fcb2e62a39ffb49df6e158c278074e",
     "grade": false,
     "grade_id": "cell-0af2cc6b36045ff6",
     "locked": true,
     "schema_version": 3,
     "solution": false,
     "task": false
    }
   },
   "source": [
    "### Section 1.4 Reflection:  \n",
    "\n",
    "Open to the Chemical Thermodynamics and Kinetics Reference portion of your notebook (be sure to leave space for the table of contents!) \n",
    "\n",
    "Create an entry titled \"Week 1: P(T,V) surfaces\" - In this entry:\n",
    "\n",
    "1. Record a brief summary of what a _state function_ and _state space_ are\n",
    "2. Record Equations (2) and (3) briefly describing what they are, and include a sketch of their surfaces. \n",
    "3. Explain what Pgrid_diff is, and sketch its surface -- use it to answer the following questions\n",
    "4. At low temperature, do intermolecular *attractions* or intermolecular *repulsions* appear to be more important? (Hint: consider the sign of the difference surface--are particles being disproportionately drawn closer together, or farther apart?)\n",
    "5. Are these effects more evidenvce at low volume, or high volume? How do you know? \n",
    "\n",
    "Open to the Python Reference portion of your notebook. Add an entry detailing:\n",
    "\n",
    "1. How to make a state space grid\n",
    "2. How to plot a state function in 3-D.\n",
    "\n",
    "Name this entry and add it to your table of contents."
   ]
  },
  {
   "cell_type": "markdown",
   "id": "0b2b18fd",
   "metadata": {
    "deletable": false,
    "editable": false,
    "nbgrader": {
     "cell_type": "markdown",
     "checksum": "cfd655ea8ee2fd594b74f5dfaf8560b6",
     "grade": false,
     "grade_id": "cell-abbc0051cf9cd12a",
     "locked": true,
     "schema_version": 3,
     "solution": false,
     "task": false
    }
   },
   "source": [
    "### The End! \n",
    "\n",
    "Make sure all your cells have been run (click the \"Cell\" menu above, and select \"Run all\"). \n",
    "\n",
    "Then, save your notebook and download it (File > download as > notebook (.ipynb)) to your computer.\n",
    "\n",
    "Turn in this file by uploading it to moodle. Be sure to also turn in your reference notebook!"
   ]
  },
  {
   "cell_type": "markdown",
   "id": "870345f4",
   "metadata": {
    "deletable": false,
    "nbgrader": {
     "cell_type": "markdown",
     "checksum": "e88bb4c02486fbd4ca19751dfd3fad50",
     "grade": true,
     "grade_id": "cell-00eb6137e45eb74f",
     "locked": false,
     "points": 0,
     "schema_version": 3,
     "solution": true,
     "task": false
    }
   },
   "source": [
    "YOUR ANSWER HERE"
   ]
  }
 ],
 "metadata": {
  "kernelspec": {
   "display_name": "Python 3",
   "language": "python",
   "name": "python3"
  },
  "language_info": {
   "codemirror_mode": {
    "name": "ipython",
    "version": 3
   },
   "file_extension": ".py",
   "mimetype": "text/x-python",
   "name": "python",
   "nbconvert_exporter": "python",
   "pygments_lexer": "ipython3",
   "version": "3.8.8"
  }
 },
 "nbformat": 4,
 "nbformat_minor": 5
}
