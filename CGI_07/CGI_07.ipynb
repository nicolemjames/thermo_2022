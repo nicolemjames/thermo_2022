{
 "cells": [
  {
   "cell_type": "markdown",
   "id": "a214d78d",
   "metadata": {},
   "source": [
    "Make sure you fill in any place that says `YOUR CODE HERE` or \"YOUR ANSWER HERE\", and delete any instances of `raise NotImplementedError()` (those are just to make sure you don't forget to complete a block. "
   ]
  },
  {
   "cell_type": "markdown",
   "id": "cef62e54",
   "metadata": {},
   "source": [
    "---"
   ]
  },
  {
   "cell_type": "markdown",
   "id": "0e55326f",
   "metadata": {
    "deletable": false,
    "editable": false,
    "nbgrader": {
     "cell_type": "markdown",
     "checksum": "51b5422b5a9567e8b983c95f15cfa636",
     "grade": false,
     "grade_id": "cell-77eda27ffba7a4e8",
     "locked": true,
     "schema_version": 3,
     "solution": false,
     "task": false
    }
   },
   "source": [
    "# CGI_07\n",
    "\n",
    "**Learning Goals in this CGI:**<br>\n",
    "Goal 5.1:  Calculate changes in chemical potential <br>\n",
    "Goal 5.2:  Explain the driving forces for changes in chemical potential <br> \n",
    "Goal 5.3:  Interpret and explain system behavior based on changes in chemical potential <br> \n",
    "Goal 5.4:  Interpret phase diagrams and connect to chemical potential  <br>\n",
    "Goal 5.5:  Use thermodynamically derived equations to calculate and justify attributes of phase diagrams<br>\n",
    "\n",
    "In CGI_06, we explored free energy surfaces and how they represent the net interplay of thermodynamic driving forces that determine system behavior. Here we build off of this, using the change in chemical potential to assess thermodynamic transitions. We will focus primarily on phase equilibria--but as we will see, chemical potential is a powerful tool that can be represented in multiple ways to provide insight into a variety of chemical processes. "
   ]
  },
  {
   "cell_type": "code",
   "execution_count": null,
   "id": "a87e8b49",
   "metadata": {
    "deletable": false,
    "editable": false,
    "nbgrader": {
     "cell_type": "code",
     "checksum": "2b11abd5ea8163c980b6369d63875e63",
     "grade": false,
     "grade_id": "cell-25653b5efd0acac8",
     "locked": true,
     "schema_version": 3,
     "solution": false,
     "task": false
    }
   },
   "outputs": [],
   "source": [
    "import numpy as np\n",
    "import matplotlib.pyplot as plt\n",
    "from mpl_toolkits.mplot3d import axes3d\n",
    "import PchemLibrary as PL\n",
    "import sympy as sp "
   ]
  },
  {
   "cell_type": "code",
   "execution_count": null,
   "id": "313002b9",
   "metadata": {
    "deletable": false,
    "editable": false,
    "nbgrader": {
     "cell_type": "code",
     "checksum": "53f804c9913f5c9b8259b104adc39797",
     "grade": false,
     "grade_id": "cell-d11c41081c8dcf99",
     "locked": true,
     "schema_version": 3,
     "solution": false,
     "task": false
    }
   },
   "outputs": [],
   "source": [
    "%matplotlib inline"
   ]
  },
  {
   "cell_type": "code",
   "execution_count": null,
   "id": "8a786063",
   "metadata": {
    "deletable": false,
    "editable": false,
    "nbgrader": {
     "cell_type": "code",
     "checksum": "2c326bcbbcaa7725c1420be62c7aa741",
     "grade": false,
     "grade_id": "cell-8f5dc2b7ff3e7a40",
     "locked": true,
     "schema_version": 3,
     "solution": false,
     "task": false
    }
   },
   "outputs": [],
   "source": [
    "%matplotlib widget"
   ]
  },
  {
   "cell_type": "markdown",
   "id": "1fba1a98",
   "metadata": {
    "deletable": false,
    "editable": false,
    "nbgrader": {
     "cell_type": "markdown",
     "checksum": "7bbe40b0beea72d96db0adc2896c5007",
     "grade": false,
     "grade_id": "cell-e631a4c5618ad2a4",
     "locked": true,
     "schema_version": 3,
     "solution": false,
     "task": false
    }
   },
   "source": [
    "## Section 7.1: Free energy and Chemical Potential \n",
    "\n",
    "In class we discussed a measure of a system's propensity to transition from higher free energy to lower free energy: chemical potential $\\mu$. \n",
    "\n",
    "$$\\mu= \\left(\\frac{\\partial G}{\\partial n}\\right)_{T, P}=G_m \\ \\ \\ (1) $$\n",
    "\n",
    "where $n$ is number of moles and $G_m$ is the molar Gibbs free energy. In class we showed how this means that: \n",
    "\n",
    "$$d\\mu=V_m dP -S_m dT \\ \\ \\ (2) $$"
   ]
  },
  {
   "cell_type": "markdown",
   "id": "69041d98",
   "metadata": {
    "deletable": false,
    "editable": false,
    "nbgrader": {
     "cell_type": "markdown",
     "checksum": "25a8875d14038bb26a0538e5f7550408",
     "grade": false,
     "grade_id": "cell-c3dfb1cfdc896df9",
     "locked": true,
     "schema_version": 3,
     "solution": false,
     "task": false
    }
   },
   "source": [
    "### Problem 7.1.1\n",
    "\n",
    "Imagine we have a vessel that contains liquid and gaseous water, coexisting. We use a piston that is permeable to the gas, to apply pressure on the liquid. The temperature of the system is held constant. \n",
    "\n",
    "<img src=\"Compress_Gas.jpg\" width = 250>\n",
    "\n",
    "Where $P^*$ is the initial vapor pressure, $P$ is the final vapor pressure, and $\\Delta P$ is the pressure exerted on the liquid. \n"
   ]
  },
  {
   "cell_type": "markdown",
   "id": "29fd6f39",
   "metadata": {
    "deletable": false,
    "editable": false,
    "nbgrader": {
     "cell_type": "markdown",
     "checksum": "cb1cdb01254e101a4ab3c87081e21350",
     "grade": false,
     "grade_id": "cell-249fa3c04df078c2",
     "locked": true,
     "schema_version": 3,
     "solution": false,
     "task": false
    }
   },
   "source": [
    "a.) For a system of 20 $^\\text{o}\\text{C}$, plot the change in chemical potential of the gas, $\\Delta \\mu_g$, as a function of the vapor pressure $P$ above the equilibrium vapor pressure $P^*$. Treat the gas as an ideal gas. The vapor pressure of water at 20 $^\\text{o}\\text{C}$ is 2333 Pa. \n",
    "\n",
    "Note: Up to now, we have been using \"quick and dirty\" plots - the type of plots you might use to get a sense of data. However, for a presentation or a paper,  you would want to polish the visualization of the data. You may find it helpful to:\n",
    "- Include markers to indicate where individual points are \n",
    "- Include a line connection the points, as a guide to the eye \n",
    "- [set the size of your plot](https://stackabuse.com/change-figure-size-in-matplotlib/) - a typical half-column figure is approximately 3.5 inches wide. \n",
    "- [alter the font size of the axis and/or tick labels](https://towardsdatascience.com/change-font-size-matplolib-480630e300b4) - if needed to ensure they are easily legible "
   ]
  },
  {
   "cell_type": "code",
   "execution_count": null,
   "id": "431165aa",
   "metadata": {
    "deletable": false,
    "nbgrader": {
     "cell_type": "code",
     "checksum": "467828fd9c85c833909f2ceccf5bd442",
     "grade": true,
     "grade_id": "cell-48d7fa783b23a843",
     "locked": false,
     "points": 1,
     "schema_version": 3,
     "solution": true,
     "task": false
    }
   },
   "outputs": [],
   "source": [
    "# YOUR CODE HERE\n",
    "raise NotImplementedError()"
   ]
  },
  {
   "cell_type": "markdown",
   "id": "1e43ce14",
   "metadata": {
    "deletable": false,
    "editable": false,
    "nbgrader": {
     "cell_type": "markdown",
     "checksum": "d0b2864237c8a682353c50cc372cced6",
     "grade": false,
     "grade_id": "cell-f9f3900508155b75",
     "locked": true,
     "schema_version": 3,
     "solution": false,
     "task": false
    }
   },
   "source": [
    "b.) For a system of 20 $^\\text{o}\\text{C}$, plot the change in chemical potential of the liquid, $\\Delta \\mu_l$, as a function of the applied pressure $\\Delta P$, where $\\Delta P$ ranges from $0$ Pa to $1\\cdot 10^6$ Pa. Model the liquid as incompressible. The molar volume of liquid water is $1.8 \\cdot 10^{-5} \\text{ m}^3/\\text{mol}$. "
   ]
  },
  {
   "cell_type": "code",
   "execution_count": null,
   "id": "af24f2c4",
   "metadata": {
    "deletable": false,
    "nbgrader": {
     "cell_type": "code",
     "checksum": "6a790bf039df504cee51f131fdb73356",
     "grade": true,
     "grade_id": "cell-38eff14c7472b533",
     "locked": false,
     "points": 1,
     "schema_version": 3,
     "solution": true,
     "task": false
    }
   },
   "outputs": [],
   "source": [
    "# YOUR CODE HERE\n",
    "raise NotImplementedError()"
   ]
  },
  {
   "cell_type": "markdown",
   "id": "469c4aae",
   "metadata": {
    "deletable": false,
    "editable": false,
    "nbgrader": {
     "cell_type": "markdown",
     "checksum": "e60296f5de726f8b2d3b7a15a4a54989",
     "grade": false,
     "grade_id": "cell-5f02358329daf9b8",
     "locked": true,
     "schema_version": 3,
     "solution": false,
     "task": false
    }
   },
   "source": [
    "c.) For a system at 20 $^\\text{o}\\text{C}$, plot the equilibrium vapor pressure $P$ as a function of the pressure applied to the liquid $\\Delta P$. "
   ]
  },
  {
   "cell_type": "code",
   "execution_count": null,
   "id": "503fba7a",
   "metadata": {
    "deletable": false,
    "nbgrader": {
     "cell_type": "code",
     "checksum": "b6027dc84f2418735f47829d76697acd",
     "grade": true,
     "grade_id": "cell-7f188d6ea805cd2c",
     "locked": false,
     "points": 1,
     "schema_version": 3,
     "solution": true,
     "task": false
    }
   },
   "outputs": [],
   "source": [
    "# YOUR CODE HERE\n",
    "raise NotImplementedError()"
   ]
  },
  {
   "cell_type": "markdown",
   "id": "39e23173",
   "metadata": {
    "deletable": false,
    "editable": false,
    "nbgrader": {
     "cell_type": "markdown",
     "checksum": "cc8042d06ebcaadf942e7f8e7be362a6",
     "grade": false,
     "grade_id": "cell-1801a0a8df128ec6",
     "locked": true,
     "schema_version": 3,
     "solution": false,
     "task": false
    }
   },
   "source": [
    "d.) **Interpret your answers.** Is the plot above consistent with what you would expect, based on your answers to (a-b)? Why or why not?"
   ]
  },
  {
   "cell_type": "markdown",
   "id": "5cb40419",
   "metadata": {
    "deletable": false,
    "nbgrader": {
     "cell_type": "markdown",
     "checksum": "d3e135536676a00677a750408ee822e6",
     "grade": true,
     "grade_id": "cell-b01a29444497dd46",
     "locked": false,
     "points": 1,
     "schema_version": 3,
     "solution": true,
     "task": false
    }
   },
   "source": [
    "YOUR ANSWER HERE"
   ]
  },
  {
   "cell_type": "markdown",
   "id": "f6ae3d7e",
   "metadata": {
    "deletable": false,
    "editable": false,
    "nbgrader": {
     "cell_type": "markdown",
     "checksum": "658b40ae0ce20a198cb289ace9660f95",
     "grade": false,
     "grade_id": "cell-a9194404b8d3ffa0",
     "locked": true,
     "schema_version": 3,
     "solution": false,
     "task": false
    }
   },
   "source": [
    "e.) **Evaluate your answer.** Above we adopted an ideal gas model for water vapor. \n",
    "- Does this seem reasonable? \n",
    "- How would you predict this would be different if the gas behaved non-ideally, particularly with regards to attractive intermolecular forces? "
   ]
  },
  {
   "cell_type": "markdown",
   "id": "3a480b4e",
   "metadata": {
    "deletable": false,
    "nbgrader": {
     "cell_type": "markdown",
     "checksum": "699dafe81a1d631e7aed6177664cd906",
     "grade": true,
     "grade_id": "cell-f8acc27f4c3662e6",
     "locked": false,
     "points": 1,
     "schema_version": 3,
     "solution": true,
     "task": false
    }
   },
   "source": [
    "YOUR ANSWER HERE"
   ]
  },
  {
   "cell_type": "markdown",
   "id": "8ce7c0bb",
   "metadata": {
    "deletable": false,
    "editable": false,
    "nbgrader": {
     "cell_type": "markdown",
     "checksum": "dd63cce8295c7f9bdb50e72c97860f7d",
     "grade": false,
     "grade_id": "cell-fe2fc756372011ef",
     "locked": true,
     "schema_version": 3,
     "solution": false,
     "task": false
    }
   },
   "source": [
    "### Problem 7.1.2\n",
    "\n",
    "Problem 7.1.1 is a classical thermodynamics treatment of chemical potential. Recall in class that we can also treat this statistically, in terms of the partition function: \n",
    "\n",
    "$$ \\mu = -RT \\left( \\frac{\\partial \\ln Q}{\\partial N} \\right)_{V,T} $$ \n",
    "\n",
    "Recall that for an ideal gas: \n",
    "\n",
    "$$ Q = \\frac{\\left( q(V,T) \\right)^N}{N!}$$\n",
    "\n",
    "Using Sterling's approximation: \n",
    "\n",
    "$$\n",
    "\\ln Q = N \\ln q - N \\ln N + N\n",
    "$$\n",
    "\n",
    "such that: \n",
    "\n",
    "$$\n",
    "\\mu_g = -RT \\ln \\frac{q(V,T)}{N}\n",
    "$$\n",
    "\n",
    "and for a monoatomic ideal gas: \n",
    "\n",
    "$$\n",
    "q(V,T) = \\left( \\frac{2 \\pi m k_B T}{h^2} \\right)^{3/2} \\cdot V \n",
    "$$\n",
    "\n",
    "a.) Plot the chemical potential (in units of kJ/mol) for Argon gas as a function of T. Some useful values are included below. \n"
   ]
  },
  {
   "cell_type": "code",
   "execution_count": null,
   "id": "b22d58c3",
   "metadata": {
    "deletable": false,
    "nbgrader": {
     "cell_type": "code",
     "checksum": "1609aa9a5c67eee56d3855c2653dba16",
     "grade": true,
     "grade_id": "cell-eb997b6b4d5e7de9",
     "locked": false,
     "points": 1,
     "schema_version": 3,
     "solution": true,
     "task": false
    }
   },
   "outputs": [],
   "source": [
    "V = 1 #m^3 \n",
    "m_Ar = 6.6335e-26 #kg per atom \n",
    "N = 6.022e23 #atoms \n",
    "T = np.linspace(1,400, 25) #K\n",
    "\n",
    "\n",
    "# YOUR CODE HERE\n",
    "raise NotImplementedError()"
   ]
  },
  {
   "cell_type": "markdown",
   "id": "f8d43676",
   "metadata": {
    "deletable": false,
    "editable": false,
    "nbgrader": {
     "cell_type": "markdown",
     "checksum": "a2a1176a83d651004fe9676291fe634a",
     "grade": false,
     "grade_id": "cell-2da52b49cf1afdb7",
     "locked": true,
     "schema_version": 3,
     "solution": false,
     "task": false
    }
   },
   "source": [
    "b.) **Interpret your answer.** Is this consistent with what you would expect? Invoke thermal equilibrium in your explanation. "
   ]
  },
  {
   "cell_type": "markdown",
   "id": "2f90c4ac",
   "metadata": {
    "deletable": false,
    "nbgrader": {
     "cell_type": "markdown",
     "checksum": "f81ae906fc466a3160a9853e60d9c0f1",
     "grade": true,
     "grade_id": "cell-c005f768b5675261",
     "locked": false,
     "points": 1,
     "schema_version": 3,
     "solution": true,
     "task": false
    }
   },
   "source": [
    "YOUR ANSWER HERE"
   ]
  },
  {
   "cell_type": "markdown",
   "id": "4b7e2315",
   "metadata": {
    "deletable": false,
    "editable": false,
    "nbgrader": {
     "cell_type": "markdown",
     "checksum": "7407ab2d1bd55c92790b75d64dea1c05",
     "grade": false,
     "grade_id": "cell-b3f96ceee66c6047",
     "locked": true,
     "schema_version": 3,
     "solution": false,
     "task": false
    }
   },
   "source": [
    "### Problem 7.1.3 \n",
    "\n",
    "a.) Plant and algal photosynthesis occurs in chloroplasts.  Chloroplasts contain thylakoids, which consist of a membrane containing a continuous aqueous phase. A light-dependent reaction pumps protons across the thylakoid membrane into the lumen. This creates a concentration gradient that is key for driving the synthesis of ATP. \n",
    " <img src=\"Chloroplast.png\" width=\"300\">\n",
    "\n",
    "Suppose that in the light, the chloroplast maintans a lumenal pH of 4 while the surrounding matrix is at pH 8. Calculate the difference in the molar chemical potential associated with this concentration difference. Plot $\\Delta \\mu$ as a function of a $T$ over the range of 0-50 degrees Celsius. "
   ]
  },
  {
   "cell_type": "code",
   "execution_count": null,
   "id": "0f552aec",
   "metadata": {
    "deletable": false,
    "nbgrader": {
     "cell_type": "code",
     "checksum": "1368a16cf2bb639a93b34eef5fc453e8",
     "grade": true,
     "grade_id": "cell-4a3830b832aebd3e",
     "locked": false,
     "points": 1,
     "schema_version": 3,
     "solution": true,
     "task": false
    }
   },
   "outputs": [],
   "source": [
    "# YOUR CODE HERE\n",
    "raise NotImplementedError()"
   ]
  },
  {
   "cell_type": "markdown",
   "id": "107f393d",
   "metadata": {
    "deletable": false,
    "editable": false,
    "nbgrader": {
     "cell_type": "markdown",
     "checksum": "8eb678f0659067f43edfbb0aee02cc65",
     "grade": false,
     "grade_id": "cell-4a7ae231a9670e41",
     "locked": true,
     "schema_version": 3,
     "solution": false,
     "task": false
    }
   },
   "source": [
    "b. **Interpret your answer**. Is this trend what you would expect? Why are why not? Explain based on the relationships between chemical potential, concentration gradients, and temperature. "
   ]
  },
  {
   "cell_type": "markdown",
   "id": "4626832f",
   "metadata": {
    "deletable": false,
    "nbgrader": {
     "cell_type": "markdown",
     "checksum": "c8c2ad31ce51fbcdfc5c1dccf07f0f89",
     "grade": true,
     "grade_id": "cell-04091513b1ac8425",
     "locked": false,
     "points": 1,
     "schema_version": 3,
     "solution": true,
     "task": false
    }
   },
   "source": [
    "YOUR ANSWER HERE"
   ]
  },
  {
   "cell_type": "markdown",
   "id": "217499ee",
   "metadata": {},
   "source": [
    "c.) Note that this concentration gradient will eventually be used to drive the production of ATP. The change in delta G associated with synthesizing ATP is 28 kJ / mol. Consider your plot in part (a). Over this temperature range, what general claims can you make about the stoichiometry of protons moving across the concentration gradient and ATP being synthesized?"
   ]
  },
  {
   "cell_type": "markdown",
   "id": "63d700eb",
   "metadata": {
    "deletable": false,
    "nbgrader": {
     "cell_type": "markdown",
     "checksum": "ca3438ca191af5b197e3406a0f94be94",
     "grade": true,
     "grade_id": "cell-0e578db32ee246fa",
     "locked": false,
     "points": 1,
     "schema_version": 3,
     "solution": true,
     "task": false
    }
   },
   "source": [
    "YOUR ANSWER HERE"
   ]
  },
  {
   "cell_type": "markdown",
   "id": "a01b9404",
   "metadata": {
    "deletable": false,
    "editable": false,
    "nbgrader": {
     "cell_type": "markdown",
     "checksum": "a005cdd1f12e670ef31e30665fc0b194",
     "grade": false,
     "grade_id": "cell-33772574a6d1eb02",
     "locked": true,
     "schema_version": 3,
     "solution": false,
     "task": false
    }
   },
   "source": [
    "## Section 7.2: Phase Equilibria and Phase Diagrams \n",
    "\n",
    "The phase diagram for carbon dioxide is shown below. This section aims to connect phase diagrams such as this, and the way we have been modelling phase transitions using the Clausius and Clausius-Clapeyron Equations. \n",
    "\n",
    "<img src = \"CO2_PhaseDiagram.jpg\" width = 400>\n",
    "Image Credit: Yang et al, Int. J. Rock Mech. Min., 107 (2018) 233-242. \n",
    "\n",
    "### Problem 7.2.1 \n",
    "\n",
    "To begin, let's familiarize ourselves with the phase diagram itself. In the Markdown cell below, include answers to the following questions:  \n",
    "\n",
    "a.) Imagine you have a sample of pure CO$_2$ at 1 MPa and -25$^\\text{o}$C. The sample is isothermally compressed to 10 MPa. What happens during this process? \n",
    "\n",
    "b.) What can you say about the chemical potential of the gas, liquid, and solid phases of CO$_2$ at -56.4$^\\text{o}$C and 0.518 MPa? Why? \n",
    "\n",
    "c.) Describe the significance of the critical point and the supercritical state. Include a discussion of intermolecular forces in your answer. "
   ]
  },
  {
   "cell_type": "markdown",
   "id": "5142a080",
   "metadata": {
    "deletable": false,
    "nbgrader": {
     "cell_type": "markdown",
     "checksum": "4f03b4f70bf4e6d087f5f27aee2e9217",
     "grade": true,
     "grade_id": "cell-60f0d1bdc1b9d089",
     "locked": false,
     "points": 1,
     "schema_version": 3,
     "solution": true,
     "task": false
    }
   },
   "source": [
    "YOUR ANSWER HERE"
   ]
  },
  {
   "cell_type": "markdown",
   "id": "5f616f2a",
   "metadata": {
    "deletable": false,
    "editable": false,
    "nbgrader": {
     "cell_type": "markdown",
     "checksum": "70f2e36e5ae9808550f523d6698e3dd1",
     "grade": false,
     "grade_id": "cell-60ffe2838159c3b2",
     "locked": true,
     "schema_version": 3,
     "solution": false,
     "task": false
    }
   },
   "source": [
    "### Problem 7.2.2 \n",
    "\n",
    "a.) Use the Clapeyron equation to explain why the slope of the gas-to-fluid transition line in the CO$_2$ phase diagram image is positive. Incorporate a conceptual discussion of the quantities involved in the Clapeyron equation, and how they are changing over this transition. Provide a mechanistic, molecular explanation for _why_ this makes sense. "
   ]
  },
  {
   "cell_type": "markdown",
   "id": "a404c980",
   "metadata": {
    "deletable": false,
    "nbgrader": {
     "cell_type": "markdown",
     "checksum": "52f67bd18fd3518e78e7f2349686d3c8",
     "grade": true,
     "grade_id": "cell-1e4d1d6ed375cb0e",
     "locked": false,
     "points": 1,
     "schema_version": 3,
     "solution": true,
     "task": false
    }
   },
   "source": [
    "YOUR ANSWER HERE"
   ]
  },
  {
   "cell_type": "markdown",
   "id": "d2a34251",
   "metadata": {
    "deletable": false,
    "editable": false,
    "nbgrader": {
     "cell_type": "markdown",
     "checksum": "c92d32dadc65f40331d0c02b4ba94481",
     "grade": false,
     "grade_id": "cell-e66771d570ff0f99",
     "locked": true,
     "schema_version": 3,
     "solution": false,
     "task": false
    }
   },
   "source": [
    "b.) Considering the Clapeyron equation, why is the solid-fluid transition line so steep at lower temperatures? What does this mean? "
   ]
  },
  {
   "cell_type": "markdown",
   "id": "275dec7e",
   "metadata": {
    "deletable": false,
    "nbgrader": {
     "cell_type": "markdown",
     "checksum": "40410629adf2c431bfa9cd2185a86b3c",
     "grade": true,
     "grade_id": "cell-ef7aec6ff8b0bd8c",
     "locked": false,
     "points": 1,
     "schema_version": 3,
     "solution": true,
     "task": false
    }
   },
   "source": [
    "YOUR ANSWER HERE"
   ]
  },
  {
   "cell_type": "markdown",
   "id": "c82b41ae",
   "metadata": {
    "deletable": false,
    "editable": false,
    "nbgrader": {
     "cell_type": "markdown",
     "checksum": "0c31d677ea4766ea928bd07102c5601e",
     "grade": false,
     "grade_id": "cell-da875b3fb4ab7636",
     "locked": true,
     "schema_version": 3,
     "solution": false,
     "task": false
    }
   },
   "source": [
    "### Problem 7.2.3 \n",
    "\n",
    "a.) How is the Clausius-Clapeyron equation distinct from the Clausius equation? Compare and contrast the types of systems they can describe. "
   ]
  },
  {
   "cell_type": "markdown",
   "id": "b5f95360",
   "metadata": {
    "deletable": false,
    "nbgrader": {
     "cell_type": "markdown",
     "checksum": "f310f22c0d9cf5ac7c0e41d8afc81f9a",
     "grade": true,
     "grade_id": "cell-838aeb704b1927a0",
     "locked": false,
     "points": 1,
     "schema_version": 3,
     "solution": true,
     "task": false
    }
   },
   "source": [
    "YOUR ANSWER HERE"
   ]
  },
  {
   "cell_type": "markdown",
   "id": "7b1feabc",
   "metadata": {
    "deletable": false,
    "editable": false,
    "nbgrader": {
     "cell_type": "markdown",
     "checksum": "c04820e27f4e144fbf67f2931a486c64",
     "grade": false,
     "grade_id": "cell-19911a3214582cc2",
     "locked": true,
     "schema_version": 3,
     "solution": false,
     "task": false
    }
   },
   "source": [
    "b.) The heat of vaporization of hexane is 30.8 kJ/mol. The boiling point of hexane at 1.00 atm is 68.9 $^\\text{o}$C. What will the boiling point be if the pressure were reduced to 0.50 atm? "
   ]
  },
  {
   "cell_type": "code",
   "execution_count": null,
   "id": "82b3afdb",
   "metadata": {
    "deletable": false,
    "nbgrader": {
     "cell_type": "code",
     "checksum": "54c9387130f1f804c28dc01c571e9213",
     "grade": true,
     "grade_id": "cell-0d40a08dff105796",
     "locked": false,
     "points": 1,
     "schema_version": 3,
     "solution": true,
     "task": false
    }
   },
   "outputs": [],
   "source": [
    "# YOUR CODE HERE\n",
    "raise NotImplementedError()"
   ]
  },
  {
   "cell_type": "markdown",
   "id": "3f48d516",
   "metadata": {
    "deletable": false,
    "editable": false,
    "nbgrader": {
     "cell_type": "markdown",
     "checksum": "21f4ddacf19ff9d4a995e1e999018525",
     "grade": false,
     "grade_id": "cell-125741d6e097bd01",
     "locked": true,
     "schema_version": 3,
     "solution": false,
     "task": false
    }
   },
   "source": [
    "c.) **Interpret your answer**. Is your answer in part (b) aligned with what you would expect? Why or why not? Incorporate a mechanistic discussion of thermodynamic driving forces in your answer. "
   ]
  },
  {
   "cell_type": "markdown",
   "id": "8c213a8f",
   "metadata": {
    "deletable": false,
    "nbgrader": {
     "cell_type": "markdown",
     "checksum": "e608274f38921ebc1ee34785520e6d4b",
     "grade": true,
     "grade_id": "cell-ae9f7489ee2e68cf",
     "locked": false,
     "points": 1,
     "schema_version": 3,
     "solution": true,
     "task": false
    }
   },
   "source": [
    "YOUR ANSWER HERE"
   ]
  },
  {
   "cell_type": "markdown",
   "id": "0371f0ef",
   "metadata": {
    "deletable": false,
    "editable": false,
    "nbgrader": {
     "cell_type": "markdown",
     "checksum": "d2a2eadfe05bc71a65ab9f94108aedf0",
     "grade": false,
     "grade_id": "cell-793aaacd29cd3844",
     "locked": true,
     "schema_version": 3,
     "solution": false,
     "task": false
    }
   },
   "source": [
    "## Section 7.3: An exploration into current events\n",
    "\n",
    "Typically you encounter phase equilibria discussed using classical thermodynamics. A recent Nature Communications paper: [Reinhardt & Cheng, Nat. Comm., (2021) 12:588, 1-7](https://www.nature.com/articles/s41467-020-20821-w.pdf) constructs the phase diagram of water using a stiatical mechanical description of the quantum mechanical nature of the individual water molecules. \n",
    "\n",
    "### Problem 7.3.1 \n",
    "a.) Read the abstract and the first paragraph of the paper. What is the motivation for attempting a statical mechanical description and calculation of the water phase diagram? "
   ]
  },
  {
   "cell_type": "markdown",
   "id": "97c83ce6",
   "metadata": {
    "deletable": false,
    "nbgrader": {
     "cell_type": "markdown",
     "checksum": "f10888b3f6df34b7bb2415e44ac046b8",
     "grade": true,
     "grade_id": "cell-6994eca03ab8bf59",
     "locked": false,
     "points": 1,
     "schema_version": 3,
     "solution": true,
     "task": false
    }
   },
   "source": [
    "YOUR ANSWER HERE"
   ]
  },
  {
   "cell_type": "markdown",
   "id": "6b324d88",
   "metadata": {
    "deletable": false,
    "editable": false,
    "nbgrader": {
     "cell_type": "markdown",
     "checksum": "0e3d4d3a7a647565bb6728b11bbd57b3",
     "grade": false,
     "grade_id": "cell-67132ae1f93a23d3",
     "locked": true,
     "schema_version": 3,
     "solution": false,
     "task": false
    }
   },
   "source": [
    "b.) The paper determines the phase diagram of water using a machine learning-assisted DFT calculation to compute chemical potentials as a function of temperature and pressure. Explain conceptually how a phase diagram can be generated from such a set of computed chemical potentials. How would you determine which phase belongs in which region? How would you determine the boundaries between phases? "
   ]
  },
  {
   "cell_type": "markdown",
   "id": "f0b8e544",
   "metadata": {
    "deletable": false,
    "nbgrader": {
     "cell_type": "markdown",
     "checksum": "3e02177c63c85394afb87e1405be84d5",
     "grade": true,
     "grade_id": "cell-381e450312ea1650",
     "locked": false,
     "points": 1,
     "schema_version": 3,
     "solution": true,
     "task": false
    }
   },
   "source": [
    "YOUR ANSWER HERE"
   ]
  },
  {
   "cell_type": "markdown",
   "id": "a7a6878f",
   "metadata": {
    "deletable": false,
    "editable": false,
    "nbgrader": {
     "cell_type": "markdown",
     "checksum": "c4583baeed39e5152cf5b807ed06e4f0",
     "grade": false,
     "grade_id": "cell-983d248cebd4436e",
     "locked": true,
     "schema_version": 3,
     "solution": false,
     "task": false
    }
   },
   "source": [
    "c.) In their conclusions, the authors say (emphasis added): \n",
    "\n",
    "\"The good agreement between the calculated phase diagram and experiment confirms that the hybrid DFT levels of theory\n",
    "describe water well. In fact, the approach we have outlined to compute free energies and in turn phase diagrams provides a particularly difficult benchmark for quantum-mechanical methods. We have shown that three different hybrid DFT functionals (...) result in similar, but certainly not identical, phase behaviour. It would be interesting to apply the same workflow to other electronic structure methods (...). **Indeed, in the future, one possible way of benchmarking and  optimising DFT functionals may well be to evaluate the phase diagram of the material studied**\"\n",
    "\n",
    "Make an argument for why phase diagrams would be a particularly useful test case for assessing how well a model captures the molecular and thermodynamic nature of a system. "
   ]
  },
  {
   "cell_type": "markdown",
   "id": "80900f5d",
   "metadata": {
    "deletable": false,
    "nbgrader": {
     "cell_type": "markdown",
     "checksum": "faa8664b5e541c61c75f41f3e93aee94",
     "grade": true,
     "grade_id": "cell-ffea65ae62cc8dde",
     "locked": false,
     "points": 1,
     "schema_version": 3,
     "solution": true,
     "task": false
    }
   },
   "source": [
    "YOUR ANSWER HERE"
   ]
  },
  {
   "cell_type": "markdown",
   "id": "592df2b5",
   "metadata": {},
   "source": [
    "# CGI_07 Reflection \n",
    "\n",
    "In the Python Reference section of your notebook, record:\n",
    "\n",
    "- Descriptions of any python tools you had to look up that were not already in your reference notebook.\n",
    "\n",
    "In the Chemical Thermodynamics section of your notebook, record a general description of:\n",
    "\n",
    "- Chemical potential and any key equations \n",
    "- Phase diagrams (including a sketch of a phase diagram with key areas labelled) \n",
    "- The Clausius Equation \n",
    "- The Clausius-Clapeyron Equation "
   ]
  },
  {
   "cell_type": "code",
   "execution_count": null,
   "id": "05c208ef",
   "metadata": {
    "deletable": false,
    "nbgrader": {
     "cell_type": "code",
     "checksum": "dc546666a7eefc740414daaa2200f95b",
     "grade": true,
     "grade_id": "cell-fe800b2f73909ef8",
     "locked": false,
     "points": 1,
     "schema_version": 3,
     "solution": true,
     "task": false
    }
   },
   "outputs": [],
   "source": [
    "# YOUR CODE HERE\n",
    "raise NotImplementedError()"
   ]
  }
 ],
 "metadata": {
  "kernelspec": {
   "display_name": "Python 3",
   "language": "python",
   "name": "python3"
  },
  "language_info": {
   "codemirror_mode": {
    "name": "ipython",
    "version": 3
   },
   "file_extension": ".py",
   "mimetype": "text/x-python",
   "name": "python",
   "nbconvert_exporter": "python",
   "pygments_lexer": "ipython3",
   "version": "3.8.8"
  }
 },
 "nbformat": 4,
 "nbformat_minor": 5
}
