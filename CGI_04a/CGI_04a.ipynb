{
 "cells": [
  {
   "cell_type": "markdown",
   "id": "939402aa",
   "metadata": {},
   "source": [
    "Make sure you fill in any place that says `YOUR CODE HERE` or \"YOUR ANSWER HERE\", and delete any instances of `raise NotImplementedError()` (those are just to make sure you don't forget to complete a block. "
   ]
  },
  {
   "cell_type": "markdown",
   "id": "7601d01f",
   "metadata": {},
   "source": [
    "---"
   ]
  },
  {
   "cell_type": "markdown",
   "id": "5040a244",
   "metadata": {
    "deletable": false,
    "editable": false,
    "nbgrader": {
     "cell_type": "markdown",
     "checksum": "52cc2f41ff271957af905c93697fdbaf",
     "grade": false,
     "grade_id": "cell-55c7e2e4f98265d0",
     "locked": true,
     "schema_version": 3,
     "solution": false,
     "task": false
    }
   },
   "source": [
    "# CGI_04 Part A\n",
    "\n",
    "**Learning Goals in this CGI:**<br>\n",
    "Goal 3.1: Calculate configuration weights for chemical systems <br>\n",
    "Goal 3.2: Interpret configuration weights for chemical systems <br>\n",
    "\n",
    "How do we discuss the arrangements of a completely random system of particles? We are going to build off of last Friday's class lecture where we discussed configurations, permutations, and microstates and show how to handle these ideas in large systems where we cannot count all microstates by hand and manually compute probabilities. "
   ]
  },
  {
   "cell_type": "code",
   "execution_count": null,
   "id": "5dc4de7b",
   "metadata": {
    "deletable": false,
    "editable": false,
    "nbgrader": {
     "cell_type": "code",
     "checksum": "07917ebea0e8b977df6cebdda767661b",
     "grade": false,
     "grade_id": "cell-f86e8c979b87b0c4",
     "locked": true,
     "schema_version": 3,
     "solution": false,
     "task": false
    }
   },
   "outputs": [],
   "source": [
    "import numpy as np\n",
    "import scipy.special as sps\n",
    "from matplotlib.pyplot import *\n",
    "import matplotlib.pyplot as plt #here, instead of calling \"function\" we must call \"plt.function\"\n",
    "from mpl_toolkits.mplot3d import axes3d\n",
    "import sympy as sp "
   ]
  },
  {
   "cell_type": "code",
   "execution_count": null,
   "id": "4abdd2b7",
   "metadata": {
    "deletable": false,
    "editable": false,
    "nbgrader": {
     "cell_type": "code",
     "checksum": "a0307ef8994034df9a68a8316e1f9844",
     "grade": false,
     "grade_id": "cell-6bd543d754a4a228",
     "locked": true,
     "schema_version": 3,
     "solution": false,
     "task": false
    }
   },
   "outputs": [],
   "source": [
    "%matplotlib inline"
   ]
  },
  {
   "cell_type": "code",
   "execution_count": null,
   "id": "8ba00ed3",
   "metadata": {
    "deletable": false,
    "editable": false,
    "nbgrader": {
     "cell_type": "code",
     "checksum": "755392cacb66e8c4d0a3c18a2299e86d",
     "grade": false,
     "grade_id": "cell-64788d6253fc7da5",
     "locked": true,
     "schema_version": 3,
     "solution": false,
     "task": false
    }
   },
   "outputs": [],
   "source": [
    "%matplotlib widget"
   ]
  },
  {
   "cell_type": "markdown",
   "id": "19d467ee",
   "metadata": {
    "deletable": false,
    "editable": false,
    "nbgrader": {
     "cell_type": "markdown",
     "checksum": "cd367cd40f763c1df9a7e2872a49225f",
     "grade": false,
     "grade_id": "cell-49cd2d73f8f16158",
     "locked": true,
     "schema_version": 3,
     "solution": false,
     "task": false
    }
   },
   "source": [
    "## Section 4.1: Configurations and their weights \n",
    "\n",
    "As we discussed in class, the probability of finding a system in a particular configuration is given by:\n",
    "\n",
    "$$P_\\text{config}=\\frac{\\text{# microstates in that configuration}}{\\text{total # of all microstates}}\n",
    "$$\n",
    "\n",
    "Thus to find the most probable configuration for a chemical system, we must determine all possible configurations and their corresponding microstates, and determine which configuration has the most microstates. For the $N_\\text{particles}=3$ system discussed in class, we could count these by hand. However, most meaningful chemical systems have $N_\\text{particles}>>3$, where counting by hand is not feasible. Rather, we can use some mathematical combinatorix tools. \n",
    "\n",
    "**Number of permutations for N objects:** $N_\\text{p}=N!$\n",
    "\n",
    "**The weight of a configuration** Is the total number of microstates associated with that configuration. This is given by:\n",
    "$$\n",
    "W = \\frac{N!}{a_0!a_1!a_2!...a_n!}=\\frac{N!}{\\prod\\limits_n a_n!}\n",
    "$$\n",
    "\n",
    "Where N! is the number of units over which energy is distributed, and $a_n$ is the occupation number (the number of units occupying the nth energy level) \n",
    "\n",
    "### Problem 4.1.1\n",
    "\n",
    "a.) In the cell below, address the following questions:\n",
    "1. If you were to flip a coin 500 times, what would be the most probable outcome? That is: How many heads and how many tails would you most likely observe?) \n",
    "2. Rank the following configurations from most probable to least probable: (A) 1 head, 499 Tails; (B) 240 heads, 260 tails; (C) 255 heads, 245 tails. _Provide your reasoning._"
   ]
  },
  {
   "cell_type": "markdown",
   "id": "67366637",
   "metadata": {
    "deletable": false,
    "nbgrader": {
     "cell_type": "markdown",
     "checksum": "56b5d733c852a78e4d1f45b0aa02bc61",
     "grade": true,
     "grade_id": "cell-7d3b87feea9f18a0",
     "locked": false,
     "points": 1,
     "schema_version": 3,
     "solution": true,
     "task": false
    }
   },
   "source": [
    "YOUR ANSWER HERE"
   ]
  },
  {
   "cell_type": "markdown",
   "id": "75580b6b",
   "metadata": {
    "deletable": false,
    "editable": false,
    "nbgrader": {
     "cell_type": "markdown",
     "checksum": "728336dbbd437f9ee03978948663d72a",
     "grade": false,
     "grade_id": "cell-7da3a88e731fb9b9",
     "locked": true,
     "schema_version": 3,
     "solution": false,
     "task": false
    }
   },
   "source": [
    "b.) In the cell below, calculate and print the weights of configurations A, B, and C. (Stuck? Consult Engel & Reid Section 13.11)\n",
    "\n",
    "Note: you can take factorials using `np.math.factorial(x)` where `x` is an integer. To take factorials of an array, you will need to use `sps.factorial(array)`."
   ]
  },
  {
   "cell_type": "code",
   "execution_count": null,
   "id": "c56c11bd",
   "metadata": {
    "deletable": false,
    "nbgrader": {
     "cell_type": "code",
     "checksum": "15f3d9db49c10238741c3b0a22c9fec9",
     "grade": true,
     "grade_id": "cell-6d4179a20f3ecde6",
     "locked": false,
     "points": 1,
     "schema_version": 3,
     "solution": true,
     "task": false
    }
   },
   "outputs": [],
   "source": [
    "# Configuration A: 1 head, 499 tails\n",
    "\n",
    "#Configuration B: 240 heads, 260 tails\n",
    "\n",
    "#Configuration C: 255 heads, 245 tails \n",
    "\n",
    "# YOUR CODE HERE\n",
    "raise NotImplementedError()"
   ]
  },
  {
   "cell_type": "markdown",
   "id": "4f7eeebe",
   "metadata": {
    "deletable": false,
    "editable": false,
    "nbgrader": {
     "cell_type": "markdown",
     "checksum": "21f2396b5607213dc120b41005c2bd03",
     "grade": false,
     "grade_id": "cell-fb6d0c799c6b15f6",
     "locked": true,
     "schema_version": 3,
     "solution": false,
     "task": false
    }
   },
   "source": [
    "c.) **Interpret your answer.** Do your results in (b) agree or conflict with your prediction in (a)? If they conflict, correct your prediction and explain why this is the case. "
   ]
  },
  {
   "cell_type": "markdown",
   "id": "d4aed443",
   "metadata": {
    "deletable": false,
    "nbgrader": {
     "cell_type": "markdown",
     "checksum": "51540d80de37ea334140048e3ec48cac",
     "grade": true,
     "grade_id": "cell-6e9f20d392d1fa6d",
     "locked": false,
     "points": 1,
     "schema_version": 3,
     "solution": true,
     "task": false
    }
   },
   "source": [
    "YOUR ANSWER HERE"
   ]
  },
  {
   "cell_type": "markdown",
   "id": "bdde05ef",
   "metadata": {
    "deletable": false,
    "editable": false,
    "nbgrader": {
     "cell_type": "markdown",
     "checksum": "93edd1aaf6c49a14789fbbf229ca0d4f",
     "grade": false,
     "grade_id": "cell-fb811a5b212ec3b7",
     "locked": true,
     "schema_version": 3,
     "solution": false,
     "task": false
    }
   },
   "source": [
    "### Consider This: An Example Problem\n",
    "\n",
    "Imagine you have a gaseous sample of 5,000 particles. Each particle has three energy levels available to it: $0\\epsilon$, $3 \\epsilon$, or $6\\epsilon$, where $\\epsilon=R/2$ The total energy available in the system is $2400\\epsilon$. \n",
    "\n",
    "In the cell below, we formulate an expression for $W$, where `N0` is the number of particles with energy $0\\epsilon$, `N3` is the number of particles with energy $3\\epsilon$, and `N6` is the number of particles with energy $6\\epsilon$. "
   ]
  },
  {
   "cell_type": "code",
   "execution_count": null,
   "id": "64c164cb",
   "metadata": {
    "deletable": false,
    "editable": false,
    "nbgrader": {
     "cell_type": "code",
     "checksum": "13997d7a5d3a5ebf03897ed3984d9437",
     "grade": false,
     "grade_id": "cell-5901c4d59727dbb1",
     "locked": true,
     "schema_version": 3,
     "solution": false,
     "task": false
    }
   },
   "outputs": [],
   "source": [
    "#Define quantities \n",
    "N=5000 #total number of particles \n",
    "R=8.314 #J/mol K\n",
    "e=R/2 #individual energy unit\n",
    "e_total=2400*e #total energy in the system\n",
    "\n",
    "N6=np.linspace(1,399, 399) #allow N5 to range from 1 - 399\n",
    "N3=(e_total/e)-6*N6 #expressing total number of particles that can \"afford\" to be in N3, based on N6\n",
    "N0=N-N3-N6 #expressing the total number of particles that can be in N0, based on N3 and N6. \n",
    "\n",
    "W = np.math.factorial(N)/(sps.factorial(N0)*sps.factorial(N3)*sps.factorial(N6))"
   ]
  },
  {
   "cell_type": "markdown",
   "id": "c66e88e2",
   "metadata": {
    "deletable": false,
    "editable": false,
    "nbgrader": {
     "cell_type": "markdown",
     "checksum": "f392458467203e98572827f47817011c",
     "grade": false,
     "grade_id": "cell-b3745ac7729c61fa",
     "locked": true,
     "schema_version": 3,
     "solution": false,
     "task": false
    }
   },
   "source": [
    "**Discuss:** what happened when you ran the cell above? Why? \n",
    "\n",
    "To avoid this, we can take the natural log of both sides: \n",
    "\n",
    "$$\n",
    "\\ln(W)=\\ln\\left(\\frac{N!}{N_0!N_3!N_6!}\\right)\n",
    "$$\n",
    "\n",
    "Using log rules we can say: \n",
    "\n",
    "$$\n",
    "\\ln(W)=\\ln(N!-N_0!-N_3!-N_6!)\n",
    "$$\n",
    "\n",
    "Note here we are still taking factorials of very large numbers. To avoid this, we can use Sterling's approxmation: $\\ln(N!)=N\\ln(N)-N$\n",
    "\n",
    "Yielding:\n",
    "\n",
    "$$\n",
    "\\ln(W)=(N\\ln(N)-N)-(N_0\\ln(N_0)-N_0)-(N_3\\ln(N_3)-N_3)-(N_6\\ln(N_6)-N_6)\n",
    "$$\n",
    "\n",
    "In the cell below, let's see if this helps with our problem. \n",
    "\n",
    "Note: numpy defaults `log` to natural log unless a different base is specified--this is common in coding."
   ]
  },
  {
   "cell_type": "code",
   "execution_count": null,
   "id": "969d4cca",
   "metadata": {
    "deletable": false,
    "editable": false,
    "nbgrader": {
     "cell_type": "code",
     "checksum": "4a9e185bc1db1dbe5ec0444f86c60ea4",
     "grade": false,
     "grade_id": "cell-0a01cd1499095507",
     "locked": true,
     "schema_version": 3,
     "solution": false,
     "task": false
    }
   },
   "outputs": [],
   "source": [
    "#calculate it\n",
    "lnW = (N*np.log(N)-N)-(N0*np.log(N0)-N0)-(N3*np.log(N3)-N3)-(N6*np.log(N6)-N6)\n",
    "\n",
    "#plot it\n",
    "plt.figure()\n",
    "plt.plot(N6, lnW)\n",
    "plt.ylabel(\"$\\ln(W)$\")\n",
    "plt.xlabel(\"N6\")\n",
    "plt.title(\"Ln of the weight of each configuration, given the value of N6\")"
   ]
  },
  {
   "cell_type": "markdown",
   "id": "f1100011",
   "metadata": {
    "deletable": false,
    "editable": false,
    "nbgrader": {
     "cell_type": "markdown",
     "checksum": "d593a8559e9abbc45db166b022b99d4b",
     "grade": false,
     "grade_id": "cell-d40ec7deaf219ef8",
     "locked": true,
     "schema_version": 3,
     "solution": false,
     "task": false
    }
   },
   "source": [
    "The configuration with the highest weight is the **dominant configuration**, the one we are most likely to observe. To consider _how much_ more likely this configuration is than any others, let's plot $W/W_\\text{max}$ for each configuration $W$, as a function of $N_6$. "
   ]
  },
  {
   "cell_type": "code",
   "execution_count": null,
   "id": "7a2eb6cc",
   "metadata": {
    "deletable": false,
    "editable": false,
    "nbgrader": {
     "cell_type": "code",
     "checksum": "401db4c3236207c7054aca2b886246f1",
     "grade": false,
     "grade_id": "cell-8ba7536640e96864",
     "locked": true,
     "schema_version": 3,
     "solution": false,
     "task": false
    }
   },
   "outputs": [],
   "source": [
    "lnW_max=max(lnW) #find the maximum value in lnW\n",
    "W_normalized=e**(lnW-lnW_max) #for python reasons, it is easiest to calculate this way \n",
    "\n",
    "#plot it\n",
    "plt.figure()\n",
    "plt.plot(N6, W_normalized)\n",
    "plt.xlabel(\"N6\")\n",
    "plt.ylabel(\"W/Wmax\")\n",
    "plt.title(\"Config weight variation, relative to the dominant config. N=5000\")"
   ]
  },
  {
   "cell_type": "markdown",
   "id": "cb0cbec0",
   "metadata": {
    "deletable": false,
    "editable": false,
    "nbgrader": {
     "cell_type": "markdown",
     "checksum": "fffcd34b5ea24a6c446952570986d94a",
     "grade": false,
     "grade_id": "cell-5bf6948994ac624b",
     "locked": true,
     "schema_version": 3,
     "solution": false,
     "task": false
    }
   },
   "source": [
    "**Interpret this answer.** In the markdown cell below, address the following quetsions: \n",
    "\n",
    "1. What does the $W/W_\\text{max}$ vs N6 figure tell you about the system? \n",
    "2. How would this figure change if the system were much smaller? If the system were much larger? Why? Explain your reasoning. "
   ]
  },
  {
   "cell_type": "markdown",
   "id": "7fd45783",
   "metadata": {
    "deletable": false,
    "nbgrader": {
     "cell_type": "markdown",
     "checksum": "660b492334a0488e16fb0f8510af1434",
     "grade": true,
     "grade_id": "cell-6b9556041e5c033e",
     "locked": false,
     "points": 1,
     "schema_version": 3,
     "solution": true,
     "task": false
    }
   },
   "source": [
    "YOUR ANSWER HERE"
   ]
  },
  {
   "cell_type": "markdown",
   "id": "a81e8617",
   "metadata": {
    "deletable": false,
    "editable": false,
    "nbgrader": {
     "cell_type": "markdown",
     "checksum": "66d21c56619eca997eed2fe433beb430",
     "grade": false,
     "grade_id": "cell-f40cf84d85c0beab",
     "locked": true,
     "schema_version": 3,
     "solution": false,
     "task": false
    }
   },
   "source": [
    "### Problem 4.1.2 \n",
    "\n",
    "a.) In the cell below, plot $W/W_\\text{max}$ vs $N_6$ for a gaseous sample of 1,000 particles. Each particle has three energy levels available to it: $0\\epsilon$, $3 \\epsilon$, or $6\\epsilon$, where $\\epsilon=R/2$ The total energy available in the system is $480\\epsilon$. \n",
    "\n",
    "Hint: Your future self will thank you if you do not overwrite `N`, `N6`, and `W_normalized`. You may want to give them new names, e.g. `Na`, `N6a` and `Wa_normalized`"
   ]
  },
  {
   "cell_type": "code",
   "execution_count": null,
   "id": "0a41ce33",
   "metadata": {
    "deletable": false,
    "nbgrader": {
     "cell_type": "code",
     "checksum": "57d2366fa6a3cb12e7d005a50c53de31",
     "grade": true,
     "grade_id": "cell-17a03184deca57d4",
     "locked": false,
     "points": 1,
     "schema_version": 3,
     "solution": true,
     "task": false
    }
   },
   "outputs": [],
   "source": [
    "# YOUR CODE HERE\n",
    "raise NotImplementedError()"
   ]
  },
  {
   "cell_type": "markdown",
   "id": "d6eb4044",
   "metadata": {
    "deletable": false,
    "editable": false,
    "nbgrader": {
     "cell_type": "markdown",
     "checksum": "56d8849d88867a3baf72c59c5ef73d7c",
     "grade": false,
     "grade_id": "cell-60979e2c25c0a140",
     "locked": true,
     "schema_version": 3,
     "solution": false,
     "task": false
    }
   },
   "source": [
    "b.) In the cell below, plot $W/W_\\text{max}$ vs $N_6$ for a gaseous sample of 25,000 particles, with possible energy levels $0\\epsilon$, $3 \\epsilon$, or $6\\epsilon$, where $\\epsilon=R/2$. The total energy available in the system is $12,000\\epsilon$. "
   ]
  },
  {
   "cell_type": "code",
   "execution_count": null,
   "id": "45eca4a3",
   "metadata": {
    "deletable": false,
    "nbgrader": {
     "cell_type": "code",
     "checksum": "d10c618b5779fb95f13824005d74eb1e",
     "grade": true,
     "grade_id": "cell-48e60f85e38fa5d3",
     "locked": false,
     "points": 1,
     "schema_version": 3,
     "solution": true,
     "task": false
    }
   },
   "outputs": [],
   "source": [
    "# YOUR CODE HERE\n",
    "raise NotImplementedError()"
   ]
  },
  {
   "cell_type": "markdown",
   "id": "c59bb361",
   "metadata": {
    "deletable": false,
    "editable": false,
    "nbgrader": {
     "cell_type": "markdown",
     "checksum": "75355b3d221f4bd700bd26b63258cd9d",
     "grade": false,
     "grade_id": "cell-860bd2929c9ff0c8",
     "locked": true,
     "schema_version": 3,
     "solution": false,
     "task": false
    }
   },
   "source": [
    "c.) It is difficult to compare curves on different x-axes. To simplify this, in the cell below:\n",
    "- Calculate the fraction of particles occupying N6 for each system (N6, normalized by the total number of particles N)\n",
    "- Plot all three data sets into the same figure, relative to the normalized N6. \n",
    "- Use `plt.legend([curve1_name, curve2_name, curve3_name])` to create a legend labelling each curve. "
   ]
  },
  {
   "cell_type": "code",
   "execution_count": null,
   "id": "a4ee7fb6",
   "metadata": {
    "deletable": false,
    "nbgrader": {
     "cell_type": "code",
     "checksum": "51909ae2628691635bb3a092bc132fe6",
     "grade": true,
     "grade_id": "cell-69a2139a9f3b27fb",
     "locked": false,
     "points": 1,
     "schema_version": 3,
     "solution": true,
     "task": false
    }
   },
   "outputs": [],
   "source": [
    "# YOUR CODE HERE\n",
    "raise NotImplementedError()"
   ]
  },
  {
   "cell_type": "markdown",
   "id": "16c858db",
   "metadata": {
    "deletable": false,
    "editable": false,
    "nbgrader": {
     "cell_type": "markdown",
     "checksum": "bb626f51730fb46eabe609da1110568a",
     "grade": false,
     "grade_id": "cell-26208e667500afcc",
     "locked": true,
     "schema_version": 3,
     "solution": false,
     "task": false
    }
   },
   "source": [
    "d.) **Interpret your answer.** In the cell below, address the following points:\n",
    "1. Do your plots agree with your prediction? \n",
    "2. In this example, our \"large\" system has $N=25,000$ particles. 25,000 particles is $4.2\\cdot10^{-18}\\%$ of 1 mole of particles. What do your results imply about chemical systems that are on the order of 1 mmol in size? \n",
    "3. What does your answer to (2) mean we can assume about \"real\" chemical systems? "
   ]
  },
  {
   "cell_type": "markdown",
   "id": "d87ae508",
   "metadata": {
    "deletable": false,
    "nbgrader": {
     "cell_type": "markdown",
     "checksum": "fa55d6eb4e969816f4eff424ff68d985",
     "grade": true,
     "grade_id": "cell-9703ba5403b82954",
     "locked": false,
     "points": 1,
     "schema_version": 3,
     "solution": true,
     "task": false
    }
   },
   "source": [
    "YOUR ANSWER HERE"
   ]
  },
  {
   "cell_type": "markdown",
   "id": "faf89ac9",
   "metadata": {
    "deletable": false,
    "editable": false,
    "nbgrader": {
     "cell_type": "markdown",
     "checksum": "e9930cfd70690ffdcac92fc9c77e4e2c",
     "grade": false,
     "grade_id": "cell-03bae8d1532d0837",
     "locked": true,
     "schema_version": 3,
     "solution": false,
     "task": false
    }
   },
   "source": [
    "### Section 4.1 Reflection \n",
    "\n",
    "In the Python Reference section of your notebook, record:\n",
    "- A brief explanation of how to compute factorials \n",
    "- How to plot legends (add this near your plotting reference, if there is space) \n",
    "\n",
    "In the Chemical Thermodynamics section of your notebook, record:\n",
    "- The expression for how to calculate the weight of a configuration\n",
    "- The Sterling approximation (it comes up surprisingly often)"
   ]
  },
  {
   "cell_type": "markdown",
   "id": "66aa465b",
   "metadata": {
    "deletable": false,
    "nbgrader": {
     "cell_type": "markdown",
     "checksum": "e81338f31c41c2ebac6a8909f7555f37",
     "grade": true,
     "grade_id": "cell-16ec1dc1f18d6210",
     "locked": false,
     "points": 1,
     "schema_version": 3,
     "solution": true,
     "task": false
    }
   },
   "source": [
    "YOUR ANSWER HERE"
   ]
  }
 ],
 "metadata": {
  "kernelspec": {
   "display_name": "Python 3",
   "language": "python",
   "name": "python3"
  },
  "language_info": {
   "codemirror_mode": {
    "name": "ipython",
    "version": 3
   },
   "file_extension": ".py",
   "mimetype": "text/x-python",
   "name": "python",
   "nbconvert_exporter": "python",
   "pygments_lexer": "ipython3",
   "version": "3.8.8"
  }
 },
 "nbformat": 4,
 "nbformat_minor": 5
}
