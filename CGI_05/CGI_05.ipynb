{
 "cells": [
  {
   "cell_type": "markdown",
   "id": "973b1342",
   "metadata": {},
   "source": [
    "Make sure you fill in any place that says `YOUR CODE HERE` or \"YOUR ANSWER HERE\", and delete any instances of `raise NotImplementedError()` (those are just to make sure you don't forget to complete a block. "
   ]
  },
  {
   "cell_type": "markdown",
   "id": "60b16cb0",
   "metadata": {},
   "source": [
    "---"
   ]
  },
  {
   "cell_type": "markdown",
   "id": "cd303fc4",
   "metadata": {
    "deletable": false,
    "editable": false,
    "nbgrader": {
     "cell_type": "markdown",
     "checksum": "123249ac96c534be6dd3c1093e37ce28",
     "grade": false,
     "grade_id": "cell-7b0be1107a41e34b",
     "locked": true,
     "schema_version": 3,
     "solution": false,
     "task": false
    }
   },
   "source": [
    "# CGI_05\n",
    "\n",
    "**Learning Goals in this CGI:**<br>\n",
    "Goal 3.5: Describe ensembles and how ensemble models impact predicted values <br>\n",
    "Goal 3.6: Calculate changes in entropy<br>\n",
    "Goal 3.7: Interpret and justify changes in entropy<br>\n",
    "Goal 3.8: Plot and interpret $S(T,P)$ thermodynamic surfaces<br>\n",
    "\n",
    "In CGI_04, we explored how to calculate, compare, and interpret the relative weights of configurations for systems, and how the molecular partition function can be used to determine the probability of molecules existing in a particular energy state. \n",
    "\n",
    "Here, we build off us this to examine the partition functions that describe _ensemble_ systems, which are used to generate our formulations of entropy. "
   ]
  },
  {
   "cell_type": "markdown",
   "id": "0a99f716",
   "metadata": {
    "deletable": false,
    "editable": false,
    "nbgrader": {
     "cell_type": "markdown",
     "checksum": "33365de7edd4e86678071bb28b952bc4",
     "grade": false,
     "grade_id": "cell-55a552df6d97b414",
     "locked": true,
     "schema_version": 3,
     "solution": false,
     "task": false
    }
   },
   "source": [
    "## Section 5.1: Ensembles \n",
    "\n",
    "In Monday's class, we discussed ensembles as a statistical mechanics tool for describing systems. Engel & Reid Sections 14.1, 14.2, 14.3, and 14.10 may be a useful reference.\n",
    "\n",
    "\n",
    "### Problem 5.1.1 \n",
    "\n",
    "To begin, in the markdown cell below, describe:\n",
    "1. What is an ensemble? \n",
    "2. What is the canonical ensemble? What properties are held constant?\n",
    "3. What is the relationship between $Q$ and $q$? How does this relationship differ if the particles are distinguishable versus indistinguishable? "
   ]
  },
  {
   "cell_type": "markdown",
   "id": "fa6f7aa1",
   "metadata": {
    "deletable": false,
    "nbgrader": {
     "cell_type": "markdown",
     "checksum": "79cd37689138a474e9ab0ab407e9ca2b",
     "grade": true,
     "grade_id": "cell-14c9eb9a9490ec0f",
     "locked": false,
     "points": 1,
     "schema_version": 3,
     "solution": true,
     "task": false
    }
   },
   "source": [
    "YOUR ANSWER HERE"
   ]
  },
  {
   "cell_type": "markdown",
   "id": "f3b4f059",
   "metadata": {
    "deletable": false,
    "editable": false,
    "nbgrader": {
     "cell_type": "markdown",
     "checksum": "917f663c7f9988030f22e339dff39d5e",
     "grade": false,
     "grade_id": "cell-67d630f146366cde",
     "locked": true,
     "schema_version": 3,
     "solution": false,
     "task": false
    }
   },
   "source": [
    "### Problem 5.1.2 \n",
    "\n",
    "In CGI_04b, we used the molecular partition function: \n",
    "\n",
    "$$\n",
    "q=\\sum_{n} e^{-\\beta \\varepsilon_n} \\ \\ \\ (1) \n",
    "$$\n",
    "\n",
    "\n",
    "To describe the vibrational states for N$_2$, whose energies can be modelled as: \n",
    "\n",
    "$$\n",
    "E(n)=(n+1/2)h\\nu \\ \\ \\ (2) \n",
    "$$\n",
    "\n",
    "where $\\nu$ is the vibrational frequency for N$_2$, $7.7\\cdot10^{13} \\text{ Hz}$. Run the cells below to remind yourself of what that result looked like. "
   ]
  },
  {
   "cell_type": "code",
   "execution_count": null,
   "id": "e20551cf",
   "metadata": {
    "deletable": false,
    "editable": false,
    "nbgrader": {
     "cell_type": "code",
     "checksum": "2491333d1040646fa6d6f6d15d2ebb84",
     "grade": false,
     "grade_id": "cell-ad718ca40ed46c36",
     "locked": true,
     "schema_version": 3,
     "solution": false,
     "task": false
    }
   },
   "outputs": [],
   "source": [
    "import numpy as np\n",
    "import matplotlib.pyplot as plt\n",
    "from mpl_toolkits.mplot3d import axes3d\n",
    "import PchemLibrary as PL\n",
    "import sympy as sp "
   ]
  },
  {
   "cell_type": "code",
   "execution_count": null,
   "id": "cf272f9f",
   "metadata": {
    "deletable": false,
    "editable": false,
    "nbgrader": {
     "cell_type": "code",
     "checksum": "9f38095dcaade85ab0c5fd58e0cb635c",
     "grade": false,
     "grade_id": "cell-880d52bfce67df2d",
     "locked": true,
     "schema_version": 3,
     "solution": false,
     "task": false
    }
   },
   "outputs": [],
   "source": [
    "%matplotlib inline"
   ]
  },
  {
   "cell_type": "code",
   "execution_count": null,
   "id": "e5c29103",
   "metadata": {
    "deletable": false,
    "editable": false,
    "nbgrader": {
     "cell_type": "code",
     "checksum": "617d01f29030abd1f2ef99013ec76dc3",
     "grade": false,
     "grade_id": "cell-83c044d4ef4a0f2e",
     "locked": true,
     "schema_version": 3,
     "solution": false,
     "task": false
    }
   },
   "outputs": [],
   "source": [
    "%matplotlib widget"
   ]
  },
  {
   "cell_type": "code",
   "execution_count": null,
   "id": "53bf29d9",
   "metadata": {
    "deletable": false,
    "editable": false,
    "nbgrader": {
     "cell_type": "code",
     "checksum": "b9ca3890204904e097ea7f985f28bfeb",
     "grade": false,
     "grade_id": "cell-a05aa2b4879a7ded",
     "locked": true,
     "schema_version": 3,
     "solution": false,
     "task": false
    }
   },
   "outputs": [],
   "source": [
    "\"\"\"the function below will return the molecular partition function q\n",
    "and the probability pn of occupying an energy state given the inputs: \n",
    "T = temperature \n",
    "nu = vibrational constant\n",
    "num_states = the number of energy states to compute over \n",
    "\"\"\"\n",
    "def q_pn_vibrational(T, nu, num_states): \n",
    "    kb=1.38e-23 #J/K\n",
    "    beta=1/(kb*T)\n",
    "    h=6.626e-34 #Js\n",
    "    n=np.linspace(1,num_states,num_states)\n",
    "    e_n=(n+1/2)*h*nu\n",
    "    q=sum(np.exp(-beta*e_n))\n",
    "    pn=np.exp(-beta*e_n)/q\n",
    "    return q, pn \n",
    "\n",
    "nu_N2 = 7.7e13 #Hz\n",
    "\n",
    "q_300, pn_300=q_pn_vibrational(300, nu_N2, 4)\n",
    "q_3000, pn_3000=q_pn_vibrational(3000, nu_N2, 4)\n",
    "q_30000, pn_30000=q_pn_vibrational(30000, nu_N2, 4)\n",
    "n=np.linspace(0,4,4)\n",
    "\n",
    "plt.plot(n, pn_300, 'o', linestyle='-')\n",
    "plt.plot(n, pn_3000, 'o', linestyle='-')\n",
    "plt.plot(n, pn_30000, 'o', linestyle='-')\n",
    "plt.ylabel(\"Probability $p_n$\")\n",
    "plt.xlabel(\"Vibrational Energy state $n$\")\n",
    "plt.xticks([1,2,3,4])\n",
    "plt.legend(['T=300K','T=3000K','T=30000K'])"
   ]
  },
  {
   "cell_type": "markdown",
   "id": "ee385054",
   "metadata": {
    "deletable": false,
    "editable": false,
    "nbgrader": {
     "cell_type": "markdown",
     "checksum": "cc35a58ee31c3867b815f8ecdbae0560",
     "grade": false,
     "grade_id": "cell-ac2b1e467e24e2f4",
     "locked": true,
     "schema_version": 3,
     "solution": false,
     "task": false
    }
   },
   "source": [
    "How would this result change if we were to describe an ensemble of N$_2$ molecules using the canonical partition function $Q$? Justify your answer. "
   ]
  },
  {
   "cell_type": "markdown",
   "id": "ea580021",
   "metadata": {
    "deletable": false,
    "nbgrader": {
     "cell_type": "markdown",
     "checksum": "03c41c11f9c94f00bab32610bc362279",
     "grade": true,
     "grade_id": "cell-987908c70cc5d8b4",
     "locked": false,
     "points": 1,
     "schema_version": 3,
     "solution": true,
     "task": false
    }
   },
   "source": [
    "YOUR ANSWER HERE"
   ]
  },
  {
   "cell_type": "markdown",
   "id": "c12e3386",
   "metadata": {
    "deletable": false,
    "editable": false,
    "nbgrader": {
     "cell_type": "markdown",
     "checksum": "e6331f6ba3c684352ad334fbc7bb4d8d",
     "grade": false,
     "grade_id": "cell-3f27a757587d7fb4",
     "locked": true,
     "schema_version": 3,
     "solution": false,
     "task": false
    }
   },
   "source": [
    "## Section 5.2: Entropy (a stat mech perspective) \n",
    "\n",
    "As discussed in class, entropy can be formulated from either a statistical mechanics perspective, or a classical thermodynamics perspective. In this section, we will first consider a statistical mechanics treatment of entropy, and then how this connects to the classical thermodynamics treatment.\n",
    "\n",
    "### Problem 5.2.1 \n",
    "\n",
    "Let's consider two perfect crystals, A and B. Both are composed of 100 atoms. Crystal A has 50 units of vibrational energy $\\epsilon$, and Crystal B has 0 units. Over time, these two solids establish thermal equilibrium. \n",
    "\n",
    "![image](Problem5_2_1.jpg)\n",
    "\n",
    "Assume that an atom with $0\\varepsilon$ is in the vibrational ground state, an atom with $1\\varepsilon$ is in the first excited state, and the energies in this system are such that no atoms will populate the second excited state. Then, this becomes a two state system where:\n",
    "\n",
    "$$\n",
    "W = \\frac{N!}{n!(N-n)!}\n",
    "$$\n",
    "\n",
    "Where $N$ is the number of atoms and $n$ is the number of energy units $\\varepsilon$. \n",
    "\n",
    "a.) calculate and print the change in entropy of this process. "
   ]
  },
  {
   "cell_type": "code",
   "execution_count": null,
   "id": "c924ae48",
   "metadata": {
    "deletable": false,
    "nbgrader": {
     "cell_type": "code",
     "checksum": "e6a5f6b9abf41f931f4e2e2fc9a59b41",
     "grade": true,
     "grade_id": "cell-2ace0dd94c3387d7",
     "locked": false,
     "points": 1,
     "schema_version": 3,
     "solution": true,
     "task": false
    }
   },
   "outputs": [],
   "source": [
    "#Calculate the change in entropy of this process.\n",
    "#Hint: you may find it useful to define a function to calculate entropy\n",
    "\n",
    "# YOUR CODE HERE\n",
    "raise NotImplementedError()"
   ]
  },
  {
   "cell_type": "markdown",
   "id": "4dbf4090",
   "metadata": {
    "deletable": false,
    "editable": false,
    "nbgrader": {
     "cell_type": "markdown",
     "checksum": "80482a46dfe2657c60cda41c2c227fa5",
     "grade": false,
     "grade_id": "cell-349953cc41025b35",
     "locked": true,
     "schema_version": 3,
     "solution": false,
     "task": false
    }
   },
   "source": [
    "b.) Use this result to make a <i>mechanistic, molecular</i> argument about what drives this process and why, in terms of microstates and probabilities. "
   ]
  },
  {
   "cell_type": "markdown",
   "id": "18395997",
   "metadata": {
    "deletable": false,
    "nbgrader": {
     "cell_type": "markdown",
     "checksum": "42ba54a81c26529a5b746f85703fcf80",
     "grade": true,
     "grade_id": "cell-a6630ab273321a15",
     "locked": false,
     "points": 1,
     "schema_version": 3,
     "solution": true,
     "task": false
    }
   },
   "source": [
    "YOUR ANSWER HERE"
   ]
  },
  {
   "cell_type": "markdown",
   "id": "2cb08324",
   "metadata": {
    "deletable": false,
    "editable": false,
    "nbgrader": {
     "cell_type": "markdown",
     "checksum": "06af7970daf41973187422ea36f55b6b",
     "grade": false,
     "grade_id": "cell-4290b58fbafa1381",
     "locked": true,
     "schema_version": 3,
     "solution": false,
     "task": false
    }
   },
   "source": [
    "### Problem 5.2.2\n",
    "\n",
    "Problem 5.2.1 is easy to formulate if we have a reasonable functional description of the system microstates in terms of the energy distribution of the system. However, often we don't. Notice how even in that case, we made assumptions to make the system a two-state system? \n",
    "\n",
    "Let's consider this system again using experimentally measurable quantities: \n",
    "\n",
    "![image](Problem5_2_2.jpg)\n",
    "\n",
    "Assume pressure and volume are constants in this system. Model the atoms in the solid as being translationally and rotationally constrained: that is, they are only free to vibrate. \n",
    "\n",
    "(Hint: That means that $C_V=C_P$, which is due purely to the vibrational degrees of freedom in three directions)\n",
    "\n",
    "a.) **Calculate and print the change in entropy associated with this process.**"
   ]
  },
  {
   "cell_type": "code",
   "execution_count": null,
   "id": "8bf9db1f",
   "metadata": {
    "deletable": false,
    "nbgrader": {
     "cell_type": "code",
     "checksum": "cd216524e03d884a6b959f586aeb8a78",
     "grade": true,
     "grade_id": "cell-6b6b4a72e994f068",
     "locked": false,
     "points": 1,
     "schema_version": 3,
     "solution": true,
     "task": false
    }
   },
   "outputs": [],
   "source": [
    "# YOUR CODE HERE\n",
    "raise NotImplementedError()\n"
   ]
  },
  {
   "cell_type": "markdown",
   "id": "b3feca9d",
   "metadata": {
    "deletable": false,
    "editable": false,
    "nbgrader": {
     "cell_type": "markdown",
     "checksum": "3771cbf4d7440a29a0e0fb0b367a924c",
     "grade": false,
     "grade_id": "cell-1f6377e7de7e589c",
     "locked": true,
     "schema_version": 3,
     "solution": false,
     "task": false
    }
   },
   "source": [
    "b.) Use this result to make a mechanistic, molecular argument about what drives thermal equilibration. Be sure to discuss <i>why</i> this happens, in terms of how energy influences microstates and probabilities."
   ]
  },
  {
   "cell_type": "markdown",
   "id": "0cf8c2ce",
   "metadata": {
    "deletable": false,
    "nbgrader": {
     "cell_type": "markdown",
     "checksum": "999dabc5da73dd87da97f0b73ab61e31",
     "grade": true,
     "grade_id": "cell-cfc14251c4cbe063",
     "locked": false,
     "points": 1,
     "schema_version": 3,
     "solution": true,
     "task": false
    }
   },
   "source": [
    "YOUR ANSWER HERE"
   ]
  },
  {
   "cell_type": "markdown",
   "id": "0e3ed2b6",
   "metadata": {
    "deletable": false,
    "editable": false,
    "nbgrader": {
     "cell_type": "markdown",
     "checksum": "96b4138280932016e03f55129323f670",
     "grade": false,
     "grade_id": "cell-168d904a930b1d3b",
     "locked": true,
     "schema_version": 3,
     "solution": false,
     "task": false
    }
   },
   "source": [
    "## Section 5.3: Entropy Surfaces (a classical perspective)\n",
    "\n",
    "We have encountered a new state function: $S(T, P)$. Here, our goal is to construct $S(T,P)$ surfaces for water in its gas, liquid, and solid forms. We do that by integrating the differential equation of state for entropy:\n",
    "\n",
    "$$\n",
    "dS=\\left(\\frac{\\partial S}{\\partial T}\\right)_P dT + \\left(\\frac{\\partial S}{\\partial P}\\right)_T dP \\ \\ \\ (1)\n",
    "$$\n",
    "\n",
    "And since:\n",
    "\n",
    "$$\n",
    "dS=\\frac{C_P}{T}dT-V\\alpha_P dP \\ \\ \\ (2)\n",
    "$$\n",
    "\n",
    "We can say: \n",
    "$$\n",
    "\\left( \\frac{\\partial S}{\\partial T}\\right)_P = \\frac{C_P}{T} \\ \\ \\ (3)\n",
    "$$\n",
    "\n",
    "$$\n",
    "\\left( \\frac{\\partial S}{\\partial P}\\right)_T = -V\\alpha_P \\ \\ \\ (4) \n",
    "$$\n",
    "\n",
    "These equations would apply to any pure substance. For example, for liquid water the first term of equation (2) would be $C_{P\\text{,liq}}/T$, and $V_\\text{liq}$, $\\alpha_{P\\text{,liq}}$, and so on. \n",
    "\n",
    "Recall that these quantities are temperature- and pressure-dependent. For precise work, we would want to formulate them as functions of temperature and pressure. However, for our present purposes, these assumptions will greatly simplify matters and still produce reasonable results:\n",
    "\n",
    "1. $C_P$ can be represented as a constant for each phase ($C_{P\\text{, gas}}$ ,  $C_{P\\text{, liq}}$ ,  $C_{P\\text{, solid}}$)\n",
    "2. For water vapor, we will assume ideal gas behavior. Thus:\n",
    "$$V\\alpha_P \\approx \\frac{nR}{P} \\ \\ \\ (5)$$\n",
    "3. For solid and liquid water, $V\\alpha_P$ is constant. \n",
    "\n",
    "\n",
    "All these quantities are molar quantities according to the constants we've established above. \n",
    "\n",
    "To generate the $S(T,P)$ state space, we need to integrate $dS$. We could do this analytically, but it's a lot easier to do numerically using $\\left(\\partial S/\\partial T\\right)_P$ and $\\left(\\partial S/\\partial P\\right)_T$. \n",
    "\n",
    "To make this easier to do over a state space, we are going to use a function contained in PChem_Library.py: `PL.Integrator(statespace,dF_dx,dF_dy)`. \n",
    "\n",
    "**First, we lay out a temperature-pressure state space, and define useful constants**"
   ]
  },
  {
   "cell_type": "code",
   "execution_count": null,
   "id": "ab33450b",
   "metadata": {
    "deletable": false,
    "editable": false,
    "nbgrader": {
     "cell_type": "code",
     "checksum": "26d19bca59d0b55506aa12548706527b",
     "grade": false,
     "grade_id": "cell-b745ee094c32a85f",
     "locked": true,
     "schema_version": 3,
     "solution": false,
     "task": false
    }
   },
   "outputs": [],
   "source": [
    "Tgrid, Pgrid = PL.Statespace([200,400,100],[1e5,1e6,101])\n",
    "R = 8.314 #J/(mol K) \n",
    "M_H2O = 0.018 #kg/mol - molar mass of water \n",
    "\n",
    "#heat capacities \n",
    "CP_gas=33.6 #J/(mol K) \n",
    "CP_liq=75.4 #J/(mol K)\n",
    "CP_sol=38.0 #J/(mol K)\n",
    "\n",
    "#molar volumes (as a state-space grid)\n",
    "Vgrid_liq=0.018*np.ones(np.shape(Pgrid)) #m^3/mol\n",
    "Vgrid_sol=1.1*Vgrid_liq #m^3/mol \n",
    "\n",
    "#constant-pressure thermal expansion coefficients (alpha_P)\n",
    "alpha_P_liq = 2.1e-4 #1/K\n",
    "alpha_P_sol = alpha_P_liq #1/K - assuming they are approx the same\n",
    "\n",
    "#standard state conditions, in SI units:\n",
    "T0 =298 #K\n",
    "P0 = 1e5 #Pascals \n",
    "\n",
    "#standard state conditions (T0, P0, S0)\n",
    "SS_gas = [T0, P0, 188.835] #S0 in units J/(mol K)\n",
    "SS_liq = [T0, P0, 69.95] #S0 in units J/(mol K)\n",
    "SS_sol = [T0, P0, 46.5] #S0 in units J/(mol K)\n",
    "\n",
    "#let's set a consistent color scheme to make it easier to read the plots\n",
    "color_gas = 'dodgerblue'\n",
    "color_liq = 'fuchsia'\n",
    "color_sol = 'lawngreen'"
   ]
  },
  {
   "cell_type": "markdown",
   "id": "6442a9b4",
   "metadata": {
    "deletable": false,
    "editable": false,
    "nbgrader": {
     "cell_type": "markdown",
     "checksum": "569ee8ee6a93447d9005c9a49fe19831",
     "grade": false,
     "grade_id": "cell-3534e532538aa40a",
     "locked": true,
     "schema_version": 3,
     "solution": false,
     "task": false
    }
   },
   "source": [
    "**Now we plot $\\left(\\partial S/\\partial T \\right)_P$ for a gas.**"
   ]
  },
  {
   "cell_type": "code",
   "execution_count": null,
   "id": "abe14f1f",
   "metadata": {
    "deletable": false,
    "editable": false,
    "nbgrader": {
     "cell_type": "code",
     "checksum": "6f65fa596602531b7398008a24b8b193",
     "grade": false,
     "grade_id": "cell-a72f78c402eae8d9",
     "locked": true,
     "schema_version": 3,
     "solution": false,
     "task": false
    }
   },
   "outputs": [],
   "source": [
    "#dSdT for gas\n",
    "\n",
    "dSdT_gas = CP_gas/Tgrid\n",
    "\n",
    "plt.figure()\n",
    "ax = PL.plot_surface(Tgrid, Pgrid, dSdT_gas, color=color_gas)\n",
    "ax.set_xlabel('T (K)')\n",
    "ax.set_ylabel('P (Pa)')\n",
    "ax.set_zlabel('$(\\partial S/\\partial T)_P$ ')\n",
    "ax.set_title('Gas')"
   ]
  },
  {
   "cell_type": "markdown",
   "id": "ed52bf62",
   "metadata": {
    "deletable": false,
    "editable": false,
    "nbgrader": {
     "cell_type": "markdown",
     "checksum": "33b9a26778e2a34ae494c765a54fe5ae",
     "grade": false,
     "grade_id": "cell-408440b7cb6649a1",
     "locked": true,
     "schema_version": 3,
     "solution": false,
     "task": false
    }
   },
   "source": [
    "### Problem 5.3.1 \n",
    "\n",
    "a.) In one figure window, plot $\\left(\\partial S/\\partial T \\right)_P$ for a liquid (call it `dSdT_liq`), and a solid (call it `dSdT_sol`). use `color_liq` and `color_sol` for your surface colors. \n",
    "\n",
    "<u>Note</u>: to plot multiple surfaces in the same figure window, in your _second_  instances of `PL.plot_surface`, you will need to include two additional arguments: `overlay=True` and `ax=ax`, where ax is the name of the axes your first surface is plotted into. "
   ]
  },
  {
   "cell_type": "code",
   "execution_count": null,
   "id": "3a24d48a",
   "metadata": {
    "deletable": false,
    "nbgrader": {
     "cell_type": "code",
     "checksum": "5bd2d4940c0296df86c5fba35ae8c4be",
     "grade": true,
     "grade_id": "cell-7919de5296f0390f",
     "locked": false,
     "points": 1,
     "schema_version": 3,
     "solution": true,
     "task": false
    }
   },
   "outputs": [],
   "source": [
    "# YOUR CODE HERE\n",
    "raise NotImplementedError()"
   ]
  },
  {
   "cell_type": "markdown",
   "id": "cd41f1be",
   "metadata": {
    "deletable": false,
    "editable": false,
    "nbgrader": {
     "cell_type": "markdown",
     "checksum": "4b64ed4dbc83288317cc1180335d137f",
     "grade": false,
     "grade_id": "cell-1dbff11f4ad94f51",
     "locked": true,
     "schema_version": 3,
     "solution": false,
     "task": false
    }
   },
   "source": [
    "b.) **Interpret your answer**. Is this what you expect? Why is the entropy of the liquid so much more pressure dependent than the entropy of the solid and the gas? "
   ]
  },
  {
   "cell_type": "markdown",
   "id": "a7e68e03",
   "metadata": {
    "deletable": false,
    "nbgrader": {
     "cell_type": "markdown",
     "checksum": "1534016ed8de768f69f30c71057a52cb",
     "grade": true,
     "grade_id": "cell-34742b5e3184da1f",
     "locked": false,
     "points": 1,
     "schema_version": 3,
     "solution": true,
     "task": false
    }
   },
   "source": [
    "YOUR ANSWER HERE"
   ]
  },
  {
   "cell_type": "markdown",
   "id": "cb2929c9",
   "metadata": {
    "deletable": false,
    "editable": false,
    "nbgrader": {
     "cell_type": "markdown",
     "checksum": "c319b3a665e268d9de8d60c21805f9af",
     "grade": false,
     "grade_id": "cell-1d03637ea901df09",
     "locked": true,
     "schema_version": 3,
     "solution": false,
     "task": false
    }
   },
   "source": [
    "### Problem 5.3.2 \n",
    "a.) Plot $\\left(\\partial S/\\partial P \\right)_T$ for all three phases of water. Call these `dSdP_gas`, `dSdP_liq`, and `dSdP_sol`.\n",
    "\n",
    "You can plot these in the same graph, or in different graphs - your choice. "
   ]
  },
  {
   "cell_type": "code",
   "execution_count": null,
   "id": "6e66f5db",
   "metadata": {
    "deletable": false,
    "nbgrader": {
     "cell_type": "code",
     "checksum": "9a27bc7e9c25782036f33b050eadc4d0",
     "grade": true,
     "grade_id": "cell-05216a435041842d",
     "locked": false,
     "points": 1,
     "schema_version": 3,
     "solution": true,
     "task": false
    }
   },
   "outputs": [],
   "source": [
    "# YOUR CODE HERE\n",
    "raise NotImplementedError()"
   ]
  },
  {
   "cell_type": "markdown",
   "id": "03606c27",
   "metadata": {
    "deletable": false,
    "editable": false,
    "nbgrader": {
     "cell_type": "markdown",
     "checksum": "432048fb4fe5b6d42ddc547a377c723c",
     "grade": false,
     "grade_id": "cell-f23673bab565448f",
     "locked": true,
     "schema_version": 3,
     "solution": false,
     "task": false
    }
   },
   "source": [
    "b.) **Interpret your answer.** How come $\\left(\\partial S/ \\partial P \\right)_T$ looks so similar for the solid and liquid, and so different for the gas? "
   ]
  },
  {
   "cell_type": "markdown",
   "id": "a5222a4a",
   "metadata": {
    "deletable": false,
    "nbgrader": {
     "cell_type": "markdown",
     "checksum": "598b3b9f5016bc0169591e00b30a780d",
     "grade": true,
     "grade_id": "cell-88c3c53230366118",
     "locked": false,
     "points": 1,
     "schema_version": 3,
     "solution": true,
     "task": false
    }
   },
   "source": [
    "YOUR ANSWER HERE"
   ]
  },
  {
   "cell_type": "markdown",
   "id": "28287d75",
   "metadata": {
    "deletable": false,
    "editable": false,
    "nbgrader": {
     "cell_type": "markdown",
     "checksum": "0ea0f4e345eb04e730913fd32c2b1a84",
     "grade": false,
     "grade_id": "cell-9dda167acec4cfca",
     "locked": true,
     "schema_version": 3,
     "solution": false,
     "task": false
    }
   },
   "source": [
    "### S(T,P) Surfaces \n",
    "\n",
    "Above you determined $\\left(\\partial S/ \\partial P \\right)_T$ and $\\left(\\partial S/ \\partial T \\right)_P$ for solids, liquids, and gases. Below, we put these together and integrate them to establish the general $S(T,P)$ surfaces for these systems. "
   ]
  },
  {
   "cell_type": "code",
   "execution_count": null,
   "id": "77f29646",
   "metadata": {
    "deletable": false,
    "editable": false,
    "nbgrader": {
     "cell_type": "code",
     "checksum": "3f14b200a9fd8022be14a93f44234b94",
     "grade": false,
     "grade_id": "cell-5ca7ee476d5cd165",
     "locked": true,
     "schema_version": 3,
     "solution": false,
     "task": false
    }
   },
   "outputs": [],
   "source": [
    "#integrate over dSdT and dSdP, and combine into one 2D surface\n",
    "S_gas = PL.Integrator([Tgrid, Pgrid], dSdT_gas, dSdP_gas, SState=SS_gas)\n",
    "S_liq = PL.Integrator([Tgrid, Pgrid], dSdT_liq, dSdP_liq, SState=SS_liq)\n",
    "S_sol = PL.Integrator([Tgrid, Pgrid], dSdT_sol, dSdP_sol, SState=SS_sol)\n",
    "\n",
    "#plot the gas\n",
    "plt.figure()\n",
    "ax = PL.plot_surface(Tgrid, Pgrid, S_gas, color=color_gas)\n",
    "ax.set_xlabel('T (K)')\n",
    "ax.set_ylabel('P (Pa)')\n",
    "ax.set_zlabel('$S(T,P)$')\n",
    "ax.set_title ('Gas')\n",
    "\n",
    "#plot the liquid\n",
    "plt.figure()\n",
    "ax = PL.plot_surface(Tgrid, Pgrid, S_liq, color=color_liq)\n",
    "ax.set_xlabel('T (K)')\n",
    "ax.set_ylabel('P (Pa)')\n",
    "ax.set_zlabel('$S(T,P)$')\n",
    "ax.set_title ('Liquid')\n",
    "\n",
    "#plot the solid\n",
    "plt.figure()\n",
    "ax = PL.plot_surface(Tgrid, Pgrid, S_sol, color=color_sol)\n",
    "ax.set_xlabel('T (K)')\n",
    "ax.set_ylabel('P (Pa)')\n",
    "ax.set_zlabel('$S(T,P)$')\n",
    "ax.set_title ('Solid')\n"
   ]
  },
  {
   "cell_type": "markdown",
   "id": "8591446d",
   "metadata": {
    "deletable": false,
    "editable": false,
    "nbgrader": {
     "cell_type": "markdown",
     "checksum": "6fcff3c803add52024014f6cb3a86420",
     "grade": false,
     "grade_id": "cell-a2ed465be5c1c6de",
     "locked": true,
     "schema_version": 3,
     "solution": false,
     "task": false
    }
   },
   "source": [
    "### Problem 5.3.3 \n",
    "**Interpret this result.** In the cell below, address the following questions:\n",
    "\n",
    "1. What do you notice about these systems? Is this consistent with what you would expect of the relative entropy of solids, liquids, and gases? Why or why not? Explain in terms of microstates and energy distribution. \n",
    "<br>\n",
    "\n",
    "2. Does increasing pressure have a consistent impact on entropy in all these systems? If so: does that make sense? If not: why not? (Pay special attention to the shape of the gas surface)."
   ]
  },
  {
   "cell_type": "markdown",
   "id": "63758792",
   "metadata": {
    "deletable": false,
    "nbgrader": {
     "cell_type": "markdown",
     "checksum": "89ca9e0610e6ca2790bd988ce919b03d",
     "grade": true,
     "grade_id": "cell-36534ecb3ff25d2b",
     "locked": false,
     "points": 1,
     "schema_version": 3,
     "solution": true,
     "task": false
    }
   },
   "source": [
    "YOUR ANSWER HERE"
   ]
  },
  {
   "cell_type": "markdown",
   "id": "8f86d0b1",
   "metadata": {
    "deletable": false,
    "editable": false,
    "nbgrader": {
     "cell_type": "markdown",
     "checksum": "31bcb59694e814cf0b856594aa05c104",
     "grade": false,
     "grade_id": "cell-5c7f5c085fcc3793",
     "locked": true,
     "schema_version": 3,
     "solution": false,
     "task": false
    }
   },
   "source": [
    "## CGI_05 Reflection \n",
    "\n",
    "In the Python Reference section of your notebook, record:\n",
    "- Descriptions of any python tools you had to look up or refer to (e.g. log, factorial, etc) \n",
    "\n",
    "<br>\n",
    "\n",
    "In the Chemical Thermodynamics section of your notebook, record:\n",
    "- Key equations that can be used to describe the entropies and entropy changes of systems, and a paragraph summarizing entropy (what it is, does, and means about a system).  "
   ]
  },
  {
   "cell_type": "markdown",
   "id": "9e8056a7",
   "metadata": {
    "deletable": false,
    "nbgrader": {
     "cell_type": "markdown",
     "checksum": "8c6bbcdb3005397d6b29d86bf96e4219",
     "grade": true,
     "grade_id": "cell-fbcea0f6f8e355fd",
     "locked": false,
     "points": 1,
     "schema_version": 3,
     "solution": true,
     "task": false
    }
   },
   "source": [
    "YOUR ANSWER HERE"
   ]
  }
 ],
 "metadata": {
  "kernelspec": {
   "display_name": "Python 3",
   "language": "python",
   "name": "python3"
  },
  "language_info": {
   "codemirror_mode": {
    "name": "ipython",
    "version": 3
   },
   "file_extension": ".py",
   "mimetype": "text/x-python",
   "name": "python",
   "nbconvert_exporter": "python",
   "pygments_lexer": "ipython3",
   "version": "3.8.8"
  }
 },
 "nbformat": 4,
 "nbformat_minor": 5
}
