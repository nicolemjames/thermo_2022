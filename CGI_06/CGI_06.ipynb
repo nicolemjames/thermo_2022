{
 "cells": [
  {
   "cell_type": "markdown",
   "id": "987e1168",
   "metadata": {},
   "source": [
    "Make sure you fill in any place that says `YOUR CODE HERE` or \"YOUR ANSWER HERE\", and delete any instances of `raise NotImplementedError()` (those are just to make sure you don't forget to complete a block. "
   ]
  },
  {
   "cell_type": "markdown",
   "id": "1f9ad29a",
   "metadata": {},
   "source": [
    "---"
   ]
  },
  {
   "cell_type": "markdown",
   "id": "66017046",
   "metadata": {
    "deletable": false,
    "editable": false,
    "nbgrader": {
     "cell_type": "markdown",
     "checksum": "60481a58deac55db5d2ce88621814354",
     "grade": false,
     "grade_id": "cell-74f6100165c48230",
     "locked": true,
     "schema_version": 3,
     "solution": false,
     "task": false
    }
   },
   "source": [
    "# CGI_06\n",
    "\n",
    "**Learning Goals in this CGI:**<br>\n",
    "Goal 4.1: Conceptually describe free energy <br>\n",
    "Goal 4.2: Use free energy values to predict and/or explain system behavior <br>\n",
    "Goal 4.3: Calculate and plot free energy surfaces <br>\n",
    "Goal 4.4: Interpret free energy surfaces <br>\n",
    "Goal 4.5: Describe metastability and how it relates to free energy landscapes <br>\n",
    "\n",
    "Up to now, we have spent substantial time building an understanding of key thermodynamic processes and state functions, perhaps most notably $U$, $H$, and $S$. Often in these discussions, we have constructed somewhat highly constrained systems where there is only one driving force at a time. Free energy is a tool for examining systems where multiple driving forces may occur simultaneously, and making predictions about the behavior of such systems. \n"
   ]
  },
  {
   "cell_type": "markdown",
   "id": "62092068",
   "metadata": {
    "deletable": false,
    "editable": false,
    "nbgrader": {
     "cell_type": "markdown",
     "checksum": "d9aeb6c3cb4b4e9123ddd5c5d8501779",
     "grade": false,
     "grade_id": "cell-ccfe10fa06fe4755",
     "locked": true,
     "schema_version": 3,
     "solution": false,
     "task": false
    }
   },
   "source": [
    "## Section 6.1: Free Energy \n",
    "\n",
    "### Problem 6.1.1 \n",
    "\n",
    "a.) Explain the relationship between free energy and work. You don't need to repeat the full derivation, but do be as explicit as possible about the relationship between the free energy values, the nature of the associated work, and the resulting system behavior. "
   ]
  },
  {
   "cell_type": "markdown",
   "id": "274b196b",
   "metadata": {
    "deletable": false,
    "nbgrader": {
     "cell_type": "markdown",
     "checksum": "554d4db8884481e40ab80416e8f4540e",
     "grade": true,
     "grade_id": "cell-9b359ed7e2d73993",
     "locked": false,
     "points": 1,
     "schema_version": 3,
     "solution": true,
     "task": false
    }
   },
   "source": [
    "YOUR ANSWER HERE"
   ]
  },
  {
   "cell_type": "markdown",
   "id": "fbf20cac",
   "metadata": {
    "deletable": false,
    "editable": false,
    "nbgrader": {
     "cell_type": "markdown",
     "checksum": "515abad9311ea064f3d042d81b2495df",
     "grade": false,
     "grade_id": "cell-54be3441e6a7714c",
     "locked": true,
     "schema_version": 3,
     "solution": false,
     "task": false
    }
   },
   "source": [
    "b.) Explain the similarities and differences between Gibbs Free Energy and Helmholtz Free Energy. "
   ]
  },
  {
   "cell_type": "markdown",
   "id": "83ec9cc6",
   "metadata": {
    "deletable": false,
    "nbgrader": {
     "cell_type": "markdown",
     "checksum": "faeda8811a5fd6da87a70261fe459140",
     "grade": true,
     "grade_id": "cell-2a6fc309b7fc1849",
     "locked": false,
     "points": 1,
     "schema_version": 3,
     "solution": true,
     "task": false
    }
   },
   "source": [
    "YOUR ANSWER HERE"
   ]
  },
  {
   "cell_type": "markdown",
   "id": "e2b30baa",
   "metadata": {
    "deletable": false,
    "editable": false,
    "nbgrader": {
     "cell_type": "markdown",
     "checksum": "8416cceeaff0de9f774fd170d7660074",
     "grade": false,
     "grade_id": "cell-ba9084a6d93a0f7c",
     "locked": true,
     "schema_version": 3,
     "solution": false,
     "task": false
    }
   },
   "source": [
    "c.) Describe one example of how free energy has manifested in any of your prior courses. Then, explain: \n",
    "- Which free energy was used (Gibbs or Helmholtz) and why it was appropriate\n",
    "- How this usage is consistent with your description in (a). "
   ]
  },
  {
   "cell_type": "markdown",
   "id": "a0ccde5f",
   "metadata": {
    "deletable": false,
    "nbgrader": {
     "cell_type": "markdown",
     "checksum": "bd7479bc353d47ca46856ace61246b5c",
     "grade": true,
     "grade_id": "cell-d8bc4e16ef2c21af",
     "locked": false,
     "points": 1,
     "schema_version": 3,
     "solution": true,
     "task": false
    }
   },
   "source": [
    "YOUR ANSWER HERE"
   ]
  },
  {
   "cell_type": "markdown",
   "id": "9b3e8533",
   "metadata": {
    "deletable": false,
    "editable": false,
    "nbgrader": {
     "cell_type": "markdown",
     "checksum": "337aa709a5931a03f80983f324c83691",
     "grade": false,
     "grade_id": "cell-617e83748e593856",
     "locked": true,
     "schema_version": 3,
     "solution": false,
     "task": false
    }
   },
   "source": [
    "## Section 6.2: Gibbs Free Energy of Mixing \n",
    "\n",
    "As discussed in class, Gibbs free energy is a state function, and thus useful for understanding, describing, and predicting the state of the system and its likelihood to undergo various processes. In class we discussed the differential equation of state for the Gibbs energy: \n",
    "\n",
    "$$\n",
    "dG = -SdT + VdP\n",
    "$$\n",
    "\n",
    "and how we can integrate this differential equation to construct the $G(T,P)$ surface, which we used to comment on the coexistence of liquid and gas phases of water. \n",
    "\n",
    "Here, we want to examine a different process: the mixing of two chemicals. \n",
    "\n",
    "### Problem 6.2.1 \n",
    "**First: A Prediction.**  Imagine you have two stock solutions, $A$ and $B$, which are separate but combined into the same solution, as shown in the image below. Both solution are aqueous, one has $n_A$ moles of dissolved A, and the other has $n_B$ moles of dissolved B. What do you predict will happen to this system over time? Why? \n",
    "\n",
    "<img src=\"AB_unmixed.jpg\" width=\"50\">"
   ]
  },
  {
   "cell_type": "markdown",
   "id": "06f27995",
   "metadata": {
    "deletable": false,
    "nbgrader": {
     "cell_type": "markdown",
     "checksum": "9e065f0356b44f2f1655ee2ff3bc55d4",
     "grade": true,
     "grade_id": "cell-5122ba5b777ea0c0",
     "locked": false,
     "points": 1,
     "schema_version": 3,
     "solution": true,
     "task": false
    }
   },
   "source": [
    "YOUR ANSWER HERE"
   ]
  },
  {
   "cell_type": "markdown",
   "id": "c3c7ca8d",
   "metadata": {
    "deletable": false,
    "editable": false,
    "nbgrader": {
     "cell_type": "markdown",
     "checksum": "8b52763d90c3eedc9064b97fe156f8af",
     "grade": false,
     "grade_id": "cell-e61028af9689417f",
     "locked": true,
     "schema_version": 3,
     "solution": false,
     "task": false
    }
   },
   "source": [
    "To describe this in terms of Gibbs free energy, we will construct a thermodynamic surface that is a function of $n_A$ and $n_B$: $G(n_A, n_B)$. The figure below shows how to picture this system, which is experimentally analogous to mixing different volumes of each stock solution. \n",
    "\n",
    "<img src=\"nAnB.jpg\" width=\"250\">\n",
    "\n",
    "Thus, we can characterize the standard Gibbs energy of each individual (pure) solution as a function of $n_A$ and $n_B$, based on the standard Gibbs energy of formations $\\Delta G^o_f(A)$ and $\\Delta G^o_f(B)$: \n",
    "\n",
    "$$G^o_A = n_A\\Delta G^o_f(A)$$\n",
    "$$G^o_B = n_B\\Delta G^o_f(B)$$\n",
    "\n",
    "The Gibbs free energy $G$ of the mixture is thus the combination of the Gibbs free energy of formation $G^o_f$ of all the constituent components, plus the work done to move chemicals against the concentration gradient in order to mix, $\\Delta G_\\text{mix}$\n",
    "\n",
    "$$ G=G^o_f+\\Delta G_\\text{mix}$$\n",
    "\n",
    "Where: \n",
    "$$G^o_f = n_A\\Delta G^o_f(A) + n_B\\Delta G^o_f(B)$$ \n",
    "and:\n",
    "$$\\Delta G_\\text{mix}=\\Delta H_\\text{mix}-T\\Delta S_\\text{mix}$$\n",
    "\n",
    "If we model the system as an ideal solution, the enthalpy of solvation is 0, and thus: \n",
    "\n",
    "$$\\Delta G_\\text{mix}=-T\\Delta S_\\text{mix}$$\n",
    "\n",
    "We can [derive](https://en.wikipedia.org/wiki/Entropy_of_mixing#Proof_from_statistical_mechanics) $\\Delta S_\\text{mix}$ based on the number of possible microstates, as a function of the mole fractions $\\chi$ of $A$ and $B$: \n",
    "\n",
    "$$\n",
    "\\Delta S_\\text{mix}=-R\\left( \\chi_A \\ln \\chi_A+\\chi_B \\ln \\chi_B \\right)\n",
    "$$\n",
    "\n",
    "Such that:\n",
    "\n",
    "$$\\Delta G_\\text{mix} = n_\\text{total} RT \\left( \\chi_A \\ln \\chi_A+\\chi_B \\ln \\chi_B \\right)\n",
    "$$\n",
    "\n",
    "where: \n",
    "\n",
    "$$\n",
    "\\chi_i = \\frac{n_i}{n_\\text{total}}\n",
    "$$\n",
    "\n",
    "and:\n",
    "\n",
    "$$\n",
    "n_\\text{total}=n_A+n_B\n",
    "$$\n",
    "\n",
    "**In this section, our goal is to plot the gibbs energy surface associated with a mixing process.**"
   ]
  },
  {
   "cell_type": "code",
   "execution_count": null,
   "id": "75e3ac1d",
   "metadata": {
    "deletable": false,
    "editable": false,
    "nbgrader": {
     "cell_type": "code",
     "checksum": "86e14912693cdb0fdd008dbf1244e088",
     "grade": false,
     "grade_id": "cell-becd0e7b204ecdd3",
     "locked": true,
     "schema_version": 3,
     "solution": false,
     "task": false
    }
   },
   "outputs": [],
   "source": [
    "import numpy as np\n",
    "import matplotlib.pyplot as plt\n",
    "import PchemLibrary as PL\n",
    "from mpl_toolkits.mplot3d import axes3d\n",
    "%matplotlib notebook"
   ]
  },
  {
   "cell_type": "code",
   "execution_count": null,
   "id": "2060d182",
   "metadata": {
    "deletable": false,
    "editable": false,
    "nbgrader": {
     "cell_type": "code",
     "checksum": "953b74ec29e8ead4ca4c12ce1ab836e2",
     "grade": false,
     "grade_id": "cell-29f2d1283799f568",
     "locked": true,
     "schema_version": 3,
     "solution": false,
     "task": false
    }
   },
   "outputs": [],
   "source": [
    "%matplotlib inline"
   ]
  },
  {
   "cell_type": "markdown",
   "id": "c0532fdf",
   "metadata": {
    "deletable": false,
    "editable": false,
    "nbgrader": {
     "cell_type": "markdown",
     "checksum": "b96f8427f83f0ef5b27cbff4acf7a5b4",
     "grade": false,
     "grade_id": "cell-f25308ac587b645a",
     "locked": true,
     "schema_version": 3,
     "solution": false,
     "task": false
    }
   },
   "source": [
    "###  Problem 6.2.2 \n",
    "\n",
    "a.) Below, plot the surface that describes the total Gibbs energy of the unmixed reagents, $G^o_f(n_A, n_B)$. Let $n_A$ and $n_B$ both range from 0.001 mol to 0.999 mol. Let $n_A$ and $n_B$ have 50 and 51 data points in this range, respectively."
   ]
  },
  {
   "cell_type": "code",
   "execution_count": null,
   "id": "dddf6c3f",
   "metadata": {
    "deletable": false,
    "nbgrader": {
     "cell_type": "code",
     "checksum": "6aefb92a27f5a5ac6ae8f5d796f4a723",
     "grade": true,
     "grade_id": "cell-2e1451312fcde0d4",
     "locked": false,
     "points": 1,
     "schema_version": 3,
     "solution": true,
     "task": false
    }
   },
   "outputs": [],
   "source": [
    "#Some useful standard gibbs energy of formations\n",
    "G0A = 3000 #J/mol\n",
    "G0B = 1000 #J/mol \n",
    "\n",
    "#create the nA, nB statespace \n",
    "\n",
    "#calculate G0 \n",
    "\n",
    "#plot G0(nA, nB)\n",
    "\n",
    "# YOUR CODE HERE\n",
    "raise NotImplementedError()"
   ]
  },
  {
   "cell_type": "markdown",
   "id": "dce76d6d",
   "metadata": {
    "deletable": false,
    "editable": false,
    "nbgrader": {
     "cell_type": "markdown",
     "checksum": "92e83f8026d1b51773c1f5a5a122860c",
     "grade": false,
     "grade_id": "cell-52eacea236b0610f",
     "locked": true,
     "schema_version": 3,
     "solution": false,
     "task": false
    }
   },
   "source": [
    "b.) Calculate and plot $\\Delta G_\\text{mix}(n_A, n_B)$ at 298 K. "
   ]
  },
  {
   "cell_type": "code",
   "execution_count": null,
   "id": "74991f16",
   "metadata": {
    "deletable": false,
    "nbgrader": {
     "cell_type": "code",
     "checksum": "5a0c7fb56277b341ed02fa70b9d646c1",
     "grade": true,
     "grade_id": "cell-4f3150ab80e8f130",
     "locked": false,
     "points": 1,
     "schema_version": 3,
     "solution": true,
     "task": false
    }
   },
   "outputs": [],
   "source": [
    "# YOUR CODE HERE\n",
    "raise NotImplementedError()"
   ]
  },
  {
   "cell_type": "markdown",
   "id": "763f9d8d",
   "metadata": {
    "deletable": false,
    "editable": false,
    "nbgrader": {
     "cell_type": "markdown",
     "checksum": "ee43a3ed897dae18d74e5adf1d43b613",
     "grade": false,
     "grade_id": "cell-56d14eef77717f44",
     "locked": true,
     "schema_version": 3,
     "solution": false,
     "task": false
    }
   },
   "source": [
    "c.) **Interpret your answer** Are these surfaces what would you expect? Describe how and why _each_ makes sense. Be sure to include a conceptual rationale for why: \n",
    "\n",
    "- The $G^o_f$ surface is plane (instead of e.g. a curved surface) and tilted. \n",
    "- The $G^o_f$ surface is tilted the way it is.\n",
    "- The $\\Delta G_\\text{mix}$ surface appears to be flat along the slice defined by $n_A=0$ or $n_B=0$. \n",
    "- The $\\Delta G_\\text{mix}$ surface is shaped the way it is, and how this relates to if and how mixing happens."
   ]
  },
  {
   "cell_type": "markdown",
   "id": "c354d547",
   "metadata": {
    "deletable": false,
    "nbgrader": {
     "cell_type": "markdown",
     "checksum": "c69ed36bab3e12e03bae489aa80a1ac0",
     "grade": true,
     "grade_id": "cell-8ebcd1cdb09b6f7a",
     "locked": false,
     "points": 1,
     "schema_version": 3,
     "solution": true,
     "task": false
    }
   },
   "source": [
    "YOUR ANSWER HERE"
   ]
  },
  {
   "cell_type": "markdown",
   "id": "766e0fd7",
   "metadata": {
    "deletable": false,
    "editable": false,
    "nbgrader": {
     "cell_type": "markdown",
     "checksum": "5455e117ab33f4286b4f7bc1a9d64b4a",
     "grade": false,
     "grade_id": "cell-b87358bf435bdb1b",
     "locked": true,
     "schema_version": 3,
     "solution": false,
     "task": false
    }
   },
   "source": [
    "### Problem 6.2.3 \n",
    "\n",
    "a.) Using the surfaces you created in problem 6.2.2 above, plot the free energy $G$ of the $A$, $B$ mixture, as a function of $n_A$ and $n_B$. Be sure to assign this surface to a variable named `G`. "
   ]
  },
  {
   "cell_type": "code",
   "execution_count": null,
   "id": "a91507bc",
   "metadata": {
    "deletable": false,
    "nbgrader": {
     "cell_type": "code",
     "checksum": "2e64ebfa19071070d0fab354c9043ffd",
     "grade": true,
     "grade_id": "cell-824a410b7e8cd4fe",
     "locked": false,
     "points": 1,
     "schema_version": 3,
     "solution": true,
     "task": false
    }
   },
   "outputs": [],
   "source": [
    "# YOUR CODE HERE\n",
    "raise NotImplementedError()"
   ]
  },
  {
   "cell_type": "markdown",
   "id": "7e1fd728",
   "metadata": {
    "deletable": false,
    "editable": false,
    "nbgrader": {
     "cell_type": "markdown",
     "checksum": "911593e5e0c6baf082f752d7c37be3e0",
     "grade": false,
     "grade_id": "cell-4a2995d31a114519",
     "locked": true,
     "schema_version": 3,
     "solution": false,
     "task": false
    }
   },
   "source": [
    "b.) **Interpret your answer**. What does the plot above tell you about the system behavior? Does this agree with the prediction you made in Problem 6.2.1? Why or why not?"
   ]
  },
  {
   "cell_type": "markdown",
   "id": "8c98e741",
   "metadata": {
    "deletable": false,
    "nbgrader": {
     "cell_type": "markdown",
     "checksum": "13af8b9bea04d6d5dddca7b44288df83",
     "grade": true,
     "grade_id": "cell-2ee47df5b1081544",
     "locked": false,
     "points": 1,
     "schema_version": 3,
     "solution": true,
     "task": false
    }
   },
   "source": [
    "YOUR ANSWER HERE"
   ]
  },
  {
   "cell_type": "markdown",
   "id": "85d6f09e",
   "metadata": {
    "deletable": false,
    "editable": false,
    "nbgrader": {
     "cell_type": "markdown",
     "checksum": "225e2dc424f0cffcdc03f143dd7fac4d",
     "grade": false,
     "grade_id": "cell-37d9940c82bbd5df",
     "locked": true,
     "schema_version": 3,
     "solution": false,
     "task": false
    }
   },
   "source": [
    "### Problem 6.2.4\n",
    "\n",
    "Let's imagine we combine $A$ and $B$ by preparing the system initially unmixed, and then allowing it to mix. \n",
    "\n",
    "Imagine the $B$ component of the unmixed solution contains $n_B=0.2 \\text{ mol}$ solute, which is our frame of reference. We are going to set $n_B$ as our focus, and allow $n_A$ to mix in from a reservoir. Essentially, this is taking a slice of your $G$ plot above, along $n_B=0.2$. The code cell below does this and plots the slice. "
   ]
  },
  {
   "cell_type": "code",
   "execution_count": null,
   "id": "3b07db78",
   "metadata": {
    "deletable": false,
    "editable": false,
    "nbgrader": {
     "cell_type": "code",
     "checksum": "95beef4abf6a69288d7a2d4e67ba2bb4",
     "grade": false,
     "grade_id": "cell-3596ca017c0b85d1",
     "locked": true,
     "schema_version": 3,
     "solution": false,
     "task": false
    }
   },
   "outputs": [],
   "source": [
    "nA=np.linspace(0.001, 0.999, 51)\n",
    "\n",
    "plt.figure()\n",
    "plt.plot(nA, G[:][5])\n",
    "plt.ylabel(\"$G$ (J)\")\n",
    "plt.xlabel(\"$n_A$ (mol)\")"
   ]
  },
  {
   "cell_type": "markdown",
   "id": "0be0f827",
   "metadata": {
    "deletable": false,
    "editable": false,
    "nbgrader": {
     "cell_type": "markdown",
     "checksum": "138a493fa629b2a3c53fe9abd54fa591",
     "grade": false,
     "grade_id": "cell-721fe6931cd811d1",
     "locked": true,
     "schema_version": 3,
     "solution": false,
     "task": false
    }
   },
   "source": [
    "**Interpret this answer.** Recall that the instanteous slope along this curve, $dG$, is related to the thermodynamic work that can be extracted from the system $\\delta w$. With this in mind:\n",
    "\n",
    "a.) Over what range of $n_A$ is it possible to extract thermodynamic work from the system? Make an argument for why this makes sense. (Hint: consider the work associated with a concentration gradient.)\n",
    "\n",
    "b.) What is significant about $n_A=0.2$? Explain this is terms of $\\delta w$. \n",
    "\n",
    "c.) Over what range of $n_A$ would mixing require an input of thermodynamic work? Why?"
   ]
  },
  {
   "cell_type": "markdown",
   "id": "7c1596e9",
   "metadata": {
    "deletable": false,
    "nbgrader": {
     "cell_type": "markdown",
     "checksum": "5364732036676f396fc71d12cde9e5c5",
     "grade": true,
     "grade_id": "cell-a21e3edff6328efd",
     "locked": false,
     "points": 1,
     "schema_version": 3,
     "solution": true,
     "task": false
    }
   },
   "source": [
    "YOUR ANSWER HERE"
   ]
  },
  {
   "cell_type": "markdown",
   "id": "bdc5bd27",
   "metadata": {
    "deletable": false,
    "editable": false,
    "nbgrader": {
     "cell_type": "markdown",
     "checksum": "fd02f786c8558f4dbbc9939b502a663c",
     "grade": false,
     "grade_id": "cell-0890638f11bda27d",
     "locked": true,
     "schema_version": 3,
     "solution": false,
     "task": false
    }
   },
   "source": [
    "## Section 6.3: Regarding the ability to explore state space\n",
    "\n",
    "It is possible to model protein conformations by molecular dynamics simulations, and extract thermodynamic data from these simulations. A 2013 paper by Gur et al.$^1$ did this for bovine pancreatic trypsin inhibitor. By mapping the conformational possibilites onto two principal components, they generate the free energy surface below. The surfaces are expressed relative to their lowest energy in units of kT. \n",
    "\n",
    "<img src=\"G_PC1_PC2.jpg\" width=\"350\">\n",
    "\n",
    "$1.$ M. Gur, E. Zomot, I. Bahar, _J. Chem. Phys._ 139, 121912 (2013); https://doi.org/10.1063/1.4816375\n",
    "\n",
    "### Problem 6.3.1 \n",
    "\n",
    "a.) Do you predict this system is able to explore this conformational state space at ambient temperature? Why or why not? "
   ]
  },
  {
   "cell_type": "markdown",
   "id": "0f1fea25",
   "metadata": {
    "deletable": false,
    "nbgrader": {
     "cell_type": "markdown",
     "checksum": "361189dbea279e6bea7f4ee36ff6a1ab",
     "grade": true,
     "grade_id": "cell-09dc7e1b1fcab91b",
     "locked": false,
     "points": 1,
     "schema_version": 3,
     "solution": true,
     "task": false
    }
   },
   "source": [
    "YOUR ANSWER HERE"
   ]
  },
  {
   "cell_type": "markdown",
   "id": "5d2dd75a",
   "metadata": {
    "deletable": false,
    "editable": false,
    "nbgrader": {
     "cell_type": "markdown",
     "checksum": "bdd7fbfee0bd512ffbb08580fa207756",
     "grade": false,
     "grade_id": "cell-aa8e6ea3b694d48f",
     "locked": true,
     "schema_version": 3,
     "solution": false,
     "task": false
    }
   },
   "source": [
    "b.) If the system were suddenly quenched to low temperatures, would it necessarily conform to the its global energy minimum? Why or why? In your explanation, include a discussion of local and global minima, the ability to explore state space, and metastability. "
   ]
  },
  {
   "cell_type": "markdown",
   "id": "f8d06100",
   "metadata": {
    "deletable": false,
    "nbgrader": {
     "cell_type": "markdown",
     "checksum": "e37006b09c528549a9937040566ecc4f",
     "grade": true,
     "grade_id": "cell-91f8130500d4685b",
     "locked": false,
     "points": 1,
     "schema_version": 3,
     "solution": true,
     "task": false
    }
   },
   "source": [
    "YOUR ANSWER HERE"
   ]
  },
  {
   "cell_type": "markdown",
   "id": "7552c7df",
   "metadata": {
    "deletable": false,
    "editable": false,
    "nbgrader": {
     "cell_type": "markdown",
     "checksum": "bbfe57f146b08ee48e9d5e024d96296d",
     "grade": false,
     "grade_id": "cell-1228616630fa6dd5",
     "locked": true,
     "schema_version": 3,
     "solution": false,
     "task": false
    }
   },
   "source": [
    "## CGI_06 Reflection. \n",
    "\n",
    "In the Python Reference section of your notebook, record:\n",
    "- Descriptions of any python tools you had to look up that were not already in your reference notebook. \n",
    "\n",
    "<br>\n",
    "\n",
    "In the Chemical Thermodynamics section of your notebook, record:\n",
    "- Key equations that can be used to describe the free energy, and a paragraph summarizing what it is, does, and means about a system."
   ]
  },
  {
   "cell_type": "code",
   "execution_count": null,
   "id": "43124253",
   "metadata": {
    "deletable": false,
    "nbgrader": {
     "cell_type": "code",
     "checksum": "d7218196553e5af30d07ec2cff75a483",
     "grade": true,
     "grade_id": "cell-5299bc3e22d0acce",
     "locked": false,
     "points": 1,
     "schema_version": 3,
     "solution": true,
     "task": false
    }
   },
   "outputs": [],
   "source": [
    "# YOUR CODE HERE\n",
    "raise NotImplementedError()"
   ]
  }
 ],
 "metadata": {
  "kernelspec": {
   "display_name": "Python 3",
   "language": "python",
   "name": "python3"
  },
  "language_info": {
   "codemirror_mode": {
    "name": "ipython",
    "version": 3
   },
   "file_extension": ".py",
   "mimetype": "text/x-python",
   "name": "python",
   "nbconvert_exporter": "python",
   "pygments_lexer": "ipython3",
   "version": "3.8.8"
  }
 },
 "nbformat": 4,
 "nbformat_minor": 5
}
